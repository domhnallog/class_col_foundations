{
 "cells": [
  {
   "cell_type": "code",
   "execution_count": 1,
   "metadata": {},
   "outputs": [
    {
     "name": "stdout",
     "output_type": "stream",
     "text": [
      "Yo!\n"
     ]
    }
   ],
   "source": [
    "print(\"Yo!\")"
   ]
  },
  {
   "cell_type": "code",
   "execution_count": 2,
   "metadata": {},
   "outputs": [
    {
     "data": {
      "text/plain": [
       "8"
      ]
     },
     "execution_count": 2,
     "metadata": {},
     "output_type": "execute_result"
    }
   ],
   "source": [
    "4+4"
   ]
  },
  {
   "cell_type": "code",
   "execution_count": 3,
   "metadata": {},
   "outputs": [
    {
     "name": "stdout",
     "output_type": "stream",
     "text": [
      "Yo!\n"
     ]
    },
    {
     "data": {
      "text/plain": [
       "8"
      ]
     },
     "execution_count": 3,
     "metadata": {},
     "output_type": "execute_result"
    }
   ],
   "source": [
    "print(\"Yo!\")\n",
    "4+4"
   ]
  },
  {
   "cell_type": "code",
   "execution_count": 4,
   "metadata": {},
   "outputs": [
    {
     "name": "stdout",
     "output_type": "stream",
     "text": [
      "Yo!\n"
     ]
    }
   ],
   "source": [
    "# Shift + Enter to run\n",
    "4+4\n",
    "print(\"Yo!\")"
   ]
  },
  {
   "cell_type": "code",
   "execution_count": 5,
   "metadata": {},
   "outputs": [
    {
     "name": "stdout",
     "output_type": "stream",
     "text": [
      "Luke Skywalker\n",
      "https://swapi.co/api/films/2/\n",
      "Requesting the data from https://swapi.co/api/films/2/\n",
      "The Empire Strikes Back\n",
      "https://swapi.co/api/films/6/\n",
      "Requesting the data from https://swapi.co/api/films/6/\n",
      "Revenge of the Sith\n",
      "https://swapi.co/api/films/3/\n",
      "Requesting the data from https://swapi.co/api/films/3/\n",
      "Return of the Jedi\n",
      "https://swapi.co/api/films/1/\n",
      "Requesting the data from https://swapi.co/api/films/1/\n",
      "A New Hope\n",
      "https://swapi.co/api/films/7/\n",
      "Requesting the data from https://swapi.co/api/films/7/\n",
      "The Force Awakens\n"
     ]
    }
   ],
   "source": [
    "import requests\n",
    "response = requests.get('https://swapi.co/api/people/1/')\n",
    "person = response.json()\n",
    "print(person['name'])\n",
    "for film_url in person['films']:\n",
    "  print(film_url)\n",
    "  print(\"Requesting the data from\", film_url)\n",
    "  response = requests.get(film_url)\n",
    "  film = response.json()\n",
    "  print(film['title'])"
   ]
  },
  {
   "cell_type": "code",
   "execution_count": null,
   "metadata": {},
   "outputs": [],
   "source": [
    "import requests\n",
    "response = requests.get('https://swapi.co/api/films/2/')\n",
    "film = response.json()\n",
    "film"
   ]
  },
  {
   "cell_type": "code",
   "execution_count": null,
   "metadata": {},
   "outputs": [],
   "source": [
    "film['characters']"
   ]
  },
  {
   "cell_type": "code",
   "execution_count": 8,
   "metadata": {},
   "outputs": [],
   "source": [
    "# Homework Part1\n",
    "## Supercool confusion"
   ]
  },
  {
   "cell_type": "markdown",
   "metadata": {},
   "source": [
    "# Homework Part1\n",
    "## Supercool confusion\n",
    "Blah blah\n",
    "print(\"Code again\")"
   ]
  },
  {
   "cell_type": "code",
   "execution_count": null,
   "metadata": {},
   "outputs": [],
   "source": []
  }
 ],
 "metadata": {
  "kernelspec": {
   "display_name": "Python 3",
   "language": "python",
   "name": "python3"
  },
  "language_info": {
   "codemirror_mode": {
    "name": "ipython",
    "version": 3
   },
   "file_extension": ".py",
   "mimetype": "text/x-python",
   "name": "python",
   "nbconvert_exporter": "python",
   "pygments_lexer": "ipython3",
   "version": "3.7.3"
  }
 },
 "nbformat": 4,
 "nbformat_minor": 2
}

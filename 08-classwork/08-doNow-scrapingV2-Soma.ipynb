{
 "cells": [
  {
   "cell_type": "markdown",
   "metadata": {},
   "source": [
    "# Do Now: Scraping"
   ]
  },
  {
   "cell_type": "markdown",
   "metadata": {},
   "source": [
    "### Imports"
   ]
  },
  {
   "cell_type": "code",
   "execution_count": 1,
   "metadata": {},
   "outputs": [],
   "source": [
    "import requests\n",
    "from bs4 import BeautifulSoup"
   ]
  },
  {
   "cell_type": "code",
   "execution_count": null,
   "metadata": {},
   "outputs": [],
   "source": []
  },
  {
   "cell_type": "markdown",
   "metadata": {},
   "source": [
    "## Question 1: New York Times\n",
    "\n",
    "I've heard that https://www.nytimes.com is an important paper, but I don't want to subscribe. Can you print out most of the headlines on the page for me?"
   ]
  },
  {
   "cell_type": "code",
   "execution_count": 2,
   "metadata": {},
   "outputs": [],
   "source": [
    "# lxml - very strict parser, throws out anything resembling bad HTML\n",
    "# html.parser - fine and good and reasonable\n",
    "# html5lib - very slow, but very very accepting\n",
    "\n",
    "response = requests.get(\"https://www.nytimes.com/\")\n",
    "doc = BeautifulSoup(response.text)"
   ]
  },
  {
   "cell_type": "markdown",
   "metadata": {},
   "source": [
    "```\n",
    "<div>\n",
    "I would say\n",
    "<p>Hello</p>\n",
    "</div>\n",
    "```"
   ]
  },
  {
   "cell_type": "code",
   "execution_count": null,
   "metadata": {},
   "outputs": [],
   "source": []
  },
  {
   "cell_type": "code",
   "execution_count": 5,
   "metadata": {},
   "outputs": [
    {
     "name": "stdout",
     "output_type": "stream",
     "text": [
      "Your Tuesday Briefing\n",
      "New York Today\n",
      "Listen to ‘The Daily’\n",
      "As U.S. and Iran Face Off, Europe Is Stuck in the Middle\n",
      "Trump’s Promises on Iran and North Korea Were Easier Said Than Done\n",
      "Cities Start to Question an American Ideal\n",
      "Is Trump a Fluke, or the Future?\n",
      "Conservative Host’s Listeners Don’t Want to Hear Doubts About Trump\n",
      "Nine Democratic candidates spoke about poverty and systemic racism at a forum.\n",
      "Racial Slurs Cost a Pro-Gun Parkland Student a Place at Harvard\n",
      "Facebook Plans Global Financial System Based on Cryptocurrency\n",
      "Here’s how Libra could work for users.\n",
      "UNC Hospital Suspends Complex Heart Surgeries on Children\n",
      "Sarah Huckabee Sanders Wants You to Know She Was Not Impressed\n",
      "Androgyny Is Now Fashionable in the W.N.B.A.\n",
      "Harvard’s False Path to Wisdom\n",
      "Is the Religious Right Privileged?\n",
      "I’m a Climber, and a Mother, and Doing Great, Thank You\n",
      "‘There’s Just No Doubt That It Will Change the World’: David Chalmers on V.R. and A.I.\n",
      "Beijing Is Treading Lightly in Hong Kong, for Now\n",
      "Stop Sneering at Bill de Blasio\n",
      "Why Isn’t Trump a Real Populist?\n",
      "A New Trump Battleground: Defining Human Rights\n",
      "‘This Is All So Deeply Personal, but I Too Will Speak Out’\n",
      "What Mississippi Abortion Access Looks Like: One at a Time\n",
      "The Boutique Fitness Boom\n",
      "How Data Can Help in the Winner-Take-All Economy\n",
      "Site Index\n",
      "Site Information Navigation\n"
     ]
    }
   ],
   "source": [
    "headlines = doc.find_all('h2')\n",
    "for headline in headlines:\n",
    "    print(headline.string)"
   ]
  },
  {
   "cell_type": "code",
   "execution_count": 12,
   "metadata": {},
   "outputs": [],
   "source": [
    "headlines = doc.find_all('span', {'class': 'balancedHeadline'})\n",
    "headlines = doc.find_all('span', class_='balancedHeadline')\n",
    "for headline in headlines:\n",
    "    print(headline.string)"
   ]
  },
  {
   "cell_type": "code",
   "execution_count": null,
   "metadata": {},
   "outputs": [],
   "source": []
  },
  {
   "cell_type": "markdown",
   "metadata": {},
   "source": [
    "## Question 2: Nike sales\n",
    "\n",
    "I need some shoes, but I also love sales! Visit https://store.nike.com/us/en_us/pw/mens-clearance/47Z7pu?ipp=120 and print out the name of every shoe that's on sale.\n",
    "\n",
    "* **Better:** No space between each shoe name (so just one per line)"
   ]
  },
  {
   "cell_type": "code",
   "execution_count": 13,
   "metadata": {},
   "outputs": [],
   "source": [
    "response = requests.get('https://store.nike.com/us/en_us/pw/mens-clearance/47Z7pu?ipp=120')\n",
    "doc = BeautifulSoup(response.text, 'html.parser')"
   ]
  },
  {
   "cell_type": "code",
   "execution_count": 14,
   "metadata": {},
   "outputs": [],
   "source": [
    "# product-display-name nsg-font-family--base edf-font-size--regular nsg-text--dark-grey"
   ]
  },
  {
   "cell_type": "code",
   "execution_count": 21,
   "metadata": {},
   "outputs": [
    {
     "name": "stdout",
     "output_type": "stream",
     "text": [
      "Nike Air Max 720\n",
      "Nike Air VaporMax 2019\n",
      "Nike Sportswear\n",
      "Nike Sportswear Tech Pack\n",
      "Nike Epic React Flyknit 2\n",
      "Nike Air Max 98\n",
      "Nike Air Max 270 SE\n",
      "Nike Free RN 5.0\n",
      "Air Jordan 11 Retro Low LE\n",
      "Air Jordan 4 Retro\n",
      "Air Jordan 3 Retro TH SP\n",
      "Air Jordan 1 Retro High OG\n",
      "Nike Air More Uptempo 720 QS 2\n",
      "Nike SB Stefan Janoski Max\n",
      "Golden State Warriors Nike Therma Flex Showtime\n",
      "Jordan Wings Classics\n",
      "Nike Zoom Fly Flyknit\n",
      "Nike Zoom Fly\n",
      "Nike Air Max 270\n",
      "Nike Air Max Dia\n",
      "LeBron 16\n",
      "Air Jordan 9 Retro\n",
      "Nike Sportswear Tech Fleece\n",
      "Nike Sportswear Tech Fleece\n",
      "Nike Zonal Cooling TW\n",
      "Nike Sportswear Tech Fleece\n",
      "Nike Air Max 97 QS\n",
      "Nike Air Max 97\n",
      "Nike Air VaporMax Plus\n",
      "Nike Free RN Flyknit 3.0\n",
      "Nike React Element 55\n",
      "Kyrie 5\n",
      "LeBron Soldier 12 SFG\n",
      "Nike Therma Elite\n",
      "Kevin Durant Earned City Edition Swingman (Golden State Warriors)\n",
      "Jordan Jumpman Air\n",
      "Nike Therma Flex Showtime\n",
      "Nike Pro Tech Pack\n",
      "Nike Therma Sphere Tech Pack\n",
      "Nike Tech Pack\n",
      "Nike Dri-FIT\n",
      "Nike Dri-FIT\n",
      "Nike Challenger\n",
      "Nike Challenger\n",
      "Air Jordan Legacy 312\n",
      "Nike Air Max Plus Premium\n",
      "Kyrie 5 x ROKIT All Star\n",
      "Nike Zoom Pegasus Turbo\n",
      "Nike Metcon Flyknit 3\n",
      "Nike Free RN 2018\n",
      "Nike Free RN Flyknit 2018\n",
      "Nike Mercurial Vapor 360 Elite Neymar Jr FG\n",
      "Nike Mercurial Vapor XII Academy Neymar Jr IC\n",
      "Nike Zoom Fly Flyknit\n",
      "Nike Revolution 4\n",
      "Air Jordan XIII Retro Metal\n",
      "Nike Sportswear Windrunner\n",
      "Nike Sportswear\n",
      "Nike Sportswear NSW\n",
      "Nike Sportswear NSW\n",
      "Nike Sportswear\n",
      "Nike Sportswear\n",
      "Nike Sportswear Windrunner\n",
      "Nike Sportswear\n",
      "Nike Sportswear\n",
      "Nike SB x NBA\n",
      "Nike Windrunner\n",
      "Nike Therma Sphere Element\n",
      "Nike Phenom\n",
      "Nike Element\n",
      "Nike\n",
      "Nike SB Icon\n",
      "Nike Rise 365 Tech Pack\n",
      "Nike Therma\n",
      "Nike SB\n",
      "Nike Odyssey React Flyknit 2\n",
      "Nike Air Skylon II\n",
      "Nike EXP-X14\n",
      "Nike Air Wildwood ACG\n",
      "Nike Okwahn II\n",
      "Nike Air Max 270 Bowfin\n",
      "Nike Air Max 97 Realtree®\n",
      "Nike Air Max 270 Premium\n",
      "Nike Air Zoom Alpha\n",
      "Nike Zoom Stefan Janoski\n",
      "Nike SB Blazer Zoom Low\n",
      "Nike Lunar Fingertrap TR\n",
      "Nike Pro\n",
      "Derrick Rose Minnesota Timberwolves Nike Dri-FIT\n",
      "NikeCourt Air Zoom Prestige\n",
      "Charlotte Hornets Jordan\n",
      "Minnesota Timberwolves Nike\n",
      "Nike Dri-FIT Victory\n",
      "Nike Dri-FIT Victory\n",
      "Air Jordan 23\n",
      "Philadelphia 76ers Nike Dri-FIT\n",
      "Nike Sportswear Heritage\n",
      "Nike Air\n",
      "Kyrie Irving Boston Celtics Nike Dri-FIT\n",
      "Brooklyn Nets Nike\n",
      "Nike Dri-FIT Momentum\n",
      "Utah Jazz Nike Dri-FIT\n",
      "San Antonio Spurs Nike Dri-FIT\n",
      "Oklahoma City Thunder Nike Dri-FIT\n",
      "Boston Celtics Nike Dri-FIT\n",
      "Philadelphia 76ers Nike Dri-FIT\n",
      "Los Angeles Lakers Nike Dri-FIT\n",
      "Cleveland Cavaliers Nike Dri-FIT\n",
      "Nike SB\n",
      "Jordan Legacy AJ 6 Infrared\n",
      "Jordan Proto-React\n",
      "Nike College Regional Locker Room East (Michigan State)\n",
      "Nike College Regional Locker Room Albany (UConn)\n",
      "Jordan UNC\n",
      "LeBron 'Bron Knows'\n",
      "Nike Hoops Elite\n",
      "Oklahoma City Thunder Nike\n",
      "Nike Element\n",
      "Boston Celtics Nike\n",
      "Detroit Pistons Nike\n"
     ]
    }
   ],
   "source": [
    "# \"CSS selectors\"\n",
    "# .product-display-name means \"the class of product-display-name\"\n",
    "#doc.select('.product-display-name')\n",
    "\n",
    "names = doc.find_all('p', class_='product-display-name')\n",
    "for name in names:\n",
    "    print(name.text)"
   ]
  },
  {
   "cell_type": "code",
   "execution_count": 25,
   "metadata": {},
   "outputs": [
    {
     "name": "stdout",
     "output_type": "stream",
     "text": [
      "Nike Air Max 720\n",
      "Nike Air VaporMax 2019\n",
      "Nike Epic React Flyknit 2\n",
      "Nike Air Max 98\n",
      "Nike Air Max 270 SE\n",
      "Nike Free RN 5.0\n",
      "Air Jordan 11 Retro Low LE\n",
      "Air Jordan 4 Retro\n",
      "Air Jordan 3 Retro TH SP\n",
      "Air Jordan 1 Retro High OG\n",
      "Nike Air More Uptempo 720 QS 2\n",
      "Nike SB Stefan Janoski Max\n",
      "Nike Zoom Fly Flyknit\n",
      "Nike Zoom Fly\n",
      "Nike Air Max 270\n",
      "Nike Air Max Dia\n",
      "LeBron 16\n",
      "Air Jordan 9 Retro\n",
      "Nike Air Max 97 QS\n",
      "Nike Air Max 97\n",
      "Nike Air VaporMax Plus\n",
      "Nike Free RN Flyknit 3.0\n",
      "Nike React Element 55\n",
      "Kyrie 5\n",
      "LeBron Soldier 12 SFG\n",
      "Air Jordan Legacy 312\n",
      "Nike Air Max Plus Premium\n",
      "Kyrie 5 x ROKIT All Star\n",
      "Nike Zoom Pegasus Turbo\n",
      "Nike Metcon Flyknit 3\n",
      "Nike Free RN 2018\n",
      "Nike Free RN Flyknit 2018\n",
      "Nike Mercurial Vapor XII Academy Neymar Jr IC\n",
      "Nike Zoom Fly Flyknit\n",
      "Nike Revolution 4\n",
      "Nike Odyssey React Flyknit 2\n",
      "Nike Air Skylon II\n",
      "Nike EXP-X14\n",
      "Nike Air Wildwood ACG\n",
      "Nike Okwahn II\n",
      "Nike Air Max 270 Bowfin\n",
      "Nike Air Max 97 Realtree®\n",
      "Nike Air Max 270 Premium\n",
      "Nike Air Zoom Alpha\n",
      "Nike Zoom Stefan Janoski\n",
      "Nike SB Blazer Zoom Low\n",
      "Nike Lunar Fingertrap TR\n",
      "NikeCourt Air Zoom Prestige\n",
      "Jordan Proto-React\n"
     ]
    }
   ],
   "source": [
    "# \"CSS selectors\"\n",
    "# .product-display-name means \"the class of product-display-name\"\n",
    "#doc.select('.product-display-name')\n",
    "\n",
    "# Find all of the big grid things that the shoes inside of\n",
    "items = doc.find_all('div', class_='grid-item')\n",
    "for item in items:\n",
    "    # is 'shoe' in the url that it seems to be hiding? If so.../\n",
    "    if 'shoe' in item['data-pdpurl']:\n",
    "        # find the 'product-display-name' and print it out\n",
    "        name = item.find('p', class_='product-display-name')\n",
    "        print(name.text)"
   ]
  },
  {
   "cell_type": "markdown",
   "metadata": {},
   "source": [
    "## Question 3: School Board Minutes\n",
    "\n",
    "Visit http://www.marylandpublicschools.org/stateboard/Pages/Meetings-2018.aspx and get a list of the school board minutes.\n",
    "\n",
    "* **Good:** Print out each link's text, and the URL it goes to\n",
    "* **Better:** I only want the meeting agendas and minutes\n",
    "* **Best:** I only want the minutes (the PDFs)\n",
    "* *Bonus: Save it to a list instead of printing it out*"
   ]
  },
  {
   "cell_type": "code",
   "execution_count": 30,
   "metadata": {},
   "outputs": [],
   "source": [
    "response = requests.get('http://www.marylandpublicschools.org/stateboard/Pages/Meetings-2018.aspx')\n",
    "doc = BeautifulSoup(response.text) "
   ]
  },
  {
   "cell_type": "code",
   "execution_count": 37,
   "metadata": {},
   "outputs": [
    {
     "name": "stdout",
     "output_type": "stream",
     "text": [
      "January 29, 2018 Board Agenda /stateboard/Pages/meeting-agendas/2018-01-29.aspx\n",
      "January 29, 2018Board Minutes​ /stateboard/Documents/minutes/2018/January292018.pdf\n",
      "January 30, 2018 Board Agenda /stateboard/Pages/meeting-agendas/2018-01-30.aspx\n",
      " /stateboard/Pages/meeting-agendas/2016-02-11.aspx\n",
      "January 30, 2018Board Minutes​ /stateboard/Documents/minutes/2018/January302018.pdf\n",
      "February 27, 2018 Board Agenda​ /stateboard/Pages/meeting-agendas/2018-02-27.aspx\n",
      "February 27, 2018 Board Minutes​ /stateboard/Documents/minutes/2018/February272018.pdf\n",
      "March 20, 2018Board Agenda​​ /stateboard/Pages/meeting-agendas/2018-03-20.aspx\n",
      "March 20, 2018Board Minutes /stateboard/Documents/minutes/2018/March202018.pdf\n",
      "April 24, 2018Board Agenda​​ /stateboard/Pages/meeting-agendas/2018-04-24.aspx\n",
      "April 24, 2018Board Minutes /stateboard/Documents/minutes/2018/April242018.pdf\n",
      "May 22, 2018Board Agenda​​ /stateboard/Pages/meeting-agendas/2018-05-22.aspx\n",
      "May 22, 2018Board Minutes /stateboard/Documents/minutes/2018/May222018.pdf\n",
      "June 20, 2018Board Agenda​​​ /stateboard/Pages/meeting-agendas/2018-06-20.aspx\n",
      "June 20, 2018Board Minutes /stateboard/Documents/minutes/2018/June202018.pdf\n",
      "July 24, 2018Board Agenda /stateboard/Pages/meeting-agendas/2018-07-24.aspx\n",
      "July 24, 2018Board Minutes /stateboard/Documents/minutes/2018/July242018.pdf\n",
      "August 28, 2018Board Agenda​ /stateboard/Pages/meeting-agendas/2018-08-28.aspx\n",
      "August 28, 2018Board Minutes /stateboard/Documents/minutes/2018/August282018.pdf\n",
      "September 25, 2018Board Agenda​​ /stateboard/Pages/meeting-agendas/2018-09-25.aspx\n",
      "September 25, 2018Board Minutes /stateboard/Documents/minutes/2018/September252018.pdf\n",
      "October 23, 2018Board Agenda /stateboard/Pages/meeting-agendas/2018-10-23.aspx\n",
      "October 23, 2018Board Minutes /stateboard/Documents/minutes/2018/October232018.pdf\n",
      "December 04, 2018 Board Agenda /stateboard/Pages/meeting-agendas/2018-12-04.aspx\n",
      "December 4, 2018Board Minutes /stateboard/Documents/minutes/2018/December042018.pdf\n"
     ]
    }
   ],
   "source": [
    "# Find that big table that has all of the minutes inside of it\n",
    "table = doc.find('div', id='ctl00_PlaceHolderMain_ctl02__ControlWrapper_RichHtmlField')\n",
    "\n",
    "\n",
    "# Right-click an element, Copy > copy selector\n",
    "# doc.select_one + paste in whatever it gives you\n",
    "# this only finds ONE thing, like a submit button or a table or whatever\n",
    "table = doc.select_one('#ctl00_PlaceHolderMain_ctl02__ControlWrapper_RichHtmlField > table')\n",
    "# Now find all of the links inside of that table (table.find_all, not doc.find_all)\n",
    "links = table.find_all('a')\n",
    "\n",
    "for link in links:\n",
    "    url = link['href']\n",
    "    print(link.text, url)"
   ]
  },
  {
   "cell_type": "code",
   "execution_count": null,
   "metadata": {},
   "outputs": [],
   "source": []
  },
  {
   "cell_type": "code",
   "execution_count": null,
   "metadata": {},
   "outputs": [],
   "source": []
  }
 ],
 "metadata": {
  "kernelspec": {
   "display_name": "Python 3",
   "language": "python",
   "name": "python3"
  },
  "language_info": {
   "codemirror_mode": {
    "name": "ipython",
    "version": 3
   },
   "file_extension": ".py",
   "mimetype": "text/x-python",
   "name": "python",
   "nbconvert_exporter": "python",
   "pygments_lexer": "ipython3",
   "version": "3.7.3"
  }
 },
 "nbformat": 4,
 "nbformat_minor": 2
}

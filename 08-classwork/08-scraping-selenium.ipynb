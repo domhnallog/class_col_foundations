{
 "cells": [
  {
   "cell_type": "code",
   "execution_count": 1,
   "metadata": {},
   "outputs": [],
   "source": [
    "from selenium import webdriver"
   ]
  },
  {
   "cell_type": "code",
   "execution_count": 2,
   "metadata": {},
   "outputs": [],
   "source": [
    "driver_path = 'C:/Program Files (x86)/Google/chromedriver'\n",
    "driver = webdriver.Chrome(executable_path=driver_path)"
   ]
  },
  {
   "cell_type": "code",
   "execution_count": 3,
   "metadata": {},
   "outputs": [],
   "source": [
    "driver.get('https://www2.hm.com/en_us/sale/home/view-all.html')"
   ]
  },
  {
   "cell_type": "code",
   "execution_count": 16,
   "metadata": {},
   "outputs": [],
   "source": [
    "# body > div.modaloverlay.responsive > div.modal.fadeInModal > button\n",
    "# body > div.cookie-notification.js-notification.js-cookie-notification > button"
   ]
  },
  {
   "cell_type": "code",
   "execution_count": 4,
   "metadata": {},
   "outputs": [
    {
     "ename": "AttributeError",
     "evalue": "'list' object has no attribute 'click'",
     "output_type": "error",
     "traceback": [
      "\u001b[1;31m------------------------------------------------------\u001b[0m",
      "\u001b[1;31mAttributeError\u001b[0m       Traceback (most recent call last)",
      "\u001b[1;32m<ipython-input-4-f1016bf40799>\u001b[0m in \u001b[0;36m<module>\u001b[1;34m\u001b[0m\n\u001b[0;32m      1\u001b[0m \u001b[0mbutton\u001b[0m \u001b[1;33m=\u001b[0m \u001b[0mdriver\u001b[0m\u001b[1;33m.\u001b[0m\u001b[0mfind_elements_by_css_selector\u001b[0m\u001b[1;33m(\u001b[0m\u001b[1;34m'body > div.modaloverlay.responsive > div.modal.fadeInModal > button'\u001b[0m\u001b[1;33m)\u001b[0m\u001b[1;33m\u001b[0m\u001b[1;33m\u001b[0m\u001b[0m\n\u001b[1;32m----> 2\u001b[1;33m \u001b[0mbutton\u001b[0m\u001b[1;33m.\u001b[0m\u001b[0mclick\u001b[0m\u001b[1;33m(\u001b[0m\u001b[1;33m)\u001b[0m\u001b[1;33m\u001b[0m\u001b[1;33m\u001b[0m\u001b[0m\n\u001b[0m",
      "\u001b[1;31mAttributeError\u001b[0m: 'list' object has no attribute 'click'"
     ]
    }
   ],
   "source": [
    "# button = driver.find_element_by_css_selector('body > div.modaloverlay.responsive > div.modal.fadeInModal > button')\n",
    "# button.click()"
   ]
  },
  {
   "cell_type": "code",
   "execution_count": 13,
   "metadata": {},
   "outputs": [
    {
     "ename": "NoSuchElementException",
     "evalue": "Message: no such element: Unable to locate element: {\"method\":\"css selector\",\"selector\":\"body > div.cookie-notification.js-notification.js-cookie-notification > button\"}\n  (Session info: chrome=75.0.3770.100)\n",
     "output_type": "error",
     "traceback": [
      "\u001b[1;31m------------------------------------------------------\u001b[0m",
      "\u001b[1;31mNoSuchElementException\u001b[0mTraceback (most recent call last)",
      "\u001b[1;32m<ipython-input-13-2e7677ef9ac8>\u001b[0m in \u001b[0;36m<module>\u001b[1;34m\u001b[0m\n\u001b[0;32m      1\u001b[0m \u001b[1;31m# driver.find_element_by_css_selector('body > div.modaloverlay.responsive > div.modal.fadeInModal > button').click()\u001b[0m\u001b[1;33m\u001b[0m\u001b[1;33m\u001b[0m\u001b[1;33m\u001b[0m\u001b[0m\n\u001b[1;32m----> 2\u001b[1;33m \u001b[0mdriver\u001b[0m\u001b[1;33m.\u001b[0m\u001b[0mfind_element_by_css_selector\u001b[0m\u001b[1;33m(\u001b[0m\u001b[1;34m\"body > div.cookie-notification.js-notification.js-cookie-notification > button\"\u001b[0m\u001b[1;33m)\u001b[0m\u001b[1;33m.\u001b[0m\u001b[0mclick\u001b[0m\u001b[1;33m(\u001b[0m\u001b[1;33m)\u001b[0m\u001b[1;33m\u001b[0m\u001b[1;33m\u001b[0m\u001b[0m\n\u001b[0m",
      "\u001b[1;32mC:\\Program Files (x86)\\Python37-32\\lib\\site-packages\\selenium\\webdriver\\remote\\webdriver.py\u001b[0m in \u001b[0;36mfind_element_by_css_selector\u001b[1;34m(self, css_selector)\u001b[0m\n\u001b[0;32m    596\u001b[0m             \u001b[0melement\u001b[0m \u001b[1;33m=\u001b[0m \u001b[0mdriver\u001b[0m\u001b[1;33m.\u001b[0m\u001b[0mfind_element_by_css_selector\u001b[0m\u001b[1;33m(\u001b[0m\u001b[1;34m'#foo'\u001b[0m\u001b[1;33m)\u001b[0m\u001b[1;33m\u001b[0m\u001b[1;33m\u001b[0m\u001b[0m\n\u001b[0;32m    597\u001b[0m         \"\"\"\n\u001b[1;32m--> 598\u001b[1;33m         \u001b[1;32mreturn\u001b[0m \u001b[0mself\u001b[0m\u001b[1;33m.\u001b[0m\u001b[0mfind_element\u001b[0m\u001b[1;33m(\u001b[0m\u001b[0mby\u001b[0m\u001b[1;33m=\u001b[0m\u001b[0mBy\u001b[0m\u001b[1;33m.\u001b[0m\u001b[0mCSS_SELECTOR\u001b[0m\u001b[1;33m,\u001b[0m \u001b[0mvalue\u001b[0m\u001b[1;33m=\u001b[0m\u001b[0mcss_selector\u001b[0m\u001b[1;33m)\u001b[0m\u001b[1;33m\u001b[0m\u001b[1;33m\u001b[0m\u001b[0m\n\u001b[0m\u001b[0;32m    599\u001b[0m \u001b[1;33m\u001b[0m\u001b[0m\n\u001b[0;32m    600\u001b[0m     \u001b[1;32mdef\u001b[0m \u001b[0mfind_elements_by_css_selector\u001b[0m\u001b[1;33m(\u001b[0m\u001b[0mself\u001b[0m\u001b[1;33m,\u001b[0m \u001b[0mcss_selector\u001b[0m\u001b[1;33m)\u001b[0m\u001b[1;33m:\u001b[0m\u001b[1;33m\u001b[0m\u001b[1;33m\u001b[0m\u001b[0m\n",
      "\u001b[1;32mC:\\Program Files (x86)\\Python37-32\\lib\\site-packages\\selenium\\webdriver\\remote\\webdriver.py\u001b[0m in \u001b[0;36mfind_element\u001b[1;34m(self, by, value)\u001b[0m\n\u001b[0;32m    976\u001b[0m         return self.execute(Command.FIND_ELEMENT, {\n\u001b[0;32m    977\u001b[0m             \u001b[1;34m'using'\u001b[0m\u001b[1;33m:\u001b[0m \u001b[0mby\u001b[0m\u001b[1;33m,\u001b[0m\u001b[1;33m\u001b[0m\u001b[1;33m\u001b[0m\u001b[0m\n\u001b[1;32m--> 978\u001b[1;33m             'value': value})['value']\n\u001b[0m\u001b[0;32m    979\u001b[0m \u001b[1;33m\u001b[0m\u001b[0m\n\u001b[0;32m    980\u001b[0m     \u001b[1;32mdef\u001b[0m \u001b[0mfind_elements\u001b[0m\u001b[1;33m(\u001b[0m\u001b[0mself\u001b[0m\u001b[1;33m,\u001b[0m \u001b[0mby\u001b[0m\u001b[1;33m=\u001b[0m\u001b[0mBy\u001b[0m\u001b[1;33m.\u001b[0m\u001b[0mID\u001b[0m\u001b[1;33m,\u001b[0m \u001b[0mvalue\u001b[0m\u001b[1;33m=\u001b[0m\u001b[1;32mNone\u001b[0m\u001b[1;33m)\u001b[0m\u001b[1;33m:\u001b[0m\u001b[1;33m\u001b[0m\u001b[1;33m\u001b[0m\u001b[0m\n",
      "\u001b[1;32mC:\\Program Files (x86)\\Python37-32\\lib\\site-packages\\selenium\\webdriver\\remote\\webdriver.py\u001b[0m in \u001b[0;36mexecute\u001b[1;34m(self, driver_command, params)\u001b[0m\n\u001b[0;32m    319\u001b[0m         \u001b[0mresponse\u001b[0m \u001b[1;33m=\u001b[0m \u001b[0mself\u001b[0m\u001b[1;33m.\u001b[0m\u001b[0mcommand_executor\u001b[0m\u001b[1;33m.\u001b[0m\u001b[0mexecute\u001b[0m\u001b[1;33m(\u001b[0m\u001b[0mdriver_command\u001b[0m\u001b[1;33m,\u001b[0m \u001b[0mparams\u001b[0m\u001b[1;33m)\u001b[0m\u001b[1;33m\u001b[0m\u001b[1;33m\u001b[0m\u001b[0m\n\u001b[0;32m    320\u001b[0m         \u001b[1;32mif\u001b[0m \u001b[0mresponse\u001b[0m\u001b[1;33m:\u001b[0m\u001b[1;33m\u001b[0m\u001b[1;33m\u001b[0m\u001b[0m\n\u001b[1;32m--> 321\u001b[1;33m             \u001b[0mself\u001b[0m\u001b[1;33m.\u001b[0m\u001b[0merror_handler\u001b[0m\u001b[1;33m.\u001b[0m\u001b[0mcheck_response\u001b[0m\u001b[1;33m(\u001b[0m\u001b[0mresponse\u001b[0m\u001b[1;33m)\u001b[0m\u001b[1;33m\u001b[0m\u001b[1;33m\u001b[0m\u001b[0m\n\u001b[0m\u001b[0;32m    322\u001b[0m             response['value'] = self._unwrap_value(\n\u001b[0;32m    323\u001b[0m                 response.get('value', None))\n",
      "\u001b[1;32mC:\\Program Files (x86)\\Python37-32\\lib\\site-packages\\selenium\\webdriver\\remote\\errorhandler.py\u001b[0m in \u001b[0;36mcheck_response\u001b[1;34m(self, response)\u001b[0m\n\u001b[0;32m    240\u001b[0m                 \u001b[0malert_text\u001b[0m \u001b[1;33m=\u001b[0m \u001b[0mvalue\u001b[0m\u001b[1;33m[\u001b[0m\u001b[1;34m'alert'\u001b[0m\u001b[1;33m]\u001b[0m\u001b[1;33m.\u001b[0m\u001b[0mget\u001b[0m\u001b[1;33m(\u001b[0m\u001b[1;34m'text'\u001b[0m\u001b[1;33m)\u001b[0m\u001b[1;33m\u001b[0m\u001b[1;33m\u001b[0m\u001b[0m\n\u001b[0;32m    241\u001b[0m             \u001b[1;32mraise\u001b[0m \u001b[0mexception_class\u001b[0m\u001b[1;33m(\u001b[0m\u001b[0mmessage\u001b[0m\u001b[1;33m,\u001b[0m \u001b[0mscreen\u001b[0m\u001b[1;33m,\u001b[0m \u001b[0mstacktrace\u001b[0m\u001b[1;33m,\u001b[0m \u001b[0malert_text\u001b[0m\u001b[1;33m)\u001b[0m\u001b[1;33m\u001b[0m\u001b[1;33m\u001b[0m\u001b[0m\n\u001b[1;32m--> 242\u001b[1;33m         \u001b[1;32mraise\u001b[0m \u001b[0mexception_class\u001b[0m\u001b[1;33m(\u001b[0m\u001b[0mmessage\u001b[0m\u001b[1;33m,\u001b[0m \u001b[0mscreen\u001b[0m\u001b[1;33m,\u001b[0m \u001b[0mstacktrace\u001b[0m\u001b[1;33m)\u001b[0m\u001b[1;33m\u001b[0m\u001b[1;33m\u001b[0m\u001b[0m\n\u001b[0m\u001b[0;32m    243\u001b[0m \u001b[1;33m\u001b[0m\u001b[0m\n\u001b[0;32m    244\u001b[0m     \u001b[1;32mdef\u001b[0m \u001b[0m_value_or_default\u001b[0m\u001b[1;33m(\u001b[0m\u001b[0mself\u001b[0m\u001b[1;33m,\u001b[0m \u001b[0mobj\u001b[0m\u001b[1;33m,\u001b[0m \u001b[0mkey\u001b[0m\u001b[1;33m,\u001b[0m \u001b[0mdefault\u001b[0m\u001b[1;33m)\u001b[0m\u001b[1;33m:\u001b[0m\u001b[1;33m\u001b[0m\u001b[1;33m\u001b[0m\u001b[0m\n",
      "\u001b[1;31mNoSuchElementException\u001b[0m: Message: no such element: Unable to locate element: {\"method\":\"css selector\",\"selector\":\"body > div.cookie-notification.js-notification.js-cookie-notification > button\"}\n  (Session info: chrome=75.0.3770.100)\n"
     ]
    }
   ],
   "source": [
    "driver.find_element_by_css_selector('body > div.modaloverlay.responsive > div.modal.fadeInModal > button').click()\n",
    "driver.find_element_by_css_selector(\"body > div.cookie-notification.js-notification.js-cookie-notification > button\").click()"
   ]
  },
  {
   "cell_type": "code",
   "execution_count": 18,
   "metadata": {},
   "outputs": [],
   "source": [
    "items = driver.find_elements_by_class_name(\"item-heading\")\n",
    "# items"
   ]
  },
  {
   "cell_type": "code",
   "execution_count": 19,
   "metadata": {},
   "outputs": [
    {
     "name": "stdout",
     "output_type": "stream",
     "text": [
      "Knit Throw with Fringe\n",
      "Patterned Duvet Cover\n",
      "Cotton Pillowcase\n",
      "Pillowcase with Pin-tucks\n",
      "Linen-blend Bedspread\n",
      "Cotton Satin Duvet Cover\n",
      "Cotton Satin Duvet Cover\n",
      "Cotton Percale Duvet Cover\n",
      "Cotton Satin Duvet Cover\n",
      "Cotton Satin Duvet Cover\n",
      "King/Queen Duvet Cover\n",
      "Oxford-style Pillowcase\n",
      "Jacquard-weave Duvet Cover\n",
      "Large Glass Vase\n",
      "Cotton Percale Duvet Cover\n",
      "Cotton Satin Pillowcase\n",
      "Pillowcase with Pin-tucks\n",
      "Cotton Percale Flat Sheet\n",
      "Cotton Satin Pillowcase\n",
      "Cotton Satin Duvet Cover\n",
      "Cotton Percale Flat Sheet\n",
      "Jacquard-weave Pillowcase\n",
      "Twin Duvet Cover\n",
      "Cotton Satin Duvet Cover\n",
      "Oxford-style Pillowcase\n",
      "King/Queen Duvet Cover\n",
      "Jacquard-weave Pillowcase\n",
      "Jacquard-weave Cushion Cover\n",
      "Oxford-style Pillowcase\n",
      "Cotton Satin Duvet Cover\n",
      "Metal Candlestick\n",
      "Cotton Satin Duvet Cover\n",
      "Jacquard-weave Duvet Cover\n",
      "Linen Bedspread\n",
      "Pillowcase with Printed Text\n",
      "Small Wooden Cutting Board\n"
     ]
    }
   ],
   "source": [
    "for item in items:\n",
    "    print(item.text)"
   ]
  },
  {
   "cell_type": "code",
   "execution_count": 20,
   "metadata": {},
   "outputs": [
    {
     "name": "stdout",
     "output_type": "stream",
     "text": [
      "$29.99 $59.99\n",
      "$44.99 $119.00\n",
      "$9.99 $17.99\n",
      "$9.99 $17.99\n",
      "$54.99 $99.00\n",
      "$59.99 $129.00\n",
      "$54.99 $99.00\n",
      "$29.99 $79.99\n",
      "$49.99 $99.00\n",
      "$49.99 $129.00\n",
      "$49.99 $119.00\n",
      "$12.99 $24.99\n",
      "$29.99 $79.99\n",
      "$34.99 $49.99\n",
      "$29.99 $59.99\n",
      "$7.99 $19.99\n",
      "$8.99 $17.99\n",
      "$18.99 $34.99\n",
      "$9.99 $19.99\n",
      "$42.99 $69.99\n",
      "$24.99 $39.99\n",
      "$6.99 $17.99\n",
      "$49.99 $79.99\n",
      "$39.99 $69.99\n",
      "$9.99 $24.99\n",
      "$69.99 $119.00\n",
      "$9.99 $17.99\n",
      "$14.99 $24.99\n",
      "$9.99 $24.99\n",
      "$39.99 $69.99\n",
      "$14.99 $24.99\n",
      "$54.99 $99.00\n",
      "$49.99 $79.99\n",
      "$59.99 $99.00\n",
      "$5.99 $9.99\n",
      "$12.99 $24.99\n"
     ]
    }
   ],
   "source": [
    "items = driver.find_elements_by_class_name(\"item-price\")\n",
    "for item in items:\n",
    "    print(item.text)"
   ]
  },
  {
   "cell_type": "code",
   "execution_count": 21,
   "metadata": {},
   "outputs": [
    {
     "name": "stdout",
     "output_type": "stream",
     "text": [
      "$29.99 $59.99\n",
      "$44.99 $119.00\n",
      "$9.99 $17.99\n",
      "$9.99 $17.99\n",
      "$54.99 $99.00\n",
      "$59.99 $129.00\n",
      "$54.99 $99.00\n",
      "$29.99 $79.99\n",
      "$49.99 $99.00\n",
      "$49.99 $129.00\n",
      "$49.99 $119.00\n",
      "$12.99 $24.99\n",
      "$29.99 $79.99\n",
      "$34.99 $49.99\n",
      "$29.99 $59.99\n",
      "$7.99 $19.99\n",
      "$8.99 $17.99\n",
      "$18.99 $34.99\n",
      "$9.99 $19.99\n",
      "$42.99 $69.99\n",
      "$24.99 $39.99\n",
      "$6.99 $17.99\n",
      "$49.99 $79.99\n",
      "$39.99 $69.99\n",
      "$9.99 $24.99\n",
      "$69.99 $119.00\n",
      "$9.99 $17.99\n",
      "$14.99 $24.99\n",
      "$9.99 $24.99\n",
      "$39.99 $69.99\n",
      "$14.99 $24.99\n",
      "$54.99 $99.00\n",
      "$49.99 $79.99\n",
      "$59.99 $99.00\n",
      "$5.99 $9.99\n",
      "$12.99 $24.99\n"
     ]
    }
   ],
   "source": [
    "items = driver.find_elements_by_class_name(\"item-price\")\n",
    "for item in items:\n",
    "    print(item.text)"
   ]
  },
  {
   "cell_type": "code",
   "execution_count": 10,
   "metadata": {},
   "outputs": [
    {
     "name": "stdout",
     "output_type": "stream",
     "text": [
      "https://lp2.hm.com/hmgoepprod?set=source[/ea/0c/ea0c3aa90387a8cb8c3c323b992110f988513a08.jpg],origin[dam],category[home_blankets_blankets],type[DESCRIPTIVESTILLLIFE],res[z],hmver[1]&call=url[file:/product/main]\n",
      "https://lp2.hm.com/hmgoepprod?set=source[/e1/16/e1167ba06beb5f11cfab497ad1d533b7e31831c3.jpg],origin[dam],category[home_bedlinen_duvetscoversets_double],type[DESCRIPTIVESTILLLIFE],res[z],hmver[2]&call=url[file:/product/main]\n",
      "https://lp2.hm.com/hmgoepprod?set=source[/8a/35/8a3575c7fabcca351da2fad9e0fafa7fbe18fcd2.jpg],origin[dam],category[home_bedlinen_pillowcases],type[DESCRIPTIVESTILLLIFE],res[z],hmver[1]&call=url[file:/product/main]\n",
      "https://lp2.hm.com/hmgoepprod?set=source[/7a/79/7a79ead2a1a3d8e292181fa039cd6033d9d0a0cf.jpg],origin[dam],category[home_bedlinen_pillowcases],type[DESCRIPTIVEDETAIL],res[z],hmver[1]&call=url[file:/product/main]\n",
      "https://lp2.hm.com/hmgoepprod?set=source[/cf/d4/cfd4fba51973ef318059ed30899e149e6e8803a4.jpg],origin[dam],category[home_bedlinen_bedspreads],type[DESCRIPTIVESTILLLIFE],res[z],hmver[1]&call=url[file:/product/main]\n",
      "https://lp2.hm.com/hmgoepprod?set=source[/78/c7/78c7a290a2782719a23fd3289110fc45a93a103f.jpg],origin[dam],category[home_bedlinen_duvetscoversets_double],type[DESCRIPTIVESTILLLIFE],res[z],hmver[1]&call=url[file:/product/main]\n",
      "https://lp2.hm.com/hmgoepprod?set=source[/01/cf/01cfdb780dc300b58346d74e6f6cbb70c3da447c.jpg],origin[dam],category[home_bedlinen_duvetscoversets_single],type[DESCRIPTIVESTILLLIFE],res[z],hmver[1]&call=url[file:/product/main]\n",
      "https://lp2.hm.com/hmgoepprod?set=source[/c7/0e/c70e6e83d1d08cf39cb0522267567869f7a0834e.jpg],origin[dam],category[home_bedlinen_duvetscoversets_double],type[DESCRIPTIVESTILLLIFE],res[z],hmver[2]&call=url[file:/product/main]\n",
      "https://lp2.hm.com/hmgoepprod?set=source[/1f/1d/1f1d401291eccff3608b25d693ad7f43c4cbfa34.jpg],origin[dam],category[home_bedlinen_duvetscoversets_double],type[DESCRIPTIVESTILLLIFE],res[z],hmver[1]&call=url[file:/product/main]\n",
      "https://lp2.hm.com/hmgoepprod?set=source[/3e/de/3ede7cc33d60afd789c8fcaef35cd09b1e8b4993.jpg],origin[dam],category[home_bedlinen_duvetscoversets_double],type[DESCRIPTIVESTILLLIFE],res[z],hmver[1]&call=url[file:/product/main]\n",
      "https://lp2.hm.com/hmgoepprod?set=source[/8b/bb/8bbb8e009983dd34deb528a68bf154b7487ce9ec.jpg],origin[dam],category[home_bedlinen_duvetscoversets_double],type[DESCRIPTIVESTILLLIFE],res[z],hmver[2]&call=url[file:/product/main]\n",
      "https://lp2.hm.com/hmgoepprod?set=source[/31/66/31663813f3021054345d160c081202975ceb65f7.jpg],origin[dam],category[home_bedlinen_pillowcases],type[DESCRIPTIVESTILLLIFE],res[z],hmver[1]&call=url[file:/product/main]\n",
      "https://lp2.hm.com/hmgoepprod?set=source[/4d/11/4d114ffad173798e8e3bb5275e93cad646ff7120.jpg],origin[dam],category[home_bedlinen_duvetscoversets_single],type[DESCRIPTIVESTILLLIFE],res[z],hmver[2]&call=url[file:/product/main]\n",
      "https://lp2.hm.com/hmgoepprod?set=source[/fa/04/fa04fb207dc807ace07e401d599135ed4dbf999c.jpg],origin[dam],category[],type[DESCRIPTIVESTILLLIFE],res[z],hmver[1]&call=url[file:/product/main]\n",
      "https://lp2.hm.com/hmgoepprod?set=source[/49/61/4961ec497014a050b2e1513907bb0bffad1e4b73.jpg],origin[dam],category[home_bedlinen_duvetscoversets_single],type[DESCRIPTIVESTILLLIFE],res[z],hmver[2]&call=url[file:/product/main]\n",
      "https://lp2.hm.com/hmgoepprod?set=source[/31/70/31700089282736aec2b111720ff750ae64035b96.jpg],origin[dam],category[home_bedlinen_pillowcases],type[DESCRIPTIVESTILLLIFE],res[z],hmver[1]&call=url[file:/product/main]\n",
      "https://lp2.hm.com/hmgoepprod?set=source[/1c/12/1c121938c87826b0b56ef73f2a1e2dcc90048589.jpg],origin[dam],category[home_bedlinen_pillowcases],type[DESCRIPTIVEDETAIL],res[z],hmver[1]&call=url[file:/product/main]\n",
      "https://lp2.hm.com/hmgoepprod?set=source[/98/16/981641c6dfd40f9a02ef9029853e8186dd9617ee.jpg],origin[dam],category[home_bedlinen_sheets],type[DESCRIPTIVESTILLLIFE],res[z],hmver[1]&call=url[file:/product/main]\n",
      "https://lp2.hm.com/hmgoepprod?set=source[/92/38/923876329acdb5e0617001b560f783c9bbd1257e.jpg],origin[dam],category[home_bedlinen_pillowcases],type[DESCRIPTIVESTILLLIFE],res[z],hmver[1]&call=url[file:/product/main]\n",
      "https://lp2.hm.com/hmgoepprod?set=source[/45/ad/45adb4a5aabccd195c9e9130b8c28c23dded0104.jpg],origin[dam],category[home_bedlinen_duvetscoversets_single],type[DESCRIPTIVESTILLLIFE],res[z],hmver[2]&call=url[file:/product/main]\n",
      "https://lp2.hm.com/hmgoepprod?set=source[/22/75/22752e0acf40de324d76e5e81b152bebc0a7051e.jpg],origin[dam],category[home_bedlinen_sheets],type[DESCRIPTIVESTILLLIFE],res[z],hmver[1]&call=url[file:/product/main]\n",
      "https://lp2.hm.com/hmgoepprod?set=source[/96/49/964952a7045146d63857eeca24bdef08f703012b.jpg],origin[dam],category[home_bedlinen_pillowcases],type[DESCRIPTIVESTILLLIFE],res[z],hmver[2]&call=url[file:/product/main]\n",
      "https://lp2.hm.com/hmgoepprod?set=source[/ab/ae/abae74fce912a37ebb203a8db8a533e0b4a9d7b3.jpg],origin[dam],category[home_bedroom_duvetcoversets_single],type[DESCRIPTIVESTILLLIFE],res[z],hmver[2]&call=url[file:/product/main]\n",
      "https://lp2.hm.com/hmgoepprod?set=source[/85/72/85725b1782d23974247aa0c628c79c8e0eb298c1.jpg],origin[dam],category[home_bedlinen_duvetscoversets_single],type[DESCRIPTIVESTILLLIFE],res[z],hmver[2]&call=url[file:/product/main]\n",
      "None\n",
      "None\n",
      "None\n",
      "None\n",
      "None\n",
      "None\n",
      "None\n",
      "None\n",
      "None\n",
      "None\n",
      "None\n",
      "None\n"
     ]
    }
   ],
   "source": [
    "images = driver.find_elements_by_class_name(\"item-image\")\n",
    "for image in images:\n",
    "    print(image.get_attribute('src'))"
   ]
  },
  {
   "cell_type": "code",
   "execution_count": 37,
   "metadata": {},
   "outputs": [],
   "source": [
    "items = driver.find_elements_by_class_name(\"product-item\")\n",
    "rows = []\n",
    "for item in items:\n",
    "    row = {}\n",
    "    row['name'] = item.find_element_by_class_name(\"item-heading\").text\n",
    "    row['price'] = item.find_element_by_class_name(\"item-price\").text\n",
    "    rows.append(row)\n",
    "#     print(row)"
   ]
  },
  {
   "cell_type": "code",
   "execution_count": 40,
   "metadata": {},
   "outputs": [
    {
     "data": {
      "text/html": [
       "<div>\n",
       "<style scoped>\n",
       "    .dataframe tbody tr th:only-of-type {\n",
       "        vertical-align: middle;\n",
       "    }\n",
       "\n",
       "    .dataframe tbody tr th {\n",
       "        vertical-align: top;\n",
       "    }\n",
       "\n",
       "    .dataframe thead th {\n",
       "        text-align: right;\n",
       "    }\n",
       "</style>\n",
       "<table border=\"1\" class=\"dataframe\">\n",
       "  <thead>\n",
       "    <tr style=\"text-align: right;\">\n",
       "      <th></th>\n",
       "      <th>name</th>\n",
       "      <th>price</th>\n",
       "    </tr>\n",
       "  </thead>\n",
       "  <tbody>\n",
       "    <tr>\n",
       "      <th>0</th>\n",
       "      <td>Knit Throw with Fringe</td>\n",
       "      <td>$29.99 $59.99</td>\n",
       "    </tr>\n",
       "    <tr>\n",
       "      <th>1</th>\n",
       "      <td>Patterned Duvet Cover</td>\n",
       "      <td>$44.99 $119.00</td>\n",
       "    </tr>\n",
       "    <tr>\n",
       "      <th>2</th>\n",
       "      <td>Cotton Pillowcase</td>\n",
       "      <td>$9.99 $17.99</td>\n",
       "    </tr>\n",
       "    <tr>\n",
       "      <th>3</th>\n",
       "      <td>Pillowcase with Pin-tucks</td>\n",
       "      <td>$9.99 $17.99</td>\n",
       "    </tr>\n",
       "    <tr>\n",
       "      <th>4</th>\n",
       "      <td>Linen-blend Bedspread</td>\n",
       "      <td>$54.99 $99.00</td>\n",
       "    </tr>\n",
       "  </tbody>\n",
       "</table>\n",
       "</div>"
      ],
      "text/plain": [
       "                        name           price\n",
       "0     Knit Throw with Fringe   $29.99 $59.99\n",
       "1      Patterned Duvet Cover  $44.99 $119.00\n",
       "2          Cotton Pillowcase    $9.99 $17.99\n",
       "3  Pillowcase with Pin-tucks    $9.99 $17.99\n",
       "4      Linen-blend Bedspread   $54.99 $99.00"
      ]
     },
     "execution_count": 40,
     "metadata": {},
     "output_type": "execute_result"
    }
   ],
   "source": [
    "import pandas as pd\n",
    "df = pd.DataFrame(rows)\n",
    "df.head()"
   ]
  },
  {
   "cell_type": "code",
   "execution_count": null,
   "metadata": {},
   "outputs": [],
   "source": []
  }
 ],
 "metadata": {
  "kernelspec": {
   "display_name": "Python 3",
   "language": "python",
   "name": "python3"
  },
  "language_info": {
   "codemirror_mode": {
    "name": "ipython",
    "version": 3
   },
   "file_extension": ".py",
   "mimetype": "text/x-python",
   "name": "python",
   "nbconvert_exporter": "python",
   "pygments_lexer": "ipython3",
   "version": "3.7.3"
  }
 },
 "nbformat": 4,
 "nbformat_minor": 2
}

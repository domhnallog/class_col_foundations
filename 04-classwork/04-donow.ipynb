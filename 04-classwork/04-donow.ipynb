{
 "cells": [
  {
   "cell_type": "markdown",
   "metadata": {},
   "source": [
    "# DO NOW"
   ]
  },
  {
   "cell_type": "markdown",
   "metadata": {},
   "source": [
    "1) Jupyter Notebook"
   ]
  },
  {
   "cell_type": "markdown",
   "metadata": {},
   "source": [
    "2) statistics.median([1, 10, 12]) fails because of . . .\n",
    "   needs to be imported"
   ]
  },
  {
   "cell_type": "markdown",
   "metadata": {},
   "source": [
    "3) import giraffes\n",
    "   giraffes.blarb([4, 5, 6]) fails because . . . \n",
    "   pip install giraffes"
   ]
  },
  {
   "cell_type": "markdown",
   "metadata": {},
   "source": [
    "4) close jupytre (or other app) and clear command line after closing jupyter with 'ctrl + c'"
   ]
  },
  {
   "cell_type": "markdown",
   "metadata": {},
   "source": [
    "5) an API endpoint is . . .\n",
    "   a url, typ a link to more information for another thing"
   ]
  },
  {
   "cell_type": "markdown",
   "metadata": {},
   "source": [
    "6) if need to use urllib to talk to an api\n",
    "   use \"request\" library"
   ]
  },
  {
   "cell_type": "markdown",
   "metadata": {},
   "source": [
    "7) apis don't usually provide csv, what format to they provide?\n",
    "    JSON (javascript object notation), which looks just like a python dictionary\n",
    "    XML  "
   ]
  },
  {
   "cell_type": "markdown",
   "metadata": {},
   "source": [
    "    *** jupyter launch page directories will match those of the dir the shell launched from "
   ]
  },
  {
   "cell_type": "code",
   "execution_count": null,
   "metadata": {},
   "outputs": [],
   "source": []
  }
 ],
 "metadata": {
  "kernelspec": {
   "display_name": "Python 3",
   "language": "python",
   "name": "python3"
  },
  "language_info": {
   "codemirror_mode": {
    "name": "ipython",
    "version": 3
   },
   "file_extension": ".py",
   "mimetype": "text/x-python",
   "name": "python",
   "nbconvert_exporter": "python",
   "pygments_lexer": "ipython3",
   "version": "3.7.3"
  }
 },
 "nbformat": 4,
 "nbformat_minor": 2
}

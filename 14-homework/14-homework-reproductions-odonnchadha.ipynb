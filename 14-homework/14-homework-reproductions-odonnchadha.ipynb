{
 "cells": [
  {
   "cell_type": "markdown",
   "metadata": {},
   "source": [
    "# Pandas and Illustrator\n",
    "\n",
    "**Do these in whatever order you'd like.** Feel free to do a bar graph, then skip ahead to some Buzzfeed line graphs, etc. Start in pandas, then once you save move on over to Illustrator.\n",
    "\n",
    "Do each group - NYT, Buzzfeed, FiveThirtyEight, Economist, Guardian - in a different notebook.  I'm only leaving spaces in these here so you can scroll through them more easily.\n",
    "\n",
    "Be sure to check out the other notebook for **tips and hints**."
   ]
  },
  {
   "cell_type": "code",
   "execution_count": 1,
   "metadata": {},
   "outputs": [],
   "source": [
    "import re\n",
    "import csv\n",
    "import pandas as pd\n",
    "import numpy as np\n",
    "import seaborn as sns\n",
    "import matplotlib\n",
    "import matplotlib.pyplot as plt\n",
    "matplotlib.rcParams['pdf.fonttype'] = 42\n",
    "%matplotlib inline  "
   ]
  },
  {
   "cell_type": "code",
   "execution_count": 2,
   "metadata": {},
   "outputs": [
    {
     "data": {
      "text/html": [
       "<div style='column-count: 2;'><p>Adobe Devanagari: <span style='font-family:Adobe Devanagari; font-size: 24px;'>Adobe Devanagari</p>\n",
       "<p>Agency FB: <span style='font-family:Agency FB; font-size: 24px;'>Agency FB</p>\n",
       "<p>Algerian: <span style='font-family:Algerian; font-size: 24px;'>Algerian</p>\n",
       "<p>Arial: <span style='font-family:Arial; font-size: 24px;'>Arial</p>\n",
       "<p>Arial Rounded MT Bold: <span style='font-family:Arial Rounded MT Bold; font-size: 24px;'>Arial Rounded MT Bold</p>\n",
       "<p>Bahnschrift: <span style='font-family:Bahnschrift; font-size: 24px;'>Bahnschrift</p>\n",
       "<p>Baskerville Old Face: <span style='font-family:Baskerville Old Face; font-size: 24px;'>Baskerville Old Face</p>\n",
       "<p>Bauhaus 93: <span style='font-family:Bauhaus 93; font-size: 24px;'>Bauhaus 93</p>\n",
       "<p>Bell MT: <span style='font-family:Bell MT; font-size: 24px;'>Bell MT</p>\n",
       "<p>Berlin Sans FB: <span style='font-family:Berlin Sans FB; font-size: 24px;'>Berlin Sans FB</p>\n",
       "<p>Berlin Sans FB Demi: <span style='font-family:Berlin Sans FB Demi; font-size: 24px;'>Berlin Sans FB Demi</p>\n",
       "<p>Bernard MT Condensed: <span style='font-family:Bernard MT Condensed; font-size: 24px;'>Bernard MT Condensed</p>\n",
       "<p>Blackadder ITC: <span style='font-family:Blackadder ITC; font-size: 24px;'>Blackadder ITC</p>\n",
       "<p>Bodoni MT: <span style='font-family:Bodoni MT; font-size: 24px;'>Bodoni MT</p>\n",
       "<p>Book Antiqua: <span style='font-family:Book Antiqua; font-size: 24px;'>Book Antiqua</p>\n",
       "<p>Bookman Old Style: <span style='font-family:Bookman Old Style; font-size: 24px;'>Bookman Old Style</p>\n",
       "<p>Bookshelf Symbol 7: <span style='font-family:Bookshelf Symbol 7; font-size: 24px;'>Bookshelf Symbol 7</p>\n",
       "<p>Bradley Hand ITC: <span style='font-family:Bradley Hand ITC; font-size: 24px;'>Bradley Hand ITC</p>\n",
       "<p>Britannic Bold: <span style='font-family:Britannic Bold; font-size: 24px;'>Britannic Bold</p>\n",
       "<p>Broadway: <span style='font-family:Broadway; font-size: 24px;'>Broadway</p>\n",
       "<p>Brush Script MT: <span style='font-family:Brush Script MT; font-size: 24px;'>Brush Script MT</p>\n",
       "<p>Calibri: <span style='font-family:Calibri; font-size: 24px;'>Calibri</p>\n",
       "<p>Californian FB: <span style='font-family:Californian FB; font-size: 24px;'>Californian FB</p>\n",
       "<p>Calisto MT: <span style='font-family:Calisto MT; font-size: 24px;'>Calisto MT</p>\n",
       "<p>Cambria: <span style='font-family:Cambria; font-size: 24px;'>Cambria</p>\n",
       "<p>Candara: <span style='font-family:Candara; font-size: 24px;'>Candara</p>\n",
       "<p>Castellar: <span style='font-family:Castellar; font-size: 24px;'>Castellar</p>\n",
       "<p>Centaur: <span style='font-family:Centaur; font-size: 24px;'>Centaur</p>\n",
       "<p>Century: <span style='font-family:Century; font-size: 24px;'>Century</p>\n",
       "<p>Century Gothic: <span style='font-family:Century Gothic; font-size: 24px;'>Century Gothic</p>\n",
       "<p>Century Schoolbook: <span style='font-family:Century Schoolbook; font-size: 24px;'>Century Schoolbook</p>\n",
       "<p>Chiller: <span style='font-family:Chiller; font-size: 24px;'>Chiller</p>\n",
       "<p>Colonna MT: <span style='font-family:Colonna MT; font-size: 24px;'>Colonna MT</p>\n",
       "<p>Comic Sans MS: <span style='font-family:Comic Sans MS; font-size: 24px;'>Comic Sans MS</p>\n",
       "<p>Consolas: <span style='font-family:Consolas; font-size: 24px;'>Consolas</p>\n",
       "<p>Constantia: <span style='font-family:Constantia; font-size: 24px;'>Constantia</p>\n",
       "<p>Cooper Black: <span style='font-family:Cooper Black; font-size: 24px;'>Cooper Black</p>\n",
       "<p>Copperplate Gothic Bold: <span style='font-family:Copperplate Gothic Bold; font-size: 24px;'>Copperplate Gothic Bold</p>\n",
       "<p>Copperplate Gothic Light: <span style='font-family:Copperplate Gothic Light; font-size: 24px;'>Copperplate Gothic Light</p>\n",
       "<p>Corbel: <span style='font-family:Corbel; font-size: 24px;'>Corbel</p>\n",
       "<p>Courier New: <span style='font-family:Courier New; font-size: 24px;'>Courier New</p>\n",
       "<p>Curlz MT: <span style='font-family:Curlz MT; font-size: 24px;'>Curlz MT</p>\n",
       "<p>DejaVu Sans: <span style='font-family:DejaVu Sans; font-size: 24px;'>DejaVu Sans</p>\n",
       "<p>DejaVu Sans Display: <span style='font-family:DejaVu Sans Display; font-size: 24px;'>DejaVu Sans Display</p>\n",
       "<p>DejaVu Sans Mono: <span style='font-family:DejaVu Sans Mono; font-size: 24px;'>DejaVu Sans Mono</p>\n",
       "<p>DejaVu Serif: <span style='font-family:DejaVu Serif; font-size: 24px;'>DejaVu Serif</p>\n",
       "<p>DejaVu Serif Display: <span style='font-family:DejaVu Serif Display; font-size: 24px;'>DejaVu Serif Display</p>\n",
       "<p>Dubai: <span style='font-family:Dubai; font-size: 24px;'>Dubai</p>\n",
       "<p>Ebrima: <span style='font-family:Ebrima; font-size: 24px;'>Ebrima</p>\n",
       "<p>Edwardian Script ITC: <span style='font-family:Edwardian Script ITC; font-size: 24px;'>Edwardian Script ITC</p>\n",
       "<p>Elephant: <span style='font-family:Elephant; font-size: 24px;'>Elephant</p>\n",
       "<p>Engravers MT: <span style='font-family:Engravers MT; font-size: 24px;'>Engravers MT</p>\n",
       "<p>Eras Bold ITC: <span style='font-family:Eras Bold ITC; font-size: 24px;'>Eras Bold ITC</p>\n",
       "<p>Eras Demi ITC: <span style='font-family:Eras Demi ITC; font-size: 24px;'>Eras Demi ITC</p>\n",
       "<p>Eras Light ITC: <span style='font-family:Eras Light ITC; font-size: 24px;'>Eras Light ITC</p>\n",
       "<p>Eras Medium ITC: <span style='font-family:Eras Medium ITC; font-size: 24px;'>Eras Medium ITC</p>\n",
       "<p>Felix Titling: <span style='font-family:Felix Titling; font-size: 24px;'>Felix Titling</p>\n",
       "<p>Footlight MT Light: <span style='font-family:Footlight MT Light; font-size: 24px;'>Footlight MT Light</p>\n",
       "<p>Forte: <span style='font-family:Forte; font-size: 24px;'>Forte</p>\n",
       "<p>Franklin Gothic Book: <span style='font-family:Franklin Gothic Book; font-size: 24px;'>Franklin Gothic Book</p>\n",
       "<p>Franklin Gothic Demi: <span style='font-family:Franklin Gothic Demi; font-size: 24px;'>Franklin Gothic Demi</p>\n",
       "<p>Franklin Gothic Demi Cond: <span style='font-family:Franklin Gothic Demi Cond; font-size: 24px;'>Franklin Gothic Demi Cond</p>\n",
       "<p>Franklin Gothic Heavy: <span style='font-family:Franklin Gothic Heavy; font-size: 24px;'>Franklin Gothic Heavy</p>\n",
       "<p>Franklin Gothic Medium: <span style='font-family:Franklin Gothic Medium; font-size: 24px;'>Franklin Gothic Medium</p>\n",
       "<p>Franklin Gothic Medium Cond: <span style='font-family:Franklin Gothic Medium Cond; font-size: 24px;'>Franklin Gothic Medium Cond</p>\n",
       "<p>Freestyle Script: <span style='font-family:Freestyle Script; font-size: 24px;'>Freestyle Script</p>\n",
       "<p>French Script MT: <span style='font-family:French Script MT; font-size: 24px;'>French Script MT</p>\n",
       "<p>Gabriola: <span style='font-family:Gabriola; font-size: 24px;'>Gabriola</p>\n",
       "<p>Gadugi: <span style='font-family:Gadugi; font-size: 24px;'>Gadugi</p>\n",
       "<p>Garamond: <span style='font-family:Garamond; font-size: 24px;'>Garamond</p>\n",
       "<p>Georgia: <span style='font-family:Georgia; font-size: 24px;'>Georgia</p>\n",
       "<p>Gigi: <span style='font-family:Gigi; font-size: 24px;'>Gigi</p>\n",
       "<p>Gill Sans MT: <span style='font-family:Gill Sans MT; font-size: 24px;'>Gill Sans MT</p>\n",
       "<p>Gill Sans MT Condensed: <span style='font-family:Gill Sans MT Condensed; font-size: 24px;'>Gill Sans MT Condensed</p>\n",
       "<p>Gill Sans MT Ext Condensed Bold: <span style='font-family:Gill Sans MT Ext Condensed Bold; font-size: 24px;'>Gill Sans MT Ext Condensed Bold</p>\n",
       "<p>Gill Sans Ultra Bold: <span style='font-family:Gill Sans Ultra Bold; font-size: 24px;'>Gill Sans Ultra Bold</p>\n",
       "<p>Gill Sans Ultra Bold Condensed: <span style='font-family:Gill Sans Ultra Bold Condensed; font-size: 24px;'>Gill Sans Ultra Bold Condensed</p>\n",
       "<p>Gloucester MT Extra Condensed: <span style='font-family:Gloucester MT Extra Condensed; font-size: 24px;'>Gloucester MT Extra Condensed</p>\n",
       "<p>Goudy Old Style: <span style='font-family:Goudy Old Style; font-size: 24px;'>Goudy Old Style</p>\n",
       "<p>Goudy Stout: <span style='font-family:Goudy Stout; font-size: 24px;'>Goudy Stout</p>\n",
       "<p>Haettenschweiler: <span style='font-family:Haettenschweiler; font-size: 24px;'>Haettenschweiler</p>\n",
       "<p>Harlow Solid Italic: <span style='font-family:Harlow Solid Italic; font-size: 24px;'>Harlow Solid Italic</p>\n",
       "<p>Harrington: <span style='font-family:Harrington; font-size: 24px;'>Harrington</p>\n",
       "<p>High Tower Text: <span style='font-family:High Tower Text; font-size: 24px;'>High Tower Text</p>\n",
       "<p>HoloLens MDL2 Assets: <span style='font-family:HoloLens MDL2 Assets; font-size: 24px;'>HoloLens MDL2 Assets</p>\n",
       "<p>Impact: <span style='font-family:Impact; font-size: 24px;'>Impact</p>\n",
       "<p>Imprint MT Shadow: <span style='font-family:Imprint MT Shadow; font-size: 24px;'>Imprint MT Shadow</p>\n",
       "<p>Informal Roman: <span style='font-family:Informal Roman; font-size: 24px;'>Informal Roman</p>\n",
       "<p>Ink Free: <span style='font-family:Ink Free; font-size: 24px;'>Ink Free</p>\n",
       "<p>Javanese Text: <span style='font-family:Javanese Text; font-size: 24px;'>Javanese Text</p>\n",
       "<p>Jokerman: <span style='font-family:Jokerman; font-size: 24px;'>Jokerman</p>\n",
       "<p>Juice ITC: <span style='font-family:Juice ITC; font-size: 24px;'>Juice ITC</p>\n",
       "<p>Kristen ITC: <span style='font-family:Kristen ITC; font-size: 24px;'>Kristen ITC</p>\n",
       "<p>Kunstler Script: <span style='font-family:Kunstler Script; font-size: 24px;'>Kunstler Script</p>\n",
       "<p>Leelawadee: <span style='font-family:Leelawadee; font-size: 24px;'>Leelawadee</p>\n",
       "<p>Leelawadee UI: <span style='font-family:Leelawadee UI; font-size: 24px;'>Leelawadee UI</p>\n",
       "<p>Lucida Bright: <span style='font-family:Lucida Bright; font-size: 24px;'>Lucida Bright</p>\n",
       "<p>Lucida Calligraphy: <span style='font-family:Lucida Calligraphy; font-size: 24px;'>Lucida Calligraphy</p>\n",
       "<p>Lucida Console: <span style='font-family:Lucida Console; font-size: 24px;'>Lucida Console</p>\n",
       "<p>Lucida Fax: <span style='font-family:Lucida Fax; font-size: 24px;'>Lucida Fax</p>\n",
       "<p>Lucida Handwriting: <span style='font-family:Lucida Handwriting; font-size: 24px;'>Lucida Handwriting</p>\n",
       "<p>Lucida Sans: <span style='font-family:Lucida Sans; font-size: 24px;'>Lucida Sans</p>\n",
       "<p>Lucida Sans Typewriter: <span style='font-family:Lucida Sans Typewriter; font-size: 24px;'>Lucida Sans Typewriter</p>\n",
       "<p>Lucida Sans Unicode: <span style='font-family:Lucida Sans Unicode; font-size: 24px;'>Lucida Sans Unicode</p>\n",
       "<p>MS Gothic: <span style='font-family:MS Gothic; font-size: 24px;'>MS Gothic</p>\n",
       "<p>MS Outlook: <span style='font-family:MS Outlook; font-size: 24px;'>MS Outlook</p>\n",
       "<p>MS Reference Sans Serif: <span style='font-family:MS Reference Sans Serif; font-size: 24px;'>MS Reference Sans Serif</p>\n",
       "<p>MS Reference Specialty: <span style='font-family:MS Reference Specialty; font-size: 24px;'>MS Reference Specialty</p>\n",
       "<p>MT Extra: <span style='font-family:MT Extra; font-size: 24px;'>MT Extra</p>\n",
       "<p>MV Boli: <span style='font-family:MV Boli; font-size: 24px;'>MV Boli</p>\n",
       "<p>Magneto: <span style='font-family:Magneto; font-size: 24px;'>Magneto</p>\n",
       "<p>Maiandra GD: <span style='font-family:Maiandra GD; font-size: 24px;'>Maiandra GD</p>\n",
       "<p>Malgun Gothic: <span style='font-family:Malgun Gothic; font-size: 24px;'>Malgun Gothic</p>\n",
       "<p>Marlett: <span style='font-family:Marlett; font-size: 24px;'>Marlett</p>\n",
       "<p>Matura MT Script Capitals: <span style='font-family:Matura MT Script Capitals; font-size: 24px;'>Matura MT Script Capitals</p>\n",
       "<p>Microsoft Himalaya: <span style='font-family:Microsoft Himalaya; font-size: 24px;'>Microsoft Himalaya</p>\n",
       "<p>Microsoft JhengHei: <span style='font-family:Microsoft JhengHei; font-size: 24px;'>Microsoft JhengHei</p>\n",
       "<p>Microsoft New Tai Lue: <span style='font-family:Microsoft New Tai Lue; font-size: 24px;'>Microsoft New Tai Lue</p>\n",
       "<p>Microsoft PhagsPa: <span style='font-family:Microsoft PhagsPa; font-size: 24px;'>Microsoft PhagsPa</p>\n",
       "<p>Microsoft Sans Serif: <span style='font-family:Microsoft Sans Serif; font-size: 24px;'>Microsoft Sans Serif</p>\n",
       "<p>Microsoft Tai Le: <span style='font-family:Microsoft Tai Le; font-size: 24px;'>Microsoft Tai Le</p>\n",
       "<p>Microsoft Uighur: <span style='font-family:Microsoft Uighur; font-size: 24px;'>Microsoft Uighur</p>\n",
       "<p>Microsoft YaHei: <span style='font-family:Microsoft YaHei; font-size: 24px;'>Microsoft YaHei</p>\n",
       "<p>Microsoft Yi Baiti: <span style='font-family:Microsoft Yi Baiti; font-size: 24px;'>Microsoft Yi Baiti</p>\n",
       "<p>MingLiU-ExtB: <span style='font-family:MingLiU-ExtB; font-size: 24px;'>MingLiU-ExtB</p>\n",
       "<p>Mistral: <span style='font-family:Mistral; font-size: 24px;'>Mistral</p>\n",
       "<p>Modern No. 20: <span style='font-family:Modern No. 20; font-size: 24px;'>Modern No. 20</p>\n",
       "<p>Mongolian Baiti: <span style='font-family:Mongolian Baiti; font-size: 24px;'>Mongolian Baiti</p>\n",
       "<p>Monotype Corsiva: <span style='font-family:Monotype Corsiva; font-size: 24px;'>Monotype Corsiva</p>\n",
       "<p>Myanmar Text: <span style='font-family:Myanmar Text; font-size: 24px;'>Myanmar Text</p>\n",
       "<p>Niagara Engraved: <span style='font-family:Niagara Engraved; font-size: 24px;'>Niagara Engraved</p>\n",
       "<p>Niagara Solid: <span style='font-family:Niagara Solid; font-size: 24px;'>Niagara Solid</p>\n",
       "<p>Nirmala UI: <span style='font-family:Nirmala UI; font-size: 24px;'>Nirmala UI</p>\n",
       "<p>OCR A Extended: <span style='font-family:OCR A Extended; font-size: 24px;'>OCR A Extended</p>\n",
       "<p>Old English Text MT: <span style='font-family:Old English Text MT; font-size: 24px;'>Old English Text MT</p>\n",
       "<p>Onyx: <span style='font-family:Onyx; font-size: 24px;'>Onyx</p>\n",
       "<p>Palace Script MT: <span style='font-family:Palace Script MT; font-size: 24px;'>Palace Script MT</p>\n",
       "<p>Palatino Linotype: <span style='font-family:Palatino Linotype; font-size: 24px;'>Palatino Linotype</p>\n",
       "<p>Papyrus: <span style='font-family:Papyrus; font-size: 24px;'>Papyrus</p>\n",
       "<p>Parchment: <span style='font-family:Parchment; font-size: 24px;'>Parchment</p>\n",
       "<p>Perpetua: <span style='font-family:Perpetua; font-size: 24px;'>Perpetua</p>\n",
       "<p>Perpetua Titling MT: <span style='font-family:Perpetua Titling MT; font-size: 24px;'>Perpetua Titling MT</p>\n",
       "<p>Playbill: <span style='font-family:Playbill; font-size: 24px;'>Playbill</p>\n",
       "<p>Poor Richard: <span style='font-family:Poor Richard; font-size: 24px;'>Poor Richard</p>\n",
       "<p>Pristina: <span style='font-family:Pristina; font-size: 24px;'>Pristina</p>\n",
       "<p>Rage Italic: <span style='font-family:Rage Italic; font-size: 24px;'>Rage Italic</p>\n",
       "<p>Ravie: <span style='font-family:Ravie; font-size: 24px;'>Ravie</p>\n",
       "<p>Rockwell: <span style='font-family:Rockwell; font-size: 24px;'>Rockwell</p>\n",
       "<p>Rockwell Condensed: <span style='font-family:Rockwell Condensed; font-size: 24px;'>Rockwell Condensed</p>\n",
       "<p>Rockwell Extra Bold: <span style='font-family:Rockwell Extra Bold; font-size: 24px;'>Rockwell Extra Bold</p>\n",
       "<p>STIXGeneral: <span style='font-family:STIXGeneral; font-size: 24px;'>STIXGeneral</p>\n",
       "<p>STIXNonUnicode: <span style='font-family:STIXNonUnicode; font-size: 24px;'>STIXNonUnicode</p>\n",
       "<p>STIXSizeFiveSym: <span style='font-family:STIXSizeFiveSym; font-size: 24px;'>STIXSizeFiveSym</p>\n",
       "<p>STIXSizeFourSym: <span style='font-family:STIXSizeFourSym; font-size: 24px;'>STIXSizeFourSym</p>\n",
       "<p>STIXSizeOneSym: <span style='font-family:STIXSizeOneSym; font-size: 24px;'>STIXSizeOneSym</p>\n",
       "<p>STIXSizeThreeSym: <span style='font-family:STIXSizeThreeSym; font-size: 24px;'>STIXSizeThreeSym</p>\n",
       "<p>STIXSizeTwoSym: <span style='font-family:STIXSizeTwoSym; font-size: 24px;'>STIXSizeTwoSym</p>\n",
       "<p>Script MT Bold: <span style='font-family:Script MT Bold; font-size: 24px;'>Script MT Bold</p>\n",
       "<p>Segoe MDL2 Assets: <span style='font-family:Segoe MDL2 Assets; font-size: 24px;'>Segoe MDL2 Assets</p>\n",
       "<p>Segoe Print: <span style='font-family:Segoe Print; font-size: 24px;'>Segoe Print</p>\n",
       "<p>Segoe Script: <span style='font-family:Segoe Script; font-size: 24px;'>Segoe Script</p>\n",
       "<p>Segoe UI: <span style='font-family:Segoe UI; font-size: 24px;'>Segoe UI</p>\n",
       "<p>Segoe UI Emoji: <span style='font-family:Segoe UI Emoji; font-size: 24px;'>Segoe UI Emoji</p>\n",
       "<p>Segoe UI Historic: <span style='font-family:Segoe UI Historic; font-size: 24px;'>Segoe UI Historic</p>\n",
       "<p>Segoe UI Symbol: <span style='font-family:Segoe UI Symbol; font-size: 24px;'>Segoe UI Symbol</p>\n",
       "<p>Showcard Gothic: <span style='font-family:Showcard Gothic; font-size: 24px;'>Showcard Gothic</p>\n",
       "<p>SimSun: <span style='font-family:SimSun; font-size: 24px;'>SimSun</p>\n",
       "<p>SimSun-ExtB: <span style='font-family:SimSun-ExtB; font-size: 24px;'>SimSun-ExtB</p>\n",
       "<p>Sitka Small: <span style='font-family:Sitka Small; font-size: 24px;'>Sitka Small</p>\n",
       "<p>Snap ITC: <span style='font-family:Snap ITC; font-size: 24px;'>Snap ITC</p>\n",
       "<p>Source Code Pro: <span style='font-family:Source Code Pro; font-size: 24px;'>Source Code Pro</p>\n",
       "<p>Stencil: <span style='font-family:Stencil; font-size: 24px;'>Stencil</p>\n",
       "<p>Sylfaen: <span style='font-family:Sylfaen; font-size: 24px;'>Sylfaen</p>\n",
       "<p>Symbol: <span style='font-family:Symbol; font-size: 24px;'>Symbol</p>\n",
       "<p>Tahoma: <span style='font-family:Tahoma; font-size: 24px;'>Tahoma</p>\n",
       "<p>Tempus Sans ITC: <span style='font-family:Tempus Sans ITC; font-size: 24px;'>Tempus Sans ITC</p>\n",
       "<p>Times New Roman: <span style='font-family:Times New Roman; font-size: 24px;'>Times New Roman</p>\n",
       "<p>Trebuchet MS: <span style='font-family:Trebuchet MS; font-size: 24px;'>Trebuchet MS</p>\n",
       "<p>Tw Cen MT: <span style='font-family:Tw Cen MT; font-size: 24px;'>Tw Cen MT</p>\n",
       "<p>Tw Cen MT Condensed: <span style='font-family:Tw Cen MT Condensed; font-size: 24px;'>Tw Cen MT Condensed</p>\n",
       "<p>Tw Cen MT Condensed Extra Bold: <span style='font-family:Tw Cen MT Condensed Extra Bold; font-size: 24px;'>Tw Cen MT Condensed Extra Bold</p>\n",
       "<p>Verdana: <span style='font-family:Verdana; font-size: 24px;'>Verdana</p>\n",
       "<p>Viner Hand ITC: <span style='font-family:Viner Hand ITC; font-size: 24px;'>Viner Hand ITC</p>\n",
       "<p>Vivaldi: <span style='font-family:Vivaldi; font-size: 24px;'>Vivaldi</p>\n",
       "<p>Vladimir Script: <span style='font-family:Vladimir Script; font-size: 24px;'>Vladimir Script</p>\n",
       "<p>Webdings: <span style='font-family:Webdings; font-size: 24px;'>Webdings</p>\n",
       "<p>Wide Latin: <span style='font-family:Wide Latin; font-size: 24px;'>Wide Latin</p>\n",
       "<p>Wingdings: <span style='font-family:Wingdings; font-size: 24px;'>Wingdings</p>\n",
       "<p>Wingdings 2: <span style='font-family:Wingdings 2; font-size: 24px;'>Wingdings 2</p>\n",
       "<p>Wingdings 3: <span style='font-family:Wingdings 3; font-size: 24px;'>Wingdings 3</p>\n",
       "<p>Yu Gothic: <span style='font-family:Yu Gothic; font-size: 24px;'>Yu Gothic</p>\n",
       "<p>ZWAdobeF: <span style='font-family:ZWAdobeF; font-size: 24px;'>ZWAdobeF</p>\n",
       "<p>cmb10: <span style='font-family:cmb10; font-size: 24px;'>cmb10</p>\n",
       "<p>cmex10: <span style='font-family:cmex10; font-size: 24px;'>cmex10</p>\n",
       "<p>cmmi10: <span style='font-family:cmmi10; font-size: 24px;'>cmmi10</p>\n",
       "<p>cmr10: <span style='font-family:cmr10; font-size: 24px;'>cmr10</p>\n",
       "<p>cmss10: <span style='font-family:cmss10; font-size: 24px;'>cmss10</p>\n",
       "<p>cmsy10: <span style='font-family:cmsy10; font-size: 24px;'>cmsy10</p>\n",
       "<p>cmtt10: <span style='font-family:cmtt10; font-size: 24px;'>cmtt10</p></div>"
      ],
      "text/plain": [
       "<IPython.core.display.HTML object>"
      ]
     },
     "execution_count": 2,
     "metadata": {},
     "output_type": "execute_result"
    }
   ],
   "source": [
    "# ### FONTS AVAILABLE\n",
    "# import matplotlib.font_manager\n",
    "# from IPython.core.display import HTML\n",
    "# def make_html(fontname):\n",
    "#     return \"<p>{font}: <span style='font-family:{font}; font-size: 24px;'>{font}</p>\".format(font=fontname)\n",
    "# code = \"\\n\".join([make_html(font) for font in sorted(set([f.name for f in matplotlib.font_manager.fontManager.ttflist]))])\n",
    "# HTML(\"<div style='column-count: 2;'>{}</div>\".format(code))"
   ]
  },
  {
   "cell_type": "code",
   "execution_count": null,
   "metadata": {},
   "outputs": [],
   "source": []
  },
  {
   "cell_type": "code",
   "execution_count": null,
   "metadata": {},
   "outputs": [],
   "source": []
  },
  {
   "cell_type": "markdown",
   "metadata": {
    "collapsed": true
   },
   "source": [
    "# NYT: Bar graphs\n",
    "\n",
    "Recreate the bar charts from [this piece](https://www.nytimes.com/2017/12/20/upshot/democrats-2018-congressional-elections-polling.html) and [this piece](https://www.nytimes.com/2017/12/27/business/the-robots-are-coming-and-sweden-is-fine.html) and [this piece](https://www.nytimes.com/2017/09/29/upshot/dont-forget-the-republicans-incumbency-advantage-in-2018.html).\n",
    "\n",
    "![](images/sample-nyt.png)\n",
    "\n",
    "**Data:** \n",
    "   \n",
    "* `generic_poll_lead.csv`\n",
    "* `social-spending.csv`\n",
    "* `cook_pvi.csv`"
   ]
  },
  {
   "cell_type": "code",
   "execution_count": 4,
   "metadata": {},
   "outputs": [
    {
     "data": {
      "text/html": [
       "<div>\n",
       "<style scoped>\n",
       "    .dataframe tbody tr th:only-of-type {\n",
       "        vertical-align: middle;\n",
       "    }\n",
       "\n",
       "    .dataframe tbody tr th {\n",
       "        vertical-align: top;\n",
       "    }\n",
       "\n",
       "    .dataframe thead th {\n",
       "        text-align: right;\n",
       "    }\n",
       "</style>\n",
       "<table border=\"1\" class=\"dataframe\">\n",
       "  <thead>\n",
       "    <tr style=\"text-align: right;\">\n",
       "      <th></th>\n",
       "      <th>Country</th>\n",
       "      <th>Social Spending</th>\n",
       "    </tr>\n",
       "  </thead>\n",
       "  <tbody>\n",
       "    <tr>\n",
       "      <th>0</th>\n",
       "      <td>France</td>\n",
       "      <td>31.5%</td>\n",
       "    </tr>\n",
       "    <tr>\n",
       "      <th>1</th>\n",
       "      <td>Finland</td>\n",
       "      <td>30.8%</td>\n",
       "    </tr>\n",
       "    <tr>\n",
       "      <th>2</th>\n",
       "      <td>Belgium</td>\n",
       "      <td>29.0%</td>\n",
       "    </tr>\n",
       "    <tr>\n",
       "      <th>3</th>\n",
       "      <td>Italy</td>\n",
       "      <td>28.9%</td>\n",
       "    </tr>\n",
       "    <tr>\n",
       "      <th>4</th>\n",
       "      <td>Denmark</td>\n",
       "      <td>28.7%</td>\n",
       "    </tr>\n",
       "  </tbody>\n",
       "</table>\n",
       "</div>"
      ],
      "text/plain": [
       "   Country Social Spending\n",
       "0   France           31.5%\n",
       "1  Finland           30.8%\n",
       "2  Belgium           29.0%\n",
       "3    Italy           28.9%\n",
       "4  Denmark           28.7%"
      ]
     },
     "execution_count": 4,
     "metadata": {},
     "output_type": "execute_result"
    }
   ],
   "source": [
    "spending_df = pd.read_csv(\"sources/social-spending.csv\")\n",
    "spending_df.head()"
   ]
  },
  {
   "cell_type": "code",
   "execution_count": 5,
   "metadata": {},
   "outputs": [
    {
     "data": {
      "text/html": [
       "<div>\n",
       "<style scoped>\n",
       "    .dataframe tbody tr th:only-of-type {\n",
       "        vertical-align: middle;\n",
       "    }\n",
       "\n",
       "    .dataframe tbody tr th {\n",
       "        vertical-align: top;\n",
       "    }\n",
       "\n",
       "    .dataframe thead th {\n",
       "        text-align: right;\n",
       "    }\n",
       "</style>\n",
       "<table border=\"1\" class=\"dataframe\">\n",
       "  <thead>\n",
       "    <tr style=\"text-align: right;\">\n",
       "      <th></th>\n",
       "      <th>Country</th>\n",
       "      <th>Social Spending</th>\n",
       "    </tr>\n",
       "  </thead>\n",
       "  <tbody>\n",
       "    <tr>\n",
       "      <th>0</th>\n",
       "      <td>France</td>\n",
       "      <td>0.315</td>\n",
       "    </tr>\n",
       "    <tr>\n",
       "      <th>1</th>\n",
       "      <td>Finland</td>\n",
       "      <td>0.308</td>\n",
       "    </tr>\n",
       "    <tr>\n",
       "      <th>2</th>\n",
       "      <td>Belgium</td>\n",
       "      <td>0.290</td>\n",
       "    </tr>\n",
       "    <tr>\n",
       "      <th>3</th>\n",
       "      <td>Italy</td>\n",
       "      <td>0.289</td>\n",
       "    </tr>\n",
       "    <tr>\n",
       "      <th>4</th>\n",
       "      <td>Denmark</td>\n",
       "      <td>0.287</td>\n",
       "    </tr>\n",
       "  </tbody>\n",
       "</table>\n",
       "</div>"
      ],
      "text/plain": [
       "   Country  Social Spending\n",
       "0   France            0.315\n",
       "1  Finland            0.308\n",
       "2  Belgium            0.290\n",
       "3    Italy            0.289\n",
       "4  Denmark            0.287"
      ]
     },
     "execution_count": 5,
     "metadata": {},
     "output_type": "execute_result"
    }
   ],
   "source": [
    "spending_df['Social Spending'] = spending_df['Social Spending'].str.replace('%','').astype(float) * 0.01\n",
    "# spending_df['Social Spending'] = spending_df['Social Spending'] \n",
    "spending_df.head()\n"
   ]
  },
  {
   "cell_type": "code",
   "execution_count": 6,
   "metadata": {},
   "outputs": [
    {
     "data": {
      "text/plain": [
       "35         Mexico\n",
       "34    South Korea\n",
       "33          Chile\n",
       "32         Turkey\n",
       "31         Latvia\n",
       "Name: Country, dtype: object"
      ]
     },
     "execution_count": 6,
     "metadata": {},
     "output_type": "execute_result"
    }
   ],
   "source": [
    "spending_df.Country.iloc[::-1].head()"
   ]
  },
  {
   "cell_type": "code",
   "execution_count": 10,
   "metadata": {},
   "outputs": [
    {
     "ename": "AttributeError",
     "evalue": "'NoneType' object has no attribute 'title'",
     "output_type": "error",
     "traceback": [
      "\u001b[1;31m---------------------------------------------------------------------------\u001b[0m",
      "\u001b[1;31mAttributeError\u001b[0m                            Traceback (most recent call last)",
      "\u001b[1;32m<ipython-input-10-61d8c5a90a9d>\u001b[0m in \u001b[0;36m<module>\u001b[1;34m\u001b[0m\n\u001b[0;32m      1\u001b[0m \u001b[0max\u001b[0m \u001b[1;33m=\u001b[0m \u001b[0mspending_df\u001b[0m\u001b[1;33m.\u001b[0m\u001b[0mplot\u001b[0m\u001b[1;33m(\u001b[0m\u001b[0mkind\u001b[0m\u001b[1;33m=\u001b[0m\u001b[1;34m'barh'\u001b[0m\u001b[1;33m,\u001b[0m \u001b[0mx\u001b[0m\u001b[1;33m=\u001b[0m\u001b[1;34m'Country'\u001b[0m\u001b[1;33m)\u001b[0m\u001b[1;33m.\u001b[0m\u001b[0minvert_yaxis\u001b[0m\u001b[1;33m(\u001b[0m\u001b[1;33m)\u001b[0m\u001b[1;33m\u001b[0m\u001b[1;33m\u001b[0m\u001b[0m\n\u001b[1;32m----> 2\u001b[1;33m \u001b[0max\u001b[0m\u001b[1;33m.\u001b[0m\u001b[0mtitle\u001b[0m\u001b[1;33m(\u001b[0m\u001b[1;34m\"Public social spending as a share of G.D.P\"\u001b[0m\u001b[1;33m,\u001b[0m \u001b[0mfontname\u001b[0m\u001b[1;33m=\u001b[0m\u001b[1;34m'Segoe'\u001b[0m\u001b[1;33m,\u001b[0m \u001b[0mfontsize\u001b[0m\u001b[1;33m=\u001b[0m\u001b[1;36m18\u001b[0m\u001b[1;33m)\u001b[0m\u001b[1;33m\u001b[0m\u001b[1;33m\u001b[0m\u001b[0m\n\u001b[0m",
      "\u001b[1;31mAttributeError\u001b[0m: 'NoneType' object has no attribute 'title'"
     ]
    },
    {
     "data": {
      "image/png": "[encoded data removed]",
      "text/plain": [
       "<Figure size 432x288 with 1 Axes>"
      ]
     },
     "metadata": {
      "needs_background": "light"
     },
     "output_type": "display_data"
    }
   ],
   "source": [
    "ax = spending_df.plot(kind='barh', x='Country').invert_yaxis()\n",
    "ax.title(\"Public social spending as a share of G.D.P\", fontname='Segoe', fontsize=18)"
   ]
  },
  {
   "cell_type": "code",
   "execution_count": null,
   "metadata": {},
   "outputs": [],
   "source": []
  },
  {
   "cell_type": "code",
   "execution_count": null,
   "metadata": {},
   "outputs": [],
   "source": []
  },
  {
   "cell_type": "markdown",
   "metadata": {},
   "source": [
    "# Buzzfeed: Diversity in the Agriculture Department\n",
    "\n",
    "You are going to recreate the two line-graph visualizations in [this piece](https://www.buzzfeed.com/jsvine/agriculture-department-political-appointee-diversity) by the super-famous [Jeremy Singer-Vine](https://twitter.com/jsvine). If he can do it, you can too!\n",
    "\n",
    "![](images/buzzfeed.png)\n",
    "\n",
    "**I've included the 100% beautiful, cleaned up data:** `gender-by-quarter.csv` and `diversity-by-quarter.csv`.\n",
    "\n",
    "Since there isn't much cleaning to do, this work is mostly going to be about **how to move between pandas/matplotlib and finish things up in Illustrator.**\n"
   ]
  },
  {
   "cell_type": "code",
   "execution_count": null,
   "metadata": {},
   "outputs": [],
   "source": []
  },
  {
   "cell_type": "code",
   "execution_count": null,
   "metadata": {},
   "outputs": [],
   "source": []
  },
  {
   "cell_type": "code",
   "execution_count": null,
   "metadata": {},
   "outputs": [],
   "source": []
  },
  {
   "cell_type": "code",
   "execution_count": null,
   "metadata": {},
   "outputs": [],
   "source": []
  },
  {
   "cell_type": "code",
   "execution_count": null,
   "metadata": {},
   "outputs": [],
   "source": []
  },
  {
   "cell_type": "markdown",
   "metadata": {},
   "source": [
    "# FiveThirtyEight: What makes Nigel Richards the best at Scrabble?\n",
    "\n",
    "You are going to recreate the visualizations in [this piece](https://fivethirtyeight.com/features/what-makes-nigel-richards-the-best-scrabble-player-on-earth/) by [Oliver Roeder](https://twitter.com/ollie). This is one of my favorite series of charts in all of history! \n",
    "\n",
    "(When you break them down by divisions, though, don't draw the circles.)\n",
    "\n",
    "![](images/sample-538.png)\n",
    "\n",
    "**I've included the data, but there's a little work to be done:** \n",
    "\n",
    "* `scrabble-point-spread.csv` - the points for and against each player at Nationals from one year (2013)\n",
    "* `scrabble-tournament.csv` - rating and division data for each player at Nationals from one year (2013)\n",
    "* `ranked-players-with-scores.csv` - the top 200 ranked players and their average points per game (2018)\n",
    "\n",
    "Note that the ranking data is from 2018 so the graph that uses it will look a bit different.\n"
   ]
  },
  {
   "cell_type": "code",
   "execution_count": null,
   "metadata": {},
   "outputs": [],
   "source": []
  },
  {
   "cell_type": "code",
   "execution_count": null,
   "metadata": {},
   "outputs": [],
   "source": []
  },
  {
   "cell_type": "code",
   "execution_count": null,
   "metadata": {},
   "outputs": [],
   "source": []
  },
  {
   "cell_type": "code",
   "execution_count": null,
   "metadata": {},
   "outputs": [],
   "source": []
  },
  {
   "cell_type": "code",
   "execution_count": null,
   "metadata": {},
   "outputs": [],
   "source": []
  },
  {
   "cell_type": "markdown",
   "metadata": {},
   "source": [
    "# The Economist\n",
    "\n",
    "Recreate the donut chart from [this piece](https://www.economist.com/blogs/graphicdetail/2012/07/daily-chart-0) even though [they're terrible](https://peltiertech.com/chart-busters-the-economist-doesnt-read-forbes/).\n",
    "\n",
    "![](images/economist.png)\n",
    "\n",
    "In fact, the pies are _so terrible_ we're going to **recreate the [revised chart](https://peltiertech.com/chart-busters-the-economist-doesnt-read-forbes/), too**. The important thing about it is that while the original chart focuses on the actual values in 2007 and 2011, the arrow chart reduces those values to **just the change**, which is (arguably) the important part.\n",
    "\n",
    "![](images/econ-revised.png)\n",
    "\n",
    "The revised chart is ugly, though, so we're going to make it look nicer.\n",
    "\n",
    "1. Slightly change the chart type (See Homework Hints file)\n",
    "2. Change the colors (Make it match the Economist)\n",
    "3. Change any other styles/font/etc (Make it match the Economist\n",
    "4. Order the bars (Order by what? Up to you.)\n",
    "\n",
    "**Data:** \n",
    "   \n",
    "* `bank-profits.csv`"
   ]
  },
  {
   "cell_type": "code",
   "execution_count": null,
   "metadata": {},
   "outputs": [],
   "source": []
  },
  {
   "cell_type": "code",
   "execution_count": null,
   "metadata": {},
   "outputs": [],
   "source": []
  },
  {
   "cell_type": "code",
   "execution_count": null,
   "metadata": {},
   "outputs": [],
   "source": []
  },
  {
   "cell_type": "code",
   "execution_count": null,
   "metadata": {},
   "outputs": [],
   "source": []
  },
  {
   "cell_type": "code",
   "execution_count": null,
   "metadata": {},
   "outputs": [],
   "source": []
  },
  {
   "cell_type": "markdown",
   "metadata": {},
   "source": [
    "# The Guardian\n",
    "\n",
    "We'll be recreating a single graph each from \n",
    "\n",
    "1. [this piece](https://www.theguardian.com/news/datablog/2018/jan/26/no-equality-in-the-honours-two-thirds-of-australia-day-awards-go-to-men)\n",
    "2. and [this piece](https://www.theguardian.com/inequality/datablog/2017/jul/17/which-countries-most-and-least-committed-to-reducing-inequality-oxfam-dfi)\n",
    "3. and [this piece](https://www.theguardian.com/money/datablog/2017/jan/06/tracking-the-cost-uk-and-european-commuter-rail-fares-compared-in-data)\n",
    "\n",
    "![](images/guardian.png)\n",
    "\n",
    "We'll be using skills from the Economist revision, so **please do that one first!**\n",
    "\n",
    "**Data:**\n",
    "\n",
    "* `order-of-australia.csv`\n",
    "* `oxfam.csv`\n",
    "* `commute.csv`"
   ]
  },
  {
   "cell_type": "code",
   "execution_count": null,
   "metadata": {},
   "outputs": [],
   "source": []
  },
  {
   "cell_type": "code",
   "execution_count": null,
   "metadata": {},
   "outputs": [],
   "source": []
  },
  {
   "cell_type": "code",
   "execution_count": null,
   "metadata": {},
   "outputs": [],
   "source": []
  },
  {
   "cell_type": "code",
   "execution_count": null,
   "metadata": {},
   "outputs": [],
   "source": []
  }
 ],
 "metadata": {
  "kernelspec": {
   "display_name": "Python 3",
   "language": "python",
   "name": "python3"
  },
  "language_info": {
   "codemirror_mode": {
    "name": "ipython",
    "version": 3
   },
   "file_extension": ".py",
   "mimetype": "text/x-python",
   "name": "python",
   "nbconvert_exporter": "python",
   "pygments_lexer": "ipython3",
   "version": "3.7.3"
  }
 },
 "nbformat": 4,
 "nbformat_minor": 2
}

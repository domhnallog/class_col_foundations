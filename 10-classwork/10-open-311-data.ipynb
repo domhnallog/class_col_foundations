{
 "cells": [
  {
   "cell_type": "markdown",
   "metadata": {},
   "source": [
    "# Working with huge datasets\n",
    "\n",
    "There are a lot of ways to do this, this is a hard-working, understandable one that doesn't require extra packages."
   ]
  },
  {
   "cell_type": "code",
   "execution_count": 1,
   "metadata": {},
   "outputs": [
    {
     "name": "stdout",
     "output_type": "stream",
     "text": [
      "/c/Users/Domhnall/Projects/class_col_foundations/10-classwork\n"
     ]
    }
   ],
   "source": [
    "!pwd"
   ]
  },
  {
   "cell_type": "code",
   "execution_count": 2,
   "metadata": {},
   "outputs": [
    {
     "name": "stdout",
     "output_type": "stream",
     "text": [
      "10-open-311-data.ipynb\n",
      "10-scratchpad.txt\n",
      "311_ServiceRequests_2010toPresent.csv\n",
      "bbc-data.csv\n",
      "bbc-data-2019-06-22-12-00.csv\n",
      "root@138.197.73.93\n",
      "scraper.py\n",
      "sources\n"
     ]
    }
   ],
   "source": [
    "!ls"
   ]
  },
  {
   "cell_type": "markdown",
   "metadata": {},
   "source": [
    "## Step 1: Download 311 data if you don't have it\n",
    "\n",
    "**WARNING:** This is a 12gb file!"
   ]
  },
  {
   "cell_type": "code",
   "execution_count": null,
   "metadata": {},
   "outputs": [],
   "source": [
    "# import os\n",
    "# if not os.path.exists(\"311_ServiceRequests_2010toPresent.csv\"):\n",
    "#     !wget -o 311_ServiceRequests_2010toPresent.csv https://nycopendata.socrata.com/api/views/erm2-nwe9/rows.csv?accessType=DOWNLOAD"
   ]
  },
  {
   "cell_type": "markdown",
   "metadata": {},
   "source": [
    "## How many lines is it?"
   ]
  },
  {
   "cell_type": "code",
   "execution_count": 3,
   "metadata": {},
   "outputs": [
    {
     "name": "stdout",
     "output_type": "stream",
     "text": [
      "20979907 311_ServiceRequests_2010toPresent.csv\n"
     ]
    }
   ],
   "source": [
    "!wc -l 311_ServiceRequests_2010toPresent.csv"
   ]
  },
  {
   "cell_type": "markdown",
   "metadata": {},
   "source": [
    "## Let's read in the file and check it out\n",
    "\n",
    "It's very big, though, so we'll only look at the first 10 rows"
   ]
  },
  {
   "cell_type": "code",
   "execution_count": 2,
   "metadata": {},
   "outputs": [],
   "source": [
    "import pandas as pd\n",
    "\n",
    "pd.set_option(\"display.max_columns\", 100)\n",
    "%matplotlib inline"
   ]
  },
  {
   "cell_type": "code",
   "execution_count": 3,
   "metadata": {
    "scrolled": false
   },
   "outputs": [
    {
     "data": {
      "text/html": [
       "<div>\n",
       "<style scoped>\n",
       "    .dataframe tbody tr th:only-of-type {\n",
       "        vertical-align: middle;\n",
       "    }\n",
       "\n",
       "    .dataframe tbody tr th {\n",
       "        vertical-align: top;\n",
       "    }\n",
       "\n",
       "    .dataframe thead th {\n",
       "        text-align: right;\n",
       "    }\n",
       "</style>\n",
       "<table border=\"1\" class=\"dataframe\">\n",
       "  <thead>\n",
       "    <tr style=\"text-align: right;\">\n",
       "      <th></th>\n",
       "      <th>Unique Key</th>\n",
       "      <th>Created Date</th>\n",
       "      <th>Closed Date</th>\n",
       "      <th>Agency</th>\n",
       "      <th>Agency Name</th>\n",
       "      <th>Complaint Type</th>\n",
       "      <th>Descriptor</th>\n",
       "      <th>Location Type</th>\n",
       "      <th>Incident Zip</th>\n",
       "      <th>Incident Address</th>\n",
       "      <th>Street Name</th>\n",
       "      <th>Cross Street 1</th>\n",
       "      <th>Cross Street 2</th>\n",
       "      <th>Intersection Street 1</th>\n",
       "      <th>Intersection Street 2</th>\n",
       "      <th>Address Type</th>\n",
       "      <th>City</th>\n",
       "      <th>Landmark</th>\n",
       "      <th>Facility Type</th>\n",
       "      <th>Status</th>\n",
       "      <th>Due Date</th>\n",
       "      <th>Resolution Description</th>\n",
       "      <th>Resolution Action Updated Date</th>\n",
       "      <th>Community Board</th>\n",
       "      <th>BBL</th>\n",
       "      <th>Borough</th>\n",
       "      <th>X Coordinate (State Plane)</th>\n",
       "      <th>Y Coordinate (State Plane)</th>\n",
       "      <th>Open Data Channel Type</th>\n",
       "      <th>Park Facility Name</th>\n",
       "      <th>Park Borough</th>\n",
       "      <th>Vehicle Type</th>\n",
       "      <th>Taxi Company Borough</th>\n",
       "      <th>Taxi Pick Up Location</th>\n",
       "      <th>Bridge Highway Name</th>\n",
       "      <th>Bridge Highway Direction</th>\n",
       "      <th>Road Ramp</th>\n",
       "      <th>Bridge Highway Segment</th>\n",
       "      <th>Latitude</th>\n",
       "      <th>Longitude</th>\n",
       "      <th>Location</th>\n",
       "    </tr>\n",
       "  </thead>\n",
       "  <tbody>\n",
       "    <tr>\n",
       "      <th>0</th>\n",
       "      <td>37788938</td>\n",
       "      <td>11/27/2017 07:25:45 PM</td>\n",
       "      <td>11/29/2017 08:30:44 AM</td>\n",
       "      <td>HPD</td>\n",
       "      <td>Department of Housing Preservation and Develop...</td>\n",
       "      <td>HEAT/HOT WATER</td>\n",
       "      <td>APARTMENT ONLY</td>\n",
       "      <td>RESIDENTIAL BUILDING</td>\n",
       "      <td>11216</td>\n",
       "      <td>717 STERLING PLACE</td>\n",
       "      <td>STERLING PLACE</td>\n",
       "      <td>NaN</td>\n",
       "      <td>NaN</td>\n",
       "      <td>NaN</td>\n",
       "      <td>NaN</td>\n",
       "      <td>ADDRESS</td>\n",
       "      <td>BROOKLYN</td>\n",
       "      <td>NaN</td>\n",
       "      <td>NaN</td>\n",
       "      <td>Closed</td>\n",
       "      <td>NaN</td>\n",
       "      <td>The Department of Housing Preservation and Dev...</td>\n",
       "      <td>11/29/2017 08:30:44 AM</td>\n",
       "      <td>08 BROOKLYN</td>\n",
       "      <td>3012380047</td>\n",
       "      <td>BROOKLYN</td>\n",
       "      <td>996698</td>\n",
       "      <td>184444</td>\n",
       "      <td>PHONE</td>\n",
       "      <td>Unspecified</td>\n",
       "      <td>BROOKLYN</td>\n",
       "      <td>NaN</td>\n",
       "      <td>NaN</td>\n",
       "      <td>NaN</td>\n",
       "      <td>NaN</td>\n",
       "      <td>NaN</td>\n",
       "      <td>NaN</td>\n",
       "      <td>NaN</td>\n",
       "      <td>40.672924</td>\n",
       "      <td>-73.955125</td>\n",
       "      <td>(40.67292417080954, -73.95512510845282)</td>\n",
       "    </tr>\n",
       "    <tr>\n",
       "      <th>1</th>\n",
       "      <td>37788939</td>\n",
       "      <td>11/27/2017 12:26:36 AM</td>\n",
       "      <td>11/29/2017 02:06:34 AM</td>\n",
       "      <td>HPD</td>\n",
       "      <td>Department of Housing Preservation and Develop...</td>\n",
       "      <td>HEAT/HOT WATER</td>\n",
       "      <td>APARTMENT ONLY</td>\n",
       "      <td>RESIDENTIAL BUILDING</td>\n",
       "      <td>11208</td>\n",
       "      <td>72 NICHOLS AVENUE</td>\n",
       "      <td>NICHOLS AVENUE</td>\n",
       "      <td>NaN</td>\n",
       "      <td>NaN</td>\n",
       "      <td>NaN</td>\n",
       "      <td>NaN</td>\n",
       "      <td>ADDRESS</td>\n",
       "      <td>BROOKLYN</td>\n",
       "      <td>NaN</td>\n",
       "      <td>NaN</td>\n",
       "      <td>Closed</td>\n",
       "      <td>NaN</td>\n",
       "      <td>The Department of Housing Preservation and Dev...</td>\n",
       "      <td>11/29/2017 02:06:34 AM</td>\n",
       "      <td>05 BROOKLYN</td>\n",
       "      <td>3041090048</td>\n",
       "      <td>BROOKLYN</td>\n",
       "      <td>1020371</td>\n",
       "      <td>190356</td>\n",
       "      <td>ONLINE</td>\n",
       "      <td>Unspecified</td>\n",
       "      <td>BROOKLYN</td>\n",
       "      <td>NaN</td>\n",
       "      <td>NaN</td>\n",
       "      <td>NaN</td>\n",
       "      <td>NaN</td>\n",
       "      <td>NaN</td>\n",
       "      <td>NaN</td>\n",
       "      <td>NaN</td>\n",
       "      <td>40.689086</td>\n",
       "      <td>-73.869753</td>\n",
       "      <td>(40.68908631153338, -73.8697526207326)</td>\n",
       "    </tr>\n",
       "    <tr>\n",
       "      <th>2</th>\n",
       "      <td>37788940</td>\n",
       "      <td>11/27/2017 07:16:26 PM</td>\n",
       "      <td>11/28/2017 08:34:50 PM</td>\n",
       "      <td>HPD</td>\n",
       "      <td>Department of Housing Preservation and Develop...</td>\n",
       "      <td>HEAT/HOT WATER</td>\n",
       "      <td>APARTMENT ONLY</td>\n",
       "      <td>RESIDENTIAL BUILDING</td>\n",
       "      <td>10022</td>\n",
       "      <td>226 EAST 59 STREET</td>\n",
       "      <td>EAST 59 STREET</td>\n",
       "      <td>NaN</td>\n",
       "      <td>NaN</td>\n",
       "      <td>NaN</td>\n",
       "      <td>NaN</td>\n",
       "      <td>ADDRESS</td>\n",
       "      <td>NEW YORK</td>\n",
       "      <td>NaN</td>\n",
       "      <td>NaN</td>\n",
       "      <td>Closed</td>\n",
       "      <td>NaN</td>\n",
       "      <td>The Department of Housing Preservation and Dev...</td>\n",
       "      <td>11/28/2017 08:34:50 PM</td>\n",
       "      <td>06 MANHATTAN</td>\n",
       "      <td>1013320035</td>\n",
       "      <td>MANHATTAN</td>\n",
       "      <td>993717</td>\n",
       "      <td>216613</td>\n",
       "      <td>PHONE</td>\n",
       "      <td>Unspecified</td>\n",
       "      <td>MANHATTAN</td>\n",
       "      <td>NaN</td>\n",
       "      <td>NaN</td>\n",
       "      <td>NaN</td>\n",
       "      <td>NaN</td>\n",
       "      <td>NaN</td>\n",
       "      <td>NaN</td>\n",
       "      <td>NaN</td>\n",
       "      <td>40.761224</td>\n",
       "      <td>-73.965826</td>\n",
       "      <td>(40.76122403578927, -73.96582633456184)</td>\n",
       "    </tr>\n",
       "    <tr>\n",
       "      <th>3</th>\n",
       "      <td>37788942</td>\n",
       "      <td>11/27/2017 12:38:35 PM</td>\n",
       "      <td>12/04/2017 09:25:27 AM</td>\n",
       "      <td>HPD</td>\n",
       "      <td>Department of Housing Preservation and Develop...</td>\n",
       "      <td>HEAT/HOT WATER</td>\n",
       "      <td>APARTMENT ONLY</td>\n",
       "      <td>RESIDENTIAL BUILDING</td>\n",
       "      <td>11693</td>\n",
       "      <td>92-15 DE SOTA ROAD</td>\n",
       "      <td>DE SOTA ROAD</td>\n",
       "      <td>NaN</td>\n",
       "      <td>NaN</td>\n",
       "      <td>NaN</td>\n",
       "      <td>NaN</td>\n",
       "      <td>ADDRESS</td>\n",
       "      <td>Far Rockaway</td>\n",
       "      <td>NaN</td>\n",
       "      <td>NaN</td>\n",
       "      <td>Closed</td>\n",
       "      <td>NaN</td>\n",
       "      <td>The Department of Housing Preservation and Dev...</td>\n",
       "      <td>12/04/2017 09:25:27 AM</td>\n",
       "      <td>14 QUEENS</td>\n",
       "      <td>4161270008</td>\n",
       "      <td>QUEENS</td>\n",
       "      <td>1035315</td>\n",
       "      <td>153169</td>\n",
       "      <td>ONLINE</td>\n",
       "      <td>Unspecified</td>\n",
       "      <td>QUEENS</td>\n",
       "      <td>NaN</td>\n",
       "      <td>NaN</td>\n",
       "      <td>NaN</td>\n",
       "      <td>NaN</td>\n",
       "      <td>NaN</td>\n",
       "      <td>NaN</td>\n",
       "      <td>NaN</td>\n",
       "      <td>40.586943</td>\n",
       "      <td>-73.816148</td>\n",
       "      <td>(40.58694256699123, -73.81614817308076)</td>\n",
       "    </tr>\n",
       "    <tr>\n",
       "      <th>4</th>\n",
       "      <td>37788943</td>\n",
       "      <td>11/27/2017 04:38:14 AM</td>\n",
       "      <td>12/04/2017 02:07:07 AM</td>\n",
       "      <td>HPD</td>\n",
       "      <td>Department of Housing Preservation and Develop...</td>\n",
       "      <td>HEAT/HOT WATER</td>\n",
       "      <td>APARTMENT ONLY</td>\n",
       "      <td>RESIDENTIAL BUILDING</td>\n",
       "      <td>10456</td>\n",
       "      <td>1239 BOSTON ROAD</td>\n",
       "      <td>BOSTON ROAD</td>\n",
       "      <td>NaN</td>\n",
       "      <td>NaN</td>\n",
       "      <td>NaN</td>\n",
       "      <td>NaN</td>\n",
       "      <td>ADDRESS</td>\n",
       "      <td>BRONX</td>\n",
       "      <td>NaN</td>\n",
       "      <td>NaN</td>\n",
       "      <td>Closed</td>\n",
       "      <td>NaN</td>\n",
       "      <td>The Department of Housing Preservation and Dev...</td>\n",
       "      <td>12/04/2017 02:07:07 AM</td>\n",
       "      <td>03 BRONX</td>\n",
       "      <td>2026150050</td>\n",
       "      <td>BRONX</td>\n",
       "      <td>1011490</td>\n",
       "      <td>241747</td>\n",
       "      <td>PHONE</td>\n",
       "      <td>Unspecified</td>\n",
       "      <td>BRONX</td>\n",
       "      <td>NaN</td>\n",
       "      <td>NaN</td>\n",
       "      <td>NaN</td>\n",
       "      <td>NaN</td>\n",
       "      <td>NaN</td>\n",
       "      <td>NaN</td>\n",
       "      <td>NaN</td>\n",
       "      <td>40.830173</td>\n",
       "      <td>-73.901568</td>\n",
       "      <td>(40.83017310705689, -73.90156802986618)</td>\n",
       "    </tr>\n",
       "  </tbody>\n",
       "</table>\n",
       "</div>"
      ],
      "text/plain": [
       "   Unique Key            Created Date             Closed Date Agency  \\\n",
       "0    37788938  11/27/2017 07:25:45 PM  11/29/2017 08:30:44 AM    HPD   \n",
       "1    37788939  11/27/2017 12:26:36 AM  11/29/2017 02:06:34 AM    HPD   \n",
       "2    37788940  11/27/2017 07:16:26 PM  11/28/2017 08:34:50 PM    HPD   \n",
       "3    37788942  11/27/2017 12:38:35 PM  12/04/2017 09:25:27 AM    HPD   \n",
       "4    37788943  11/27/2017 04:38:14 AM  12/04/2017 02:07:07 AM    HPD   \n",
       "\n",
       "                                         Agency Name  Complaint Type  \\\n",
       "0  Department of Housing Preservation and Develop...  HEAT/HOT WATER   \n",
       "1  Department of Housing Preservation and Develop...  HEAT/HOT WATER   \n",
       "2  Department of Housing Preservation and Develop...  HEAT/HOT WATER   \n",
       "3  Department of Housing Preservation and Develop...  HEAT/HOT WATER   \n",
       "4  Department of Housing Preservation and Develop...  HEAT/HOT WATER   \n",
       "\n",
       "       Descriptor         Location Type  Incident Zip    Incident Address  \\\n",
       "0  APARTMENT ONLY  RESIDENTIAL BUILDING         11216  717 STERLING PLACE   \n",
       "1  APARTMENT ONLY  RESIDENTIAL BUILDING         11208   72 NICHOLS AVENUE   \n",
       "2  APARTMENT ONLY  RESIDENTIAL BUILDING         10022  226 EAST 59 STREET   \n",
       "3  APARTMENT ONLY  RESIDENTIAL BUILDING         11693  92-15 DE SOTA ROAD   \n",
       "4  APARTMENT ONLY  RESIDENTIAL BUILDING         10456    1239 BOSTON ROAD   \n",
       "\n",
       "      Street Name  Cross Street 1  Cross Street 2  Intersection Street 1  \\\n",
       "0  STERLING PLACE             NaN             NaN                    NaN   \n",
       "1  NICHOLS AVENUE             NaN             NaN                    NaN   \n",
       "2  EAST 59 STREET             NaN             NaN                    NaN   \n",
       "3    DE SOTA ROAD             NaN             NaN                    NaN   \n",
       "4     BOSTON ROAD             NaN             NaN                    NaN   \n",
       "\n",
       "   Intersection Street 2 Address Type          City  Landmark  Facility Type  \\\n",
       "0                    NaN      ADDRESS      BROOKLYN       NaN            NaN   \n",
       "1                    NaN      ADDRESS      BROOKLYN       NaN            NaN   \n",
       "2                    NaN      ADDRESS      NEW YORK       NaN            NaN   \n",
       "3                    NaN      ADDRESS  Far Rockaway       NaN            NaN   \n",
       "4                    NaN      ADDRESS         BRONX       NaN            NaN   \n",
       "\n",
       "   Status  Due Date                             Resolution Description  \\\n",
       "0  Closed       NaN  The Department of Housing Preservation and Dev...   \n",
       "1  Closed       NaN  The Department of Housing Preservation and Dev...   \n",
       "2  Closed       NaN  The Department of Housing Preservation and Dev...   \n",
       "3  Closed       NaN  The Department of Housing Preservation and Dev...   \n",
       "4  Closed       NaN  The Department of Housing Preservation and Dev...   \n",
       "\n",
       "  Resolution Action Updated Date Community Board         BBL    Borough  \\\n",
       "0         11/29/2017 08:30:44 AM     08 BROOKLYN  3012380047   BROOKLYN   \n",
       "1         11/29/2017 02:06:34 AM     05 BROOKLYN  3041090048   BROOKLYN   \n",
       "2         11/28/2017 08:34:50 PM    06 MANHATTAN  1013320035  MANHATTAN   \n",
       "3         12/04/2017 09:25:27 AM       14 QUEENS  4161270008     QUEENS   \n",
       "4         12/04/2017 02:07:07 AM        03 BRONX  2026150050      BRONX   \n",
       "\n",
       "   X Coordinate (State Plane)  Y Coordinate (State Plane)  \\\n",
       "0                      996698                      184444   \n",
       "1                     1020371                      190356   \n",
       "2                      993717                      216613   \n",
       "3                     1035315                      153169   \n",
       "4                     1011490                      241747   \n",
       "\n",
       "  Open Data Channel Type Park Facility Name Park Borough  Vehicle Type  \\\n",
       "0                  PHONE        Unspecified     BROOKLYN           NaN   \n",
       "1                 ONLINE        Unspecified     BROOKLYN           NaN   \n",
       "2                  PHONE        Unspecified    MANHATTAN           NaN   \n",
       "3                 ONLINE        Unspecified       QUEENS           NaN   \n",
       "4                  PHONE        Unspecified        BRONX           NaN   \n",
       "\n",
       "   Taxi Company Borough  Taxi Pick Up Location  Bridge Highway Name  \\\n",
       "0                   NaN                    NaN                  NaN   \n",
       "1                   NaN                    NaN                  NaN   \n",
       "2                   NaN                    NaN                  NaN   \n",
       "3                   NaN                    NaN                  NaN   \n",
       "4                   NaN                    NaN                  NaN   \n",
       "\n",
       "   Bridge Highway Direction  Road Ramp  Bridge Highway Segment   Latitude  \\\n",
       "0                       NaN        NaN                     NaN  40.672924   \n",
       "1                       NaN        NaN                     NaN  40.689086   \n",
       "2                       NaN        NaN                     NaN  40.761224   \n",
       "3                       NaN        NaN                     NaN  40.586943   \n",
       "4                       NaN        NaN                     NaN  40.830173   \n",
       "\n",
       "   Longitude                                 Location  \n",
       "0 -73.955125  (40.67292417080954, -73.95512510845282)  \n",
       "1 -73.869753   (40.68908631153338, -73.8697526207326)  \n",
       "2 -73.965826  (40.76122403578927, -73.96582633456184)  \n",
       "3 -73.816148  (40.58694256699123, -73.81614817308076)  \n",
       "4 -73.901568  (40.83017310705689, -73.90156802986618)  "
      ]
     },
     "execution_count": 3,
     "metadata": {},
     "output_type": "execute_result"
    }
   ],
   "source": [
    "df = pd.read_csv(\"311_ServiceRequests_2010toPresent.csv\", nrows=5)\n",
    "df.head()"
   ]
  },
  {
   "cell_type": "markdown",
   "metadata": {},
   "source": [
    "# How much space does it take up?\n",
    "\n",
    "Again, we won't read it all in, but let's see how much space 100,000 rows takes up."
   ]
  },
  {
   "cell_type": "code",
   "execution_count": 4,
   "metadata": {},
   "outputs": [
    {
     "name": "stderr",
     "output_type": "stream",
     "text": [
      "C:\\Program Files (x86)\\Python37-32\\lib\\site-packages\\IPython\\core\\interactiveshell.py:3049: DtypeWarning: Columns (17,32,33,34,35,36,37) have mixed types. Specify dtype option on import or set low_memory=False.\n",
      "  interactivity=interactivity, compiler=compiler, result=result)\n"
     ]
    },
    {
     "data": {
      "text/plain": [
       "19600042"
      ]
     },
     "execution_count": 4,
     "metadata": {},
     "output_type": "execute_result"
    }
   ],
   "source": [
    "df = pd.read_csv(\"311_ServiceRequests_2010toPresent.csv\", nrows=100000)\n",
    "df.memory_usage().sum()"
   ]
  },
  {
   "cell_type": "markdown",
   "metadata": {},
   "source": [
    "Let's save that as our baseline. How much smaller can we make it?"
   ]
  },
  {
   "cell_type": "code",
   "execution_count": 5,
   "metadata": {},
   "outputs": [],
   "source": [
    "original_size = df.memory_usage().sum()"
   ]
  },
  {
   "cell_type": "markdown",
   "metadata": {},
   "source": [
    "## Read it all in as strings\n",
    "\n",
    "Strings take up a lot of space, generally. How big is it if we say everything is a string?"
   ]
  },
  {
   "cell_type": "code",
   "execution_count": 6,
   "metadata": {},
   "outputs": [
    {
     "data": {
      "text/plain": [
       "16400042"
      ]
     },
     "execution_count": 6,
     "metadata": {},
     "output_type": "execute_result"
    }
   ],
   "source": [
    "df = pd.read_csv(\"311_ServiceRequests_2010toPresent.csv\", nrows=100000, dtype='str')\n",
    "df.memory_usage().sum()"
   ]
  },
  {
   "cell_type": "code",
   "execution_count": 7,
   "metadata": {},
   "outputs": [
    {
     "data": {
      "text/plain": [
       "83.67350437310287"
      ]
     },
     "execution_count": 7,
     "metadata": {},
     "output_type": "execute_result"
    }
   ],
   "source": [
    "df.memory_usage().sum() / original_size * 100"
   ]
  },
  {
   "cell_type": "markdown",
   "metadata": {},
   "source": [
    "## Specify the data type\n",
    "\n",
    "Since strings are big, maybe we can specify a different data type.\n",
    "\n",
    "* `str` is big\n",
    "* `float` and `int` are small\n",
    "* `category` looks like strings, but is great for things that are actually categories (even things like cities!) - It's secretly stored as an integer, but written out to us as a string.\n",
    "\n",
    "I made you a dictionary to play around with!"
   ]
  },
  {
   "cell_type": "code",
   "execution_count": 28,
   "metadata": {},
   "outputs": [],
   "source": [
    "# What can be an int or float?\n",
    "# What can be a category?\n",
    "\n",
    "dtypes = {\n",
    "    'Unique Key': 'str',\n",
    "    'Created Date': 'str',\n",
    "    'Closed Date': 'str', \n",
    "    'Agency': 'category',\n",
    "    'Agency Name': 'category',\n",
    "    'Complaint Type': 'category',\n",
    "    'Descriptor': 'category',\n",
    "    'Location Type': 'category',\n",
    "    'Incident Zip': 'category',\n",
    "    'Incident Address': 'str', \n",
    "    'Street Name': 'str',\n",
    "    'Cross Street 1': 'str',\n",
    "    'Cross Street 2': 'str',\n",
    "    'Intersection Street 1': 'str',\n",
    "    'Intersection Street 2': 'str',\n",
    "    'Address Type': 'str',\n",
    "    'City': 'category',\n",
    "    'Landmark': 'category',\n",
    "    'Facility Type': 'str',\n",
    "    'Status': 'category',\n",
    "    'Due Date': 'str',\n",
    "    'Resolution Description': 'str',\n",
    "    'Resolution Action Updated Date': 'str',\n",
    "    'Community Board': 'category',\n",
    "    'BBL': 'str',\n",
    "    'Borough': 'category',\n",
    "    'X Coordinate (State Plane)': 'float',\n",
    "    'Y Coordinate (State Plane)': 'float',\n",
    "    'Open Data Channel Type': 'str',\n",
    "    'Park Facility Name': 'str', \n",
    "    'Park Borough': 'category',\n",
    "    'Vehicle Type': 'category',\n",
    "    'Taxi Company Borough': 'category',\n",
    "    'Taxi Pick Up Location': 'str',\n",
    "    'Bridge Highway Name': 'str',\n",
    "    'Bridge Highway Direction': 'str',\n",
    "    'Road Ramp': 'str',\n",
    "    'Bridge Highway Segment': 'str',\n",
    "    'Latitude': 'float',\n",
    "    'Longitude': 'float',\n",
    "    'Location': 'str'\n",
    "}"
   ]
  },
  {
   "cell_type": "code",
   "execution_count": 29,
   "metadata": {},
   "outputs": [
    {
     "data": {
      "text/plain": [
       "14131130"
      ]
     },
     "execution_count": 29,
     "metadata": {},
     "output_type": "execute_result"
    }
   ],
   "source": [
    "df = pd.read_csv(\"311_ServiceRequests_2010toPresent.csv\", nrows=100000, dtype=dtypes)\n",
    "df.memory_usage().sum()"
   ]
  },
  {
   "cell_type": "code",
   "execution_count": 30,
   "metadata": {},
   "outputs": [
    {
     "data": {
      "text/plain": [
       "72.09744754628588"
      ]
     },
     "execution_count": 30,
     "metadata": {},
     "output_type": "execute_result"
    }
   ],
   "source": [
    "df.memory_usage().sum() / original_size * 100"
   ]
  },
  {
   "cell_type": "markdown",
   "metadata": {},
   "source": [
    "## Only read in some columns\n",
    "\n",
    "The easiest way to more easily read in data is to only keep a few columns!"
   ]
  },
  {
   "cell_type": "code",
   "execution_count": 12,
   "metadata": {},
   "outputs": [],
   "source": [
    "columns = ['Unique Key', 'Created Date', 'Closed Date', 'Agency', 'Agency Name',\n",
    "       'Complaint Type', 'Descriptor', 'Incident Zip',\n",
    "       'Incident Address', 'Address Type',\n",
    "       'Community Board', 'Borough',\n",
    "       'Latitude', 'Longitude']\n",
    "df = pd.read_csv(\"311_ServiceRequests_2010toPresent.csv\", nrows=100000, usecols=columns)"
   ]
  },
  {
   "cell_type": "code",
   "execution_count": 13,
   "metadata": {},
   "outputs": [
    {
     "name": "stderr",
     "output_type": "stream",
     "text": [
      "/Users/jonathansoma/.pyenv/versions/3.6.7/lib/python3.6/site-packages/IPython/core/interactiveshell.py:3049: DtypeWarning: Columns (8) have mixed types. Specify dtype option on import or set low_memory=False.\n",
      "  interactivity=interactivity, compiler=compiler, result=result)\n"
     ]
    },
    {
     "data": {
      "text/plain": [
       "11200080"
      ]
     },
     "execution_count": 13,
     "metadata": {},
     "output_type": "execute_result"
    }
   ],
   "source": [
    "df = pd.read_csv(\"311_ServiceRequests_2010toPresent.csv\", nrows=100000, usecols=columns)\n",
    "df.memory_usage().sum()"
   ]
  },
  {
   "cell_type": "code",
   "execution_count": 14,
   "metadata": {},
   "outputs": [
    {
     "data": {
      "text/plain": [
       "34.14650208170224"
      ]
     },
     "execution_count": 14,
     "metadata": {},
     "output_type": "execute_result"
    }
   ],
   "source": [
    "df.memory_usage().sum() / original_size * 100"
   ]
  },
  {
   "cell_type": "markdown",
   "metadata": {},
   "source": [
    "# Only read in some columns and specify the data type\n",
    "\n",
    "If you can combine the two techniques - reading in a subset of columns *and* specifying the data type - you can read in a lot more data without taking up nearly as much RAM."
   ]
  },
  {
   "cell_type": "code",
   "execution_count": 31,
   "metadata": {},
   "outputs": [],
   "source": [
    "dtypes = {\n",
    "    'Unique Key': 'str',\n",
    "    'Created Date': 'str',\n",
    "    'Closed Date': 'str',\n",
    "    'Agency': 'str',\n",
    "    'Agency Name': 'str',\n",
    "    'Complaint Type': 'str',\n",
    "    'Descriptor': 'str',\n",
    "    'Incident Zip': 'str',\n",
    "    'Incident Address': 'str',\n",
    "    'Address Type': 'str',\n",
    "    'Community Board': 'str',\n",
    "    'Borough': 'str',\n",
    "    'Latitude': 'str',\n",
    "    'Longitude': 'str'\n",
    "}\n",
    "columns = dtypes.keys()"
   ]
  },
  {
   "cell_type": "code",
   "execution_count": 32,
   "metadata": {},
   "outputs": [
    {
     "data": {
      "text/plain": [
       "5600042"
      ]
     },
     "execution_count": 32,
     "metadata": {},
     "output_type": "execute_result"
    }
   ],
   "source": [
    "df = pd.read_csv(\"311_ServiceRequests_2010toPresent.csv\", nrows=100000, usecols=columns, dtype=dtypes)\n",
    "df.memory_usage().sum()"
   ]
  },
  {
   "cell_type": "code",
   "execution_count": 33,
   "metadata": {},
   "outputs": [
    {
     "data": {
      "text/plain": [
       "28.57158163232507"
      ]
     },
     "execution_count": 33,
     "metadata": {},
     "output_type": "execute_result"
    }
   ],
   "source": [
    "df.memory_usage().sum() / original_size * 100"
   ]
  },
  {
   "cell_type": "code",
   "execution_count": null,
   "metadata": {},
   "outputs": [],
   "source": []
  }
 ],
 "metadata": {
  "kernelspec": {
   "display_name": "Python 3",
   "language": "python",
   "name": "python3"
  },
  "language_info": {
   "codemirror_mode": {
    "name": "ipython",
    "version": 3
   },
   "file_extension": ".py",
   "mimetype": "text/x-python",
   "name": "python",
   "nbconvert_exporter": "python",
   "pygments_lexer": "ipython3",
   "version": "3.7.3"
  }
 },
 "nbformat": 4,
 "nbformat_minor": 2
}

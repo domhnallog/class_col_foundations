{
 "cells": [
  {
   "cell_type": "markdown",
   "metadata": {},
   "source": [
    "# SWAPI (Star Wars)\n",
    "\n",
    "Answer the following questions using the [Star Wars](https://swapi.co/). I've added three cells for each question but you're free to use more or less! Hold `Shift` and hit `Enter` to run a cell, and use the `+` on the top left to add a new cell to a notebook.\n",
    "\n",
    "If you spend some time reading the documentation your life will probably be a little bit easier!\n",
    "\n",
    "## 0) Import any libraries you might need\n",
    "\n",
    "- *Tip: We're going to be downloading things from the internet, so we probably need `requests`.*"
   ]
  },
  {
   "cell_type": "code",
   "execution_count": 1,
   "metadata": {},
   "outputs": [],
   "source": [
    "import requests"
   ]
  },
  {
   "cell_type": "markdown",
   "metadata": {},
   "source": [
    "## 1) Make a request to the Star Wars API\n",
    "\n",
    "I've heard there's a new Star Wars film called **Solo**, but it isn't in SWAPI!\n",
    "\n",
    "The most recent film it contains has an ID of 7. Make a request for that film and look at the data."
   ]
  },
  {
   "cell_type": "code",
   "execution_count": 2,
   "metadata": {},
   "outputs": [],
   "source": [
    "response = requests.get('https://swapi.co/api/films/7/')\n",
    "film7 = response.json()\n",
    "#film7"
   ]
  },
  {
   "cell_type": "markdown",
   "metadata": {},
   "source": [
    "## 2) What is that film's name, and when was it released?\n",
    "\n",
    "Please print **only** the title and the release date. You can guess at the keys, but I recommend checking the documentation."
   ]
  },
  {
   "cell_type": "code",
   "execution_count": 3,
   "metadata": {},
   "outputs": [
    {
     "name": "stdout",
     "output_type": "stream",
     "text": [
      "The Force Awakens, 2015-12-11\n"
     ]
    }
   ],
   "source": [
    "print(f\"{film7['title']}, {film7['release_date']}\")"
   ]
  },
  {
   "cell_type": "markdown",
   "metadata": {},
   "source": [
    "## 3) But I want Han Solo! Use the API to search for people named \"Solo\"."
   ]
  },
  {
   "cell_type": "code",
   "execution_count": 4,
   "metadata": {},
   "outputs": [],
   "source": [
    "response = requests.get(\"https://swapi.co/api/people/schema\")\n",
    "schema_people = response.json()\n",
    "# schema_people"
   ]
  },
  {
   "cell_type": "code",
   "execution_count": 5,
   "metadata": {},
   "outputs": [],
   "source": [
    "# response = requests.get(\"https://swapi.co/api/people/?search=r2\")\n",
    "# search_r2 = response.json()\n",
    "# search_r2"
   ]
  },
  {
   "cell_type": "code",
   "execution_count": 6,
   "metadata": {},
   "outputs": [],
   "source": [
    "# response = requests.get(\"https://swapi.co/api/people/?search=skywalker\")\n",
    "# search_skywalker = response.json()\n",
    "# search_skywalker"
   ]
  },
  {
   "cell_type": "code",
   "execution_count": 7,
   "metadata": {},
   "outputs": [
    {
     "data": {
      "text/plain": [
       "{'count': 1,\n",
       " 'next': None,\n",
       " 'previous': None,\n",
       " 'results': [{'name': 'Han Solo',\n",
       "   'height': '180',\n",
       "   'mass': '80',\n",
       "   'hair_color': 'brown',\n",
       "   'skin_color': 'fair',\n",
       "   'eye_color': 'brown',\n",
       "   'birth_year': '29BBY',\n",
       "   'gender': 'male',\n",
       "   'homeworld': 'https://swapi.co/api/planets/22/',\n",
       "   'films': ['https://swapi.co/api/films/2/',\n",
       "    'https://swapi.co/api/films/3/',\n",
       "    'https://swapi.co/api/films/1/',\n",
       "    'https://swapi.co/api/films/7/'],\n",
       "   'species': ['https://swapi.co/api/species/1/'],\n",
       "   'vehicles': [],\n",
       "   'starships': ['https://swapi.co/api/starships/10/',\n",
       "    'https://swapi.co/api/starships/22/'],\n",
       "   'created': '2014-12-10T16:49:14.582000Z',\n",
       "   'edited': '2014-12-20T21:17:50.334000Z',\n",
       "   'url': 'https://swapi.co/api/people/14/'}]}"
      ]
     },
     "execution_count": 7,
     "metadata": {},
     "output_type": "execute_result"
    }
   ],
   "source": [
    "response = requests.get(\"https://swapi.co/api/people/?search=solo\")\n",
    "search_solo = response.json()\n",
    "search_solo"
   ]
  },
  {
   "cell_type": "code",
   "execution_count": 8,
   "metadata": {},
   "outputs": [
    {
     "data": {
      "text/plain": [
       "{'name': 'Han Solo',\n",
       " 'height': '180',\n",
       " 'mass': '80',\n",
       " 'hair_color': 'brown',\n",
       " 'skin_color': 'fair',\n",
       " 'eye_color': 'brown',\n",
       " 'birth_year': '29BBY',\n",
       " 'gender': 'male',\n",
       " 'homeworld': 'https://swapi.co/api/planets/22/',\n",
       " 'films': ['https://swapi.co/api/films/2/',\n",
       "  'https://swapi.co/api/films/3/',\n",
       "  'https://swapi.co/api/films/1/',\n",
       "  'https://swapi.co/api/films/7/'],\n",
       " 'species': ['https://swapi.co/api/species/1/'],\n",
       " 'vehicles': [],\n",
       " 'starships': ['https://swapi.co/api/starships/10/',\n",
       "  'https://swapi.co/api/starships/22/'],\n",
       " 'created': '2014-12-10T16:49:14.582000Z',\n",
       " 'edited': '2014-12-20T21:17:50.334000Z',\n",
       " 'url': 'https://swapi.co/api/people/14/'}"
      ]
     },
     "execution_count": 8,
     "metadata": {},
     "output_type": "execute_result"
    }
   ],
   "source": [
    "response = requests.get(\"https://swapi.co/api/people/14/\")\n",
    "solo = response.json()\n",
    "solo"
   ]
  },
  {
   "cell_type": "markdown",
   "metadata": {},
   "source": [
    "## 4) How many results did you get?\n",
    "\n",
    "Show **two different ways** of displaying this number.\n",
    "\n",
    "- *Tip: One uses the API, and one uses a Python function*"
   ]
  },
  {
   "cell_type": "code",
   "execution_count": 9,
   "metadata": {},
   "outputs": [
    {
     "name": "stdout",
     "output_type": "stream",
     "text": [
      "1\n"
     ]
    }
   ],
   "source": [
    "print(search_solo['count'])"
   ]
  },
  {
   "cell_type": "code",
   "execution_count": 10,
   "metadata": {},
   "outputs": [
    {
     "name": "stdout",
     "output_type": "stream",
     "text": [
      "1\n"
     ]
    }
   ],
   "source": [
    "print(len(search_solo['results']))"
   ]
  },
  {
   "cell_type": "code",
   "execution_count": 11,
   "metadata": {
    "scrolled": true
   },
   "outputs": [
    {
     "name": "stdout",
     "output_type": "stream",
     "text": [
      "1\n"
     ]
    }
   ],
   "source": [
    "s=0\n",
    "for result in search_solo['results']:\n",
    "    s = s + 1\n",
    "print(s)"
   ]
  },
  {
   "cell_type": "code",
   "execution_count": 12,
   "metadata": {},
   "outputs": [
    {
     "name": "stdout",
     "output_type": "stream",
     "text": [
      "1\n"
     ]
    }
   ],
   "source": [
    "hs = len([result for result in search_solo['results']])\n",
    "print(hs)"
   ]
  },
  {
   "cell_type": "markdown",
   "metadata": {},
   "source": [
    "## 5) Write me a sentence about Han Solo\n",
    "\n",
    "Your sentence should be say `\"____ has _____ hair, is _____cm tall and weighs ____kg.\"` - make sure you have **no spaces** between the numbers and `cm`/`kg`."
   ]
  },
  {
   "cell_type": "code",
   "execution_count": 13,
   "metadata": {},
   "outputs": [
    {
     "name": "stdout",
     "output_type": "stream",
     "text": [
      "Han Solo has brown hair, is 180cm tall and weighs 80kg.\n"
     ]
    }
   ],
   "source": [
    "solo = search_solo['results'][0]\n",
    "solo\n",
    "print(f\"{solo['name']} has {solo['hair_color']} hair, is {solo['height']}cm tall and weighs {solo['mass']}kg.\")"
   ]
  },
  {
   "cell_type": "markdown",
   "metadata": {},
   "source": [
    "## 5) Search for C-3PO"
   ]
  },
  {
   "cell_type": "code",
   "execution_count": 14,
   "metadata": {},
   "outputs": [],
   "source": [
    "response = requests.get(\"https://swapi.co/api/people/?search=3po\")\n",
    "search_3po = response.json()\n",
    "# search_3po"
   ]
  },
  {
   "cell_type": "markdown",
   "metadata": {},
   "source": [
    "## 6) What URL can tell me more about his species? Make a request to the corrent endpoint.\n",
    "\n",
    "Spoiler: he's a **droid**. Are robots a species? I guess so, maybe."
   ]
  },
  {
   "cell_type": "code",
   "execution_count": 15,
   "metadata": {},
   "outputs": [
    {
     "name": "stdout",
     "output_type": "stream",
     "text": [
      "https://swapi.co/api/species/2/\n"
     ]
    }
   ],
   "source": [
    "droid_url = search_3po['results'][0]['species'][0]\n",
    "print(droid_url)"
   ]
  },
  {
   "cell_type": "code",
   "execution_count": 16,
   "metadata": {},
   "outputs": [
    {
     "name": "stdout",
     "output_type": "stream",
     "text": [
      "This endpoint points to the species page for 'Droid.'\n"
     ]
    }
   ],
   "source": [
    "response = requests.get(f'{droid_url}')\n",
    "spec_droid = response.json()\n",
    "print(f\"This endpoint points to the species page for '{spec_droid['name']}.'\")"
   ]
  },
  {
   "cell_type": "markdown",
   "metadata": {},
   "source": [
    "## 7) Print out the URL of every droid\n",
    "\n",
    "* *Tip: life will be easier if you don't say `for droid in...` or `for person in` because you aren't looping through droids or people. What are you looping through?*"
   ]
  },
  {
   "cell_type": "code",
   "execution_count": 17,
   "metadata": {},
   "outputs": [
    {
     "name": "stdout",
     "output_type": "stream",
     "text": [
      "https://swapi.co/api/people/2/\n",
      "https://swapi.co/api/people/3/\n",
      "https://swapi.co/api/people/8/\n",
      "https://swapi.co/api/people/23/\n",
      "https://swapi.co/api/people/87/\n"
     ]
    }
   ],
   "source": [
    "# loop through list of people on https://swapi.co/api/species/2/\n",
    "for droid_url in spec_droid['people']:\n",
    "    print(droid_url)"
   ]
  },
  {
   "cell_type": "markdown",
   "metadata": {},
   "source": [
    "## 8) Print out the name of every droid\n",
    "\n",
    "* *Tip: You should start from the last answer, but add more stuff in!*\n",
    "* *Tip: You'll need to make a request every time you're in the loop*\n",
    "* *Tip: Be careful - f you re-use the variable name `data` you'll erase your old `data` variable*"
   ]
  },
  {
   "cell_type": "code",
   "execution_count": 18,
   "metadata": {
    "scrolled": true
   },
   "outputs": [
    {
     "name": "stdout",
     "output_type": "stream",
     "text": [
      "C-3PO\n",
      "R2-D2\n",
      "R5-D4\n",
      "IG-88\n",
      "BB8\n"
     ]
    }
   ],
   "source": [
    "for droid_url in spec_droid['people']:\n",
    "    response = requests.get(droid_url)\n",
    "    droid_page = response.json()\n",
    "    print(droid_page['name'])"
   ]
  },
  {
   "cell_type": "markdown",
   "metadata": {},
   "source": [
    "## 9) Print out more about the droid\n",
    "\n",
    "Count the number of films for each droid, printing `\"___ was in ___ films\"` for each of them\n",
    "\n",
    "* *Tip: You might want to look at a single droid result, or print the data in the for loop, so you know how to get the films. Or read the documentation!*"
   ]
  },
  {
   "cell_type": "code",
   "execution_count": 19,
   "metadata": {},
   "outputs": [
    {
     "name": "stdout",
     "output_type": "stream",
     "text": [
      "C-3PO was in 6 films.\n",
      "R2-D2 was in 7 films.\n",
      "R5-D4 was in 1 films.\n",
      "IG-88 was in 1 films.\n",
      "BB8 was in 1 films.\n"
     ]
    }
   ],
   "source": [
    "for droid_url in spec_droid['people']:\n",
    "    response = requests.get(droid_url)\n",
    "    droid_page = response.json()\n",
    "    print(f\"{droid_page['name']} was in {len(droid_page['films'])} films.\")"
   ]
  },
  {
   "cell_type": "markdown",
   "metadata": {},
   "source": [
    "## 10) Let's be smart and cache the results *[DIFFICULT, maybe!]*\n",
    "\n",
    "So far we've been using a for loop to go through each droid. Every droid, one more request. Every time we want more data, we run the loops again. I don't want that guy to get angry that we're asking for so much data!\n",
    "\n",
    "We want to our list of **droid urls** and turn it into a **list of dictionaries about those droids**. Save it as a variable called `droids`. If you get it correct, the following code should work if you cut and paste it.\n",
    "\n",
    "```python\n",
    "for droid in droids:\n",
    "    print(droid['name'])\n",
    "```\n",
    "\n",
    "* *Tip: Use a list comprehension*\n",
    "* *Tip: So far we've done `response = requests.get..` and `response.json()` on separate lines. You'll need to combine them!*"
   ]
  },
  {
   "cell_type": "code",
   "execution_count": 20,
   "metadata": {},
   "outputs": [],
   "source": [
    "droids = [requests.get(droid_url).json() for droid_url in spec_droid['people']]\n",
    "# droids"
   ]
  },
  {
   "cell_type": "code",
   "execution_count": 21,
   "metadata": {},
   "outputs": [
    {
     "name": "stdout",
     "output_type": "stream",
     "text": [
      "C-3PO\n",
      "R2-D2\n",
      "R5-D4\n",
      "IG-88\n",
      "BB8\n"
     ]
    }
   ],
   "source": [
    "for droid in droids:\n",
    "    print(droid['name'])"
   ]
  },
  {
   "cell_type": "markdown",
   "metadata": {},
   "source": [
    "## 11) Get a list of every single planet in the Star Wars universe\n",
    "\n",
    "* *Tip: You'll want to use the API documentation for this, I think*"
   ]
  },
  {
   "cell_type": "code",
   "execution_count": 22,
   "metadata": {},
   "outputs": [],
   "source": [
    "planet_list = []\n",
    "base_url = \"https://swapi.co/api/planets/\"\n",
    "for i in range(1,100):\n",
    "    if response.status_code == 200:\n",
    "        page_no = i\n",
    "        response = requests.get(base_url+str(page_no))\n",
    "        planet_list.append(response.json())\n",
    "    else:\n",
    "        del planet_list[-1]\n",
    "        break"
   ]
  },
  {
   "cell_type": "code",
   "execution_count": 23,
   "metadata": {},
   "outputs": [
    {
     "name": "stdout",
     "output_type": "stream",
     "text": [
      "Tatooine\n",
      "Alderaan\n",
      "Yavin IV\n",
      "Hoth\n",
      "Dagobah\n",
      "Bespin\n",
      "Endor\n",
      "Naboo\n",
      "Coruscant\n",
      "Kamino\n",
      "Geonosis\n",
      "Utapau\n",
      "Mustafar\n",
      "Kashyyyk\n",
      "Polis Massa\n",
      "Mygeeto\n",
      "Felucia\n",
      "Cato Neimoidia\n",
      "Saleucami\n",
      "Stewjon\n",
      "Eriadu\n",
      "Corellia\n",
      "Rodia\n",
      "Nal Hutta\n",
      "Dantooine\n",
      "Bestine IV\n",
      "Ord Mantell\n",
      "unknown\n",
      "Trandosha\n",
      "Socorro\n",
      "Mon Cala\n",
      "Chandrila\n",
      "Sullust\n",
      "Toydaria\n",
      "Malastare\n",
      "Dathomir\n",
      "Ryloth\n",
      "Aleen Minor\n",
      "Vulpter\n",
      "Troiken\n",
      "Tund\n",
      "Haruun Kal\n",
      "Cerea\n",
      "Glee Anselm\n",
      "Iridonia\n",
      "Tholoth\n",
      "Iktotch\n",
      "Quermia\n",
      "Dorin\n",
      "Champala\n",
      "Mirial\n",
      "Serenno\n",
      "Concord Dawn\n",
      "Zolan\n",
      "Ojom\n",
      "Skako\n",
      "Muunilinst\n",
      "Shili\n",
      "Kalee\n",
      "Umbara\n",
      "Jakku\n"
     ]
    }
   ],
   "source": [
    "for planet in planet_list:\n",
    "    print(planet['name'])"
   ]
  },
  {
   "cell_type": "code",
   "execution_count": 24,
   "metadata": {},
   "outputs": [],
   "source": [
    "# WHILE LOOP THAT TIMED OUT\n",
    "# planet_list = []\n",
    "# base_url = \"https://swapi.co/api/planets/\"\n",
    "# runwhile = True\n",
    "# while (runwhile):\n",
    "#     page_no = 1\n",
    "#     response = requests.get(base_url+str(page_no))\n",
    "#     planet_list.append(response.json())\n",
    "#     page_no += 1\n",
    "#     if response.status_code == 404:\n",
    "#         runwhile = False\n",
    "#         break\n",
    "# planet_list"
   ]
  },
  {
   "cell_type": "markdown",
   "metadata": {},
   "source": [
    "## 12) How many planets are there? Show me two different ways of displaying the answer.\n",
    "\n",
    "* *Tip: They won't match*"
   ]
  },
  {
   "cell_type": "code",
   "execution_count": 25,
   "metadata": {},
   "outputs": [
    {
     "name": "stdout",
     "output_type": "stream",
     "text": [
      "61\n"
     ]
    }
   ],
   "source": [
    "print(len(planet_list))"
   ]
  },
  {
   "cell_type": "code",
   "execution_count": 26,
   "metadata": {},
   "outputs": [
    {
     "name": "stdout",
     "output_type": "stream",
     "text": [
      "61\n"
     ]
    }
   ],
   "source": [
    "pc = len([planet for planet in planet_list])\n",
    "print(pc)"
   ]
  },
  {
   "cell_type": "markdown",
   "metadata": {},
   "source": [
    "# These questions are all list comprehension questions, if you'd like\n",
    "\n",
    "## 13) Get the population of each of the planets\n",
    "\n",
    "* *Tip: Only use the 10 results for now*\n",
    "* *Tip: Use a list comprehension*"
   ]
  },
  {
   "cell_type": "code",
   "execution_count": 27,
   "metadata": {},
   "outputs": [],
   "source": [
    "#planet_list[0]"
   ]
  },
  {
   "cell_type": "code",
   "execution_count": 28,
   "metadata": {},
   "outputs": [
    {
     "name": "stdout",
     "output_type": "stream",
     "text": [
      "Tatooine:\t200,000\n",
      "Alderaan:\t2,000,000,000\n",
      "Yavin IV:\t1,000\n"
     ]
    },
    {
     "ename": "ValueError",
     "evalue": "invalid literal for int() with base 10: 'unknown'",
     "output_type": "error",
     "traceback": [
      "\u001b[1;31m---------------------------------------------------\u001b[0m",
      "\u001b[1;31mValueError\u001b[0m        Traceback (most recent call last)",
      "\u001b[1;32m<ipython-input-28-683695399bad>\u001b[0m in \u001b[0;36m<module>\u001b[1;34m\u001b[0m\n\u001b[0;32m      1\u001b[0m \u001b[1;32mfor\u001b[0m \u001b[0mplanet\u001b[0m \u001b[1;32min\u001b[0m \u001b[0mplanet_list\u001b[0m \u001b[1;33m[\u001b[0m\u001b[1;33m:\u001b[0m\u001b[1;36m10\u001b[0m\u001b[1;33m]\u001b[0m\u001b[1;33m:\u001b[0m\u001b[1;33m\u001b[0m\u001b[1;33m\u001b[0m\u001b[0m\n\u001b[1;32m----> 2\u001b[1;33m     \u001b[0mprint\u001b[0m\u001b[1;33m(\u001b[0m\u001b[1;34mf\"{planet['name']}:\\t{int(planet['population']):,.0f}\"\u001b[0m\u001b[1;33m)\u001b[0m\u001b[1;33m\u001b[0m\u001b[1;33m\u001b[0m\u001b[0m\n\u001b[0m",
      "\u001b[1;31mValueError\u001b[0m: invalid literal for int() with base 10: 'unknown'"
     ]
    }
   ],
   "source": [
    "for planet in planet_list [:10]:\n",
    "    print(f\"{planet['name']}:\\t{int(planet['population']):,.0f}\")"
   ]
  },
  {
   "cell_type": "markdown",
   "metadata": {},
   "source": [
    "## 14) Get the population of each of the planets, EXCEPT the ones that have a population of `'unknown'`\n",
    "\n",
    "* *Tip: Use a list comprehension with a filter (that's the `..if..` part at the end)*"
   ]
  },
  {
   "cell_type": "code",
   "execution_count": 29,
   "metadata": {},
   "outputs": [
    {
     "name": "stdout",
     "output_type": "stream",
     "text": [
      "The population of various planets:\n",
      "\tTatooine:  \t200,000\n",
      "\tAlderaan:  \t2,000,000,000\n",
      "\tYavin IV:  \t1,000\n",
      "\tBespin:  \t6,000,000\n",
      "\tEndor:  \t30,000,000\n",
      "\tNaboo:  \t4,500,000,000\n",
      "\tCoruscant:  \t1,000,000,000,000\n",
      "\tKamino:  \t1,000,000,000\n",
      "\tGeonosis:  \t100,000,000,000\n",
      "\tUtapau:  \t95,000,000\n",
      "\tMustafar:  \t20,000\n",
      "\tKashyyyk:  \t45,000,000\n",
      "\tPolis Massa:  \t1,000,000\n",
      "\tMygeeto:  \t19,000,000\n",
      "\tFelucia:  \t8,500,000\n",
      "\tCato Neimoidia:  \t10,000,000\n",
      "\tSaleucami:  \t1,400,000,000\n",
      "\tEriadu:  \t22,000,000,000\n",
      "\tCorellia:  \t3,000,000,000\n",
      "\tRodia:  \t1,300,000,000\n",
      "\tNal Hutta:  \t7,000,000,000\n",
      "\tDantooine:  \t1,000\n",
      "\tBestine IV:  \t62,000,000\n",
      "\tOrd Mantell:  \t4,000,000,000\n",
      "\tTrandosha:  \t42,000,000\n",
      "\tSocorro:  \t300,000,000\n",
      "\tMon Cala:  \t27,000,000,000\n",
      "\tChandrila:  \t1,200,000,000\n",
      "\tSullust:  \t18,500,000,000\n",
      "\tToydaria:  \t11,000,000\n",
      "\tMalastare:  \t2,000,000,000\n",
      "\tDathomir:  \t5,200\n",
      "\tRyloth:  \t1,500,000,000\n",
      "\tVulpter:  \t421,000,000\n",
      "\tTund:  \t0\n",
      "\tHaruun Kal:  \t705,300\n",
      "\tCerea:  \t450,000,000\n",
      "\tGlee Anselm:  \t500,000,000\n",
      "\tChampala:  \t3,500,000,000\n",
      "\tOjom:  \t500,000,000\n",
      "\tSkako:  \t500,000,000,000\n",
      "\tMuunilinst:  \t5,000,000,000\n",
      "\tKalee:  \t4,000,000,000\n"
     ]
    }
   ],
   "source": [
    "print(f\"The population of various planets:\")\n",
    "for planet in planet_list:\n",
    "    if planet['population'] != 'unknown':\n",
    "        print(f\"\\t{planet['name']}:  \\t{int(planet['population']):,.0f}\")"
   ]
  },
  {
   "cell_type": "markdown",
   "metadata": {},
   "source": [
    "## 14) Add up the populations\n",
    "\n",
    "* *Tip: They're strings right now, so it isn't going to work unless you change something about them*"
   ]
  },
  {
   "cell_type": "code",
   "execution_count": 30,
   "metadata": {},
   "outputs": [
    {
     "name": "stdout",
     "output_type": "stream",
     "text": [
      "The intergalactic population totals: 1,711,401,432,500\n"
     ]
    }
   ],
   "source": [
    "intergal_pop = [int(planet['population']) for planet in planet_list if planet['population'] != 'unknown']\n",
    "print(f\"The intergalactic population totals: {sum(intergal_pop):,.0f}\")"
   ]
  },
  {
   "cell_type": "markdown",
   "metadata": {},
   "source": [
    "## 15) Print what percentage of the total population each planet has\n",
    "\n",
    "I would like the sentences to be `\"The planet ____ has a population of _____, which is ___% of the total population\"`. If we don't know the planet's population, say `\"We don't know the population of _____\"`.\n",
    "\n",
    "* *Tip: This finally uses a for loop, but also the result of the last question*"
   ]
  },
  {
   "cell_type": "code",
   "execution_count": 31,
   "metadata": {},
   "outputs": [
    {
     "name": "stdout",
     "output_type": "stream",
     "text": [
      "The planet Tatooine has a population of 200,000, which is 0.0% of the total galactic population.\n",
      "The planet Alderaan has a population of 2,000,000,000, which is 0.1% of the total galactic population.\n",
      "The planet Yavin IV has a population of 1,000, which is 0.0% of the total galactic population.\n",
      "We don't know the population of Hoth.\n",
      "We don't know the population of Dagobah.\n",
      "The planet Bespin has a population of 6,000,000, which is 0.0% of the total galactic population.\n",
      "The planet Endor has a population of 30,000,000, which is 0.0% of the total galactic population.\n",
      "The planet Naboo has a population of 4,500,000,000, which is 0.3% of the total galactic population.\n",
      "The planet Coruscant has a population of 1,000,000,000,000, which is 58.4% of the total galactic population.\n",
      "The planet Kamino has a population of 1,000,000,000, which is 0.1% of the total galactic population.\n",
      "The planet Geonosis has a population of 100,000,000,000, which is 5.8% of the total galactic population.\n",
      "The planet Utapau has a population of 95,000,000, which is 0.0% of the total galactic population.\n",
      "The planet Mustafar has a population of 20,000, which is 0.0% of the total galactic population.\n",
      "The planet Kashyyyk has a population of 45,000,000, which is 0.0% of the total galactic population.\n",
      "The planet Polis Massa has a population of 1,000,000, which is 0.0% of the total galactic population.\n",
      "The planet Mygeeto has a population of 19,000,000, which is 0.0% of the total galactic population.\n",
      "The planet Felucia has a population of 8,500,000, which is 0.0% of the total galactic population.\n",
      "The planet Cato Neimoidia has a population of 10,000,000, which is 0.0% of the total galactic population.\n",
      "The planet Saleucami has a population of 1,400,000,000, which is 0.1% of the total galactic population.\n",
      "We don't know the population of Stewjon.\n",
      "The planet Eriadu has a population of 22,000,000,000, which is 1.3% of the total galactic population.\n",
      "The planet Corellia has a population of 3,000,000,000, which is 0.2% of the total galactic population.\n",
      "The planet Rodia has a population of 1,300,000,000, which is 0.1% of the total galactic population.\n",
      "The planet Nal Hutta has a population of 7,000,000,000, which is 0.4% of the total galactic population.\n",
      "The planet Dantooine has a population of 1,000, which is 0.0% of the total galactic population.\n",
      "The planet Bestine IV has a population of 62,000,000, which is 0.0% of the total galactic population.\n",
      "The planet Ord Mantell has a population of 4,000,000,000, which is 0.2% of the total galactic population.\n",
      "We don't know the population of unknown.\n",
      "The planet Trandosha has a population of 42,000,000, which is 0.0% of the total galactic population.\n",
      "The planet Socorro has a population of 300,000,000, which is 0.0% of the total galactic population.\n",
      "The planet Mon Cala has a population of 27,000,000,000, which is 1.6% of the total galactic population.\n",
      "The planet Chandrila has a population of 1,200,000,000, which is 0.1% of the total galactic population.\n",
      "The planet Sullust has a population of 18,500,000,000, which is 1.1% of the total galactic population.\n",
      "The planet Toydaria has a population of 11,000,000, which is 0.0% of the total galactic population.\n",
      "The planet Malastare has a population of 2,000,000,000, which is 0.1% of the total galactic population.\n",
      "The planet Dathomir has a population of 5,200, which is 0.0% of the total galactic population.\n",
      "The planet Ryloth has a population of 1,500,000,000, which is 0.1% of the total galactic population.\n",
      "We don't know the population of Aleen Minor.\n",
      "The planet Vulpter has a population of 421,000,000, which is 0.0% of the total galactic population.\n",
      "We don't know the population of Troiken.\n",
      "The planet Tund has a population of 0, which is 0.0% of the total galactic population.\n",
      "The planet Haruun Kal has a population of 705,300, which is 0.0% of the total galactic population.\n",
      "The planet Cerea has a population of 450,000,000, which is 0.0% of the total galactic population.\n",
      "The planet Glee Anselm has a population of 500,000,000, which is 0.0% of the total galactic population.\n",
      "We don't know the population of Iridonia.\n",
      "We don't know the population of Tholoth.\n",
      "We don't know the population of Iktotch.\n",
      "We don't know the population of Quermia.\n",
      "We don't know the population of Dorin.\n",
      "The planet Champala has a population of 3,500,000,000, which is 0.2% of the total galactic population.\n",
      "We don't know the population of Mirial.\n",
      "We don't know the population of Serenno.\n",
      "We don't know the population of Concord Dawn.\n",
      "We don't know the population of Zolan.\n",
      "The planet Ojom has a population of 500,000,000, which is 0.0% of the total galactic population.\n",
      "The planet Skako has a population of 500,000,000,000, which is 29.2% of the total galactic population.\n",
      "The planet Muunilinst has a population of 5,000,000,000, which is 0.3% of the total galactic population.\n",
      "We don't know the population of Shili.\n",
      "The planet Kalee has a population of 4,000,000,000, which is 0.2% of the total galactic population.\n",
      "We don't know the population of Umbara.\n",
      "We don't know the population of Jakku.\n"
     ]
    }
   ],
   "source": [
    "for planet in planet_list:\n",
    "    if planet['population'] != 'unknown':\n",
    "        print(f\"The planet {planet['name']} has a population of {int(planet['population']):,.0f}, which is {(int(planet['population'])/sum(intergal_pop))*100:,.1f}% of the total galactic population.\")\n",
    "    elif planet['population'] == 'unknown':\n",
    "        print(f\"We don't know the population of {planet['name']}.\")"
   ]
  }
 ],
 "metadata": {
  "kernelspec": {
   "display_name": "Python 3",
   "language": "python",
   "name": "python3"
  },
  "language_info": {
   "codemirror_mode": {
    "name": "ipython",
    "version": 3
   },
   "file_extension": ".py",
   "mimetype": "text/x-python",
   "name": "python",
   "nbconvert_exporter": "python",
   "pygments_lexer": "ipython3",
   "version": "3.7.3"
  }
 },
 "nbformat": 4,
 "nbformat_minor": 2
}

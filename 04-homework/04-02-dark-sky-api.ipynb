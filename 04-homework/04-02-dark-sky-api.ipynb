{
 "cells": [
  {
   "cell_type": "markdown",
   "metadata": {},
   "source": [
    "# Dark Sky API (Weather)\n",
    "\n",
    "Answer the following questions using the [Dark Sky API](https://darksky.net/dev/). I've added three cells for each question but you're free to use more or less! Hold `Shift` and hit `Enter` to run a cell, and use the `+` on the top left to add a new cell to a notebook.\n",
    "\n",
    "If you spend some time reading the documentation your life will probably be a little bit easier!\n",
    "\n",
    "## 0) Import any libraries you might need\n",
    "\n",
    "- *Tip: We're going to be downloading things from the internet, so we probably need `requests`.*"
   ]
  },
  {
   "cell_type": "code",
   "execution_count": 1,
   "metadata": {},
   "outputs": [],
   "source": [
    "import requests"
   ]
  },
  {
   "cell_type": "code",
   "execution_count": 2,
   "metadata": {},
   "outputs": [],
   "source": [
    "from dotenv import load_dotenv\n",
    "load_dotenv()\n",
    "import os\n",
    "secretapikey = os.getenv(\"darksky_apikey\")\n",
    "base_url = \"https://api.darksky.net/forecast/\""
   ]
  },
  {
   "cell_type": "markdown",
   "metadata": {
    "collapsed": true
   },
   "source": [
    "## 1) Make a request from the Dark Sky API for where you were born (or lived, or want to visit!).\n",
    "\n",
    "- *Tip: The URL we used in class was for a place near San Francisco. What was the format of the endpoint that made this happen?*\n",
    "- *Tip: Save the URL as a separate variable, and be sure to not have `[` and `]` inside.*\n",
    "- *Tip: How is north vs. south and east vs. west latitude/longitude represented? Is it the normal North/South/East/West?*\n",
    "- *Tip: You know it's JSON, but Python doesn't! Make sure you aren't trying to deal with plain text.* \n",
    "- *Tip: Once you've imported the JSON into a variable, check the timezone's name to make sure it seems like it got the right part of the world!*"
   ]
  },
  {
   "cell_type": "code",
   "execution_count": 3,
   "metadata": {},
   "outputs": [],
   "source": [
    "latlon_phila = (\"39.96\"+\",\"+\"-75.18\")\n",
    "weather_phila = requests.get(f'{base_url}{secretapikey}/{latlon_phila}').json()\n",
    "degree_sign = u'\\N{DEGREE SIGN}'"
   ]
  },
  {
   "cell_type": "code",
   "execution_count": 4,
   "metadata": {},
   "outputs": [],
   "source": [
    "# print(weather_phila.keys())"
   ]
  },
  {
   "cell_type": "code",
   "execution_count": 5,
   "metadata": {},
   "outputs": [],
   "source": [
    "#weather_phila['daily']"
   ]
  },
  {
   "cell_type": "code",
   "execution_count": 6,
   "metadata": {},
   "outputs": [],
   "source": [
    "now_phila = weather_phila['currently']\n",
    "# now_phila"
   ]
  },
  {
   "cell_type": "markdown",
   "metadata": {},
   "source": [
    "## 2) What's the current wind speed? How much warmer does it feel than it actually is?\n",
    "\n",
    "- *Tip: You can do this by browsing through the dictionaries, but it might be easier to read the documentation*\n",
    "- *Tip: For the second half: it **is** one temperature, and it **feels** a different temperature. Calculate the difference.*"
   ]
  },
  {
   "cell_type": "code",
   "execution_count": 7,
   "metadata": {},
   "outputs": [
    {
     "name": "stdout",
     "output_type": "stream",
     "text": [
      "Windspeed is 4.3 kpm (so 2.3 knots, i guess?).\n"
     ]
    }
   ],
   "source": [
    "print(f\"Windspeed is {now_phila['windSpeed']:.1f} kpm (so {now_phila['windSpeed'] * 0.539957:.1f} knots, i guess?).\")"
   ]
  },
  {
   "cell_type": "code",
   "execution_count": 10,
   "metadata": {},
   "outputs": [
    {
     "name": "stdout",
     "output_type": "stream",
     "text": [
      "The temperature is currently 72° but it feels 2° cooler..\n"
     ]
    }
   ],
   "source": [
    "now_temp = int(now_phila['temperature'])\n",
    "now_tempapp = int(now_phila['apparentTemperature'])\n",
    "now_tempdif = now_temp - now_tempapp\n",
    "if now_tempdif > 0:\n",
    "    feels = (f\"{abs(now_tempdif)}{degree_sign} warmer.\")\n",
    "elif now_tempdif < 0:\n",
    "    feels = (f\"{abs(now_tempdif)}{degree_sign} cooler.\")\n",
    "else:\n",
    "    feels = \"just like it.\"\n",
    "print(f\"The temperature is currently {now_temp}{degree_sign} but it feels {feels}.\")"
   ]
  },
  {
   "cell_type": "markdown",
   "metadata": {},
   "source": [
    "## 3) Today's forecast is the FIRST daily forecast. For the place you decided on above, how much of the moon is currently visible?\n",
    "\n",
    "- *Tip: This does **not** use the `currently` key.*\n",
    "- *Tip: It might be helpful to save the forecast into its own variable*"
   ]
  },
  {
   "cell_type": "code",
   "execution_count": 11,
   "metadata": {},
   "outputs": [],
   "source": [
    "daily_phila = weather_phila['daily']['data']\n",
    "# daily_phila[0]"
   ]
  },
  {
   "cell_type": "code",
   "execution_count": 12,
   "metadata": {},
   "outputs": [
    {
     "name": "stdout",
     "output_type": "stream",
     "text": [
      "In its current phase, 30% of the moon should be visible.\n"
     ]
    }
   ],
   "source": [
    "print(f\"In its current phase, {int(daily_phila[0]['moonPhase'] * 100)}% of the moon should be visible.\")"
   ]
  },
  {
   "cell_type": "markdown",
   "metadata": {},
   "source": [
    "## 4) What's the difference between the high and low temperatures for today?"
   ]
  },
  {
   "cell_type": "code",
   "execution_count": 13,
   "metadata": {},
   "outputs": [],
   "source": [
    "tempdif = daily_phila[0]['temperatureHigh'] - daily_phila[0]['temperatureLow']"
   ]
  },
  {
   "cell_type": "code",
   "execution_count": 14,
   "metadata": {},
   "outputs": [
    {
     "name": "stdout",
     "output_type": "stream",
     "text": [
      "There's about a 21° difference in today's high & low temps.\n"
     ]
    }
   ],
   "source": [
    "print(f\"There's about a {abs(tempdif):.0f}{degree_sign} difference in today's high & low temps.\")"
   ]
  },
  {
   "cell_type": "markdown",
   "metadata": {},
   "source": [
    "## 5) Go through the daily forecasts, printing out the next week's worth of predictions.\n",
    "\n",
    "I'd like to know the **high temperature** for each day, and whether it's **hot, warm, or cold** (based on what temperatures you think are hot, warm or cold).\n",
    "\n",
    "- *Tip: Is it returning F or C? You can change them by adding `?units=us` or `?units=si` onto the end of the URL.*\n",
    "- *Tip: You'll need to use an `if` statement to say whether it is hot, warm or cold.*"
   ]
  },
  {
   "cell_type": "code",
   "execution_count": 15,
   "metadata": {},
   "outputs": [],
   "source": [
    "from datetime import datetime\n",
    "import calendar"
   ]
  },
  {
   "cell_type": "code",
   "execution_count": 16,
   "metadata": {},
   "outputs": [],
   "source": [
    "for day in daily_phila:\n",
    "    day['dt'] = datetime.fromtimestamp(day['time'])\n",
    "    day['dt_clean'] = (day['dt']).strftime('%c').replace(' 00:00:00',',')\n",
    "    day['dt_clean_long'] = (day['dt']).strftime('%A, %B %d')\n",
    "#     print(day['dt'])\n",
    "#     print(type(day['dt']))\n",
    "#     print(day['dt_clean'])\n",
    "#     print(type(day['dt_clean']))"
   ]
  },
  {
   "cell_type": "code",
   "execution_count": 17,
   "metadata": {},
   "outputs": [
    {
     "name": "stdout",
     "output_type": "stream",
     "text": [
      "This week's forecast is:\n",
      "\tTue Jun 11, 2019: pleasant, high of 79°\n",
      "\tWed Jun 12, 2019: pleasant, high of 75°\n",
      "\tThu Jun 13, 2019: pleasant, high of 73°\n",
      "\tFri Jun 14, 2019: pleasant, high of 73°\n",
      "\tSat Jun 15, 2019: warm, high of 83°\n",
      "\tSun Jun 16, 2019: warm, high of 89°\n",
      "\tMon Jun 17, 2019: warm, high of 90°\n",
      "\tTue Jun 18, 2019: warm, high of 87°\n"
     ]
    }
   ],
   "source": [
    "print(\"This week's forecast is:\")\n",
    "for day in daily_phila:\n",
    "    if day['temperatureMax'] >= 95:\n",
    "        temp_desc = 'hot'\n",
    "    elif float(day['temperatureMax']) >= 81:\n",
    "        temp_desc = 'warm'\n",
    "    elif float(day['temperatureMax']) >= 70:\n",
    "        temp_desc = 'pleasant' \n",
    "    elif float(day['temperatureMax']) >= 45:\n",
    "        temp_desc = 'cool'\n",
    "    elif float(day['temperatureMax']) < 45:\n",
    "        temp_desc = 'cold' \n",
    "    print(f\"\\t{day['dt_clean']}: {temp_desc}, high of {int(day['temperatureMax'])}{degree_sign}\")"
   ]
  },
  {
   "cell_type": "markdown",
   "metadata": {},
   "source": [
    "## 6) What will be the hottest day in the next week? What is the high temperature on that day?\n",
    "\n",
    "It's okay if your result looks like `1453363200`. If you want to be extra-fancy, though, format it as a **real date** - the weird number is called a **UNIX timestamp**, which might help in googling.\n",
    "\n",
    "- *Tip: It's okay to skip this if it seems too difficult!*"
   ]
  },
  {
   "cell_type": "code",
   "execution_count": 18,
   "metadata": {},
   "outputs": [],
   "source": [
    "week_highs_phila = [float(day['temperatureMax']) for day in daily_phila]\n",
    "week_high_phila = max(week_highs_phila)"
   ]
  },
  {
   "cell_type": "code",
   "execution_count": 19,
   "metadata": {},
   "outputs": [
    {
     "name": "stdout",
     "output_type": "stream",
     "text": [
      "The warmest day of the week will be Tuesday, June 18 with a high of 90°.\n"
     ]
    }
   ],
   "source": [
    "print(f\"The warmest day of the week will be {day['dt_clean_long']} with a high of {int(week_high_phila)}{degree_sign}.\")"
   ]
  },
  {
   "cell_type": "markdown",
   "metadata": {},
   "source": [
    "## 7) What's the weather looking like for the next 24+ hours in Miami, Florida?\n",
    "\n",
    "I'd like to know the temperature for every hour, and if it's going to have cloud cover of more than 50% say \"{temperature} and cloudy\" instead of just the temperature. \n",
    "\n",
    "\n",
    "- *Tip: Be sure to remember how latitude and longitude are done with positive and negative numbers*\n",
    "- *Tip: How do you represent \"50%\" for cloud cover?*"
   ]
  },
  {
   "cell_type": "code",
   "execution_count": 20,
   "metadata": {},
   "outputs": [],
   "source": [
    "latlon_miami = (\"25.76\"+\",\"+\"-80.19\")\n",
    "weather_miami = requests.get(f'{base_url}{secretapikey}/{latlon_miami}').json()\n",
    "hourly_miami = weather_miami['hourly']['data']\n",
    "# hourly_miami[0]"
   ]
  },
  {
   "cell_type": "code",
   "execution_count": 21,
   "metadata": {},
   "outputs": [],
   "source": [
    "for hour in hourly_miami:\n",
    "    hour['dt'] = datetime.fromtimestamp(hour['time'])\n",
    "    hour['dt_clean_long'] = (hour['dt']).strftime('%A, %B %d, %I%p')"
   ]
  },
  {
   "cell_type": "code",
   "execution_count": 22,
   "metadata": {},
   "outputs": [
    {
     "name": "stdout",
     "output_type": "stream",
     "text": [
      "Here is the weather forecast in Miami for the next 24 hours:\n",
      "\tTuesday, June 11, 02AM: \t79° and clear\n",
      "\tTuesday, June 11, 03AM: \t79° and clear\n",
      "\tTuesday, June 11, 04AM: \t79° and mostly clear\n",
      "\tTuesday, June 11, 05AM: \t79° and mostly clear\n",
      "\tTuesday, June 11, 06AM: \t79° and mostly clear\n",
      "\tTuesday, June 11, 07AM: \t80° and mostly clear\n",
      "\tTuesday, June 11, 08AM: \t81° and mostly clear\n",
      "\tTuesday, June 11, 09AM: \t84° and mostly clear\n",
      "\tTuesday, June 11, 10AM: \t86° and mostly clear\n",
      "\tTuesday, June 11, 11AM: \t88° and mostly clear\n",
      "\tTuesday, June 11, 12PM: \t89° and mostly clear\n",
      "\tTuesday, June 11, 01PM: \t90° and mostly clear\n",
      "\tTuesday, June 11, 02PM: \t91° and mostly clear\n",
      "\tTuesday, June 11, 03PM: \t90° and mostly clear\n",
      "\tTuesday, June 11, 04PM: \t90° and mostly clear\n",
      "\tTuesday, June 11, 05PM: \t89° and mostly clear\n",
      "\tTuesday, June 11, 06PM: \t87° and mostly clear\n",
      "\tTuesday, June 11, 07PM: \t86° and mostly clear\n",
      "\tTuesday, June 11, 08PM: \t84° and mostly clear\n",
      "\tTuesday, June 11, 09PM: \t83° and mostly clear\n",
      "\tTuesday, June 11, 10PM: \t83° and mostly clear\n",
      "\tTuesday, June 11, 11PM: \t82° and mostly clear\n",
      "\tWednesday, June 12, 12AM: \t82° and mostly clear\n",
      "\tWednesday, June 12, 01AM: \t81° and mostly clear\n"
     ]
    }
   ],
   "source": [
    "print(f\"Here is the weather forecast in Miami for the next 24 hours:\")\n",
    "for hour in hourly_miami   [:24]:\n",
    "    ccover = hour['cloudCover'] * 100\n",
    "    if ccover > 60:\n",
    "        clarity = 'cloudy'\n",
    "    if ccover > 40:\n",
    "        clarity = 'mostly cloudy'\n",
    "    if ccover > 10:\n",
    "        clarity = 'mostly clear'\n",
    "    else:\n",
    "        clarity = 'clear'\n",
    "    print(f\"\\t{hour['dt_clean_long']}: \\t{int(hour['temperature'])}{degree_sign} and {clarity}\")"
   ]
  },
  {
   "cell_type": "markdown",
   "metadata": {},
   "source": [
    "## 8) For the next 24-ish hours in Miami, what percent of the time is the temperature above 85 degrees?\n",
    "\n",
    "If they give you 48 hours instead of 24, that's okay.\n",
    "\n",
    "- *Tip: You might want to read up on [looping patterns](http://jonathansoma.com/lede/foundations-2017/classes/data%20structures/looping-patterns/)*"
   ]
  },
  {
   "cell_type": "code",
   "execution_count": 23,
   "metadata": {},
   "outputs": [
    {
     "name": "stdout",
     "output_type": "stream",
     "text": [
      "The temperature in Miami will be above 85° for 41.7% of the next 24 hours.\n"
     ]
    }
   ],
   "source": [
    "hours_above = len([hour for hour in hourly_miami [:24] if float(hour['temperature']) > 85])\n",
    "# print(hours_above)\n",
    "print(f'The temperature in Miami will be above 85{degree_sign} for {(hours_above / 24) *100:.1f}% of the next 24 hours.')"
   ]
  },
  {
   "cell_type": "markdown",
   "metadata": {},
   "source": [
    "## 9) What was the temperature in Central Park on Christmas Day, 2012? How about 2007? 2005? How far back does the API allow you to go?\n",
    "\n",
    "- *Tip: You'll need to use UNIX time, which is the number of seconds since January 1, 1970. Google can help you convert a normal date!*\n",
    "- *Tip: You'll want to use Forecast.io's \"time machine\" API, [documentation here](https://darksky.net/dev/docs/time-machine)*"
   ]
  },
  {
   "cell_type": "code",
   "execution_count": null,
   "metadata": {},
   "outputs": [],
   "source": []
  },
  {
   "cell_type": "code",
   "execution_count": null,
   "metadata": {},
   "outputs": [],
   "source": []
  },
  {
   "cell_type": "code",
   "execution_count": null,
   "metadata": {},
   "outputs": [],
   "source": []
  }
 ],
 "metadata": {
  "kernelspec": {
   "display_name": "Python 3",
   "language": "python",
   "name": "python3"
  },
  "language_info": {
   "codemirror_mode": {
    "name": "ipython",
    "version": 3
   },
   "file_extension": ".py",
   "mimetype": "text/x-python",
   "name": "python",
   "nbconvert_exporter": "python",
   "pygments_lexer": "ipython3",
   "version": "3.7.3"
  }
 },
 "nbformat": 4,
 "nbformat_minor": 1
}

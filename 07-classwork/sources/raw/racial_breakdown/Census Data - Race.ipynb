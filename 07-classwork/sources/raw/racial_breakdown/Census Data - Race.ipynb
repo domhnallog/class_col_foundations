{
 "cells": [
  {
   "cell_type": "markdown",
   "metadata": {},
   "source": [
    "# Census Data\n",
    "\n",
    "* **Inspo:** https://www.nytimes.com/2019/05/01/upshot/all-white-neighborhoods-are-dwindling-as-america-grows-more-diverse.html\n",
    "* **Datasets:**\n",
    "    - `1980.csv` - table for 1980\n",
    "    - `1980.txt` - codebook\n",
    "    - same for `1990`, `2000`, `2010`\n",
    "* **Source:** Social Explorer, which you can access through https://library.columbia.edu\n",
    "* **Topics:**\n",
    "    - LOL @ the US government\n",
    "    - renaming columns\n",
    "    - a real fun way to import data\n",
    "    - a real fun way to rename columns\n",
    "    - census data"
   ]
  },
  {
   "cell_type": "code",
   "execution_count": null,
   "metadata": {},
   "outputs": [],
   "source": []
  }
 ],
 "metadata": {
  "kernelspec": {
   "display_name": "Python 3",
   "language": "python",
   "name": "python3"
  },
  "language_info": {
   "codemirror_mode": {
    "name": "ipython",
    "version": 3
   },
   "file_extension": ".py",
   "mimetype": "text/x-python",
   "name": "python",
   "nbconvert_exporter": "python",
   "pygments_lexer": "ipython3",
   "version": "3.6.7"
  }
 },
 "nbformat": 4,
 "nbformat_minor": 2
}

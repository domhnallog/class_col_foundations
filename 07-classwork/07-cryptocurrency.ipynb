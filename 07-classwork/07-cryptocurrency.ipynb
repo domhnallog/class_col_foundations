{
 "cells": [
  {
   "cell_type": "code",
   "execution_count": 1,
   "metadata": {},
   "outputs": [],
   "source": [
    "import pandas as pd\n",
    "import numpy as np\n",
    "\n",
    "%matplotlib inline"
   ]
  },
  {
   "cell_type": "code",
   "execution_count": 13,
   "metadata": {},
   "outputs": [],
   "source": [
    "df = pd.read_csv(\"crypto/cryptocurrencies.csv\", thousands=',')"
   ]
  },
  {
   "cell_type": "code",
   "execution_count": 14,
   "metadata": {},
   "outputs": [
    {
     "data": {
      "text/plain": [
       "(2265, 8)"
      ]
     },
     "execution_count": 14,
     "metadata": {},
     "output_type": "execute_result"
    }
   ],
   "source": [
    "df.shape"
   ]
  },
  {
   "cell_type": "code",
   "execution_count": 15,
   "metadata": {},
   "outputs": [
    {
     "data": {
      "text/plain": [
       "date           object\n",
       "open          float64\n",
       "high          float64\n",
       "low           float64\n",
       "close         float64\n",
       "volume          int64\n",
       "market_cap      int64\n",
       "coin           object\n",
       "dtype: object"
      ]
     },
     "execution_count": 15,
     "metadata": {},
     "output_type": "execute_result"
    }
   ],
   "source": [
    "df.dtypes"
   ]
  },
  {
   "cell_type": "code",
   "execution_count": 16,
   "metadata": {},
   "outputs": [
    {
     "data": {
      "text/html": [
       "<div>\n",
       "<style scoped>\n",
       "    .dataframe tbody tr th:only-of-type {\n",
       "        vertical-align: middle;\n",
       "    }\n",
       "\n",
       "    .dataframe tbody tr th {\n",
       "        vertical-align: top;\n",
       "    }\n",
       "\n",
       "    .dataframe thead th {\n",
       "        text-align: right;\n",
       "    }\n",
       "</style>\n",
       "<table border=\"1\" class=\"dataframe\">\n",
       "  <thead>\n",
       "    <tr style=\"text-align: right;\">\n",
       "      <th></th>\n",
       "      <th>date</th>\n",
       "      <th>open</th>\n",
       "      <th>high</th>\n",
       "      <th>low</th>\n",
       "      <th>close</th>\n",
       "      <th>volume</th>\n",
       "      <th>market_cap</th>\n",
       "      <th>coin</th>\n",
       "    </tr>\n",
       "  </thead>\n",
       "  <tbody>\n",
       "    <tr>\n",
       "      <th>0</th>\n",
       "      <td>12-Feb-18</td>\n",
       "      <td>8141.43</td>\n",
       "      <td>8985.92</td>\n",
       "      <td>8141.43</td>\n",
       "      <td>8926.57</td>\n",
       "      <td>6256440000</td>\n",
       "      <td>137258000000</td>\n",
       "      <td>BTC</td>\n",
       "    </tr>\n",
       "    <tr>\n",
       "      <th>1</th>\n",
       "      <td>11-Feb-18</td>\n",
       "      <td>8616.13</td>\n",
       "      <td>8616.13</td>\n",
       "      <td>7931.10</td>\n",
       "      <td>8129.97</td>\n",
       "      <td>6122190000</td>\n",
       "      <td>145245000000</td>\n",
       "      <td>BTC</td>\n",
       "    </tr>\n",
       "    <tr>\n",
       "      <th>2</th>\n",
       "      <td>10-Feb-18</td>\n",
       "      <td>8720.08</td>\n",
       "      <td>9122.55</td>\n",
       "      <td>8295.47</td>\n",
       "      <td>8621.90</td>\n",
       "      <td>7780960000</td>\n",
       "      <td>146981000000</td>\n",
       "      <td>BTC</td>\n",
       "    </tr>\n",
       "    <tr>\n",
       "      <th>3</th>\n",
       "      <td>9-Feb-18</td>\n",
       "      <td>8271.84</td>\n",
       "      <td>8736.98</td>\n",
       "      <td>7884.71</td>\n",
       "      <td>8736.98</td>\n",
       "      <td>6784820000</td>\n",
       "      <td>139412000000</td>\n",
       "      <td>BTC</td>\n",
       "    </tr>\n",
       "    <tr>\n",
       "      <th>4</th>\n",
       "      <td>8-Feb-18</td>\n",
       "      <td>7637.86</td>\n",
       "      <td>8558.77</td>\n",
       "      <td>7637.86</td>\n",
       "      <td>8265.59</td>\n",
       "      <td>9346750000</td>\n",
       "      <td>128714000000</td>\n",
       "      <td>BTC</td>\n",
       "    </tr>\n",
       "  </tbody>\n",
       "</table>\n",
       "</div>"
      ],
      "text/plain": [
       "        date     open     high      low    close      volume    market_cap  \\\n",
       "0  12-Feb-18  8141.43  8985.92  8141.43  8926.57  6256440000  137258000000   \n",
       "1  11-Feb-18  8616.13  8616.13  7931.10  8129.97  6122190000  145245000000   \n",
       "2  10-Feb-18  8720.08  9122.55  8295.47  8621.90  7780960000  146981000000   \n",
       "3   9-Feb-18  8271.84  8736.98  7884.71  8736.98  6784820000  139412000000   \n",
       "4   8-Feb-18  7637.86  8558.77  7637.86  8265.59  9346750000  128714000000   \n",
       "\n",
       "  coin  \n",
       "0  BTC  \n",
       "1  BTC  \n",
       "2  BTC  \n",
       "3  BTC  \n",
       "4  BTC  "
      ]
     },
     "execution_count": 16,
     "metadata": {},
     "output_type": "execute_result"
    }
   ],
   "source": [
    "df.head()"
   ]
  },
  {
   "cell_type": "code",
   "execution_count": 17,
   "metadata": {},
   "outputs": [
    {
     "data": {
      "text/html": [
       "<div>\n",
       "<style scoped>\n",
       "    .dataframe tbody tr th:only-of-type {\n",
       "        vertical-align: middle;\n",
       "    }\n",
       "\n",
       "    .dataframe tbody tr th {\n",
       "        vertical-align: top;\n",
       "    }\n",
       "\n",
       "    .dataframe thead th {\n",
       "        text-align: right;\n",
       "    }\n",
       "</style>\n",
       "<table border=\"1\" class=\"dataframe\">\n",
       "  <thead>\n",
       "    <tr style=\"text-align: right;\">\n",
       "      <th></th>\n",
       "      <th>date</th>\n",
       "      <th>open</th>\n",
       "      <th>high</th>\n",
       "      <th>low</th>\n",
       "      <th>close</th>\n",
       "      <th>volume</th>\n",
       "      <th>market_cap</th>\n",
       "      <th>coin</th>\n",
       "    </tr>\n",
       "  </thead>\n",
       "  <tbody>\n",
       "    <tr>\n",
       "      <th>2260</th>\n",
       "      <td>17-Feb-17</td>\n",
       "      <td>13.07</td>\n",
       "      <td>13.34</td>\n",
       "      <td>13.04</td>\n",
       "      <td>13.30</td>\n",
       "      <td>1711010</td>\n",
       "      <td>182332000</td>\n",
       "      <td>XMR</td>\n",
       "    </tr>\n",
       "    <tr>\n",
       "      <th>2261</th>\n",
       "      <td>16-Feb-17</td>\n",
       "      <td>13.62</td>\n",
       "      <td>13.62</td>\n",
       "      <td>12.91</td>\n",
       "      <td>13.10</td>\n",
       "      <td>3256190</td>\n",
       "      <td>189926000</td>\n",
       "      <td>XMR</td>\n",
       "    </tr>\n",
       "    <tr>\n",
       "      <th>2262</th>\n",
       "      <td>15-Feb-17</td>\n",
       "      <td>13.01</td>\n",
       "      <td>13.74</td>\n",
       "      <td>12.88</td>\n",
       "      <td>13.62</td>\n",
       "      <td>4811600</td>\n",
       "      <td>181497000</td>\n",
       "      <td>XMR</td>\n",
       "    </tr>\n",
       "    <tr>\n",
       "      <th>2263</th>\n",
       "      <td>14-Feb-17</td>\n",
       "      <td>12.20</td>\n",
       "      <td>13.20</td>\n",
       "      <td>12.11</td>\n",
       "      <td>12.99</td>\n",
       "      <td>4166850</td>\n",
       "      <td>170135000</td>\n",
       "      <td>XMR</td>\n",
       "    </tr>\n",
       "    <tr>\n",
       "      <th>2264</th>\n",
       "      <td>13-Feb-17</td>\n",
       "      <td>12.31</td>\n",
       "      <td>12.36</td>\n",
       "      <td>12.09</td>\n",
       "      <td>12.20</td>\n",
       "      <td>1687590</td>\n",
       "      <td>171557000</td>\n",
       "      <td>XMR</td>\n",
       "    </tr>\n",
       "  </tbody>\n",
       "</table>\n",
       "</div>"
      ],
      "text/plain": [
       "           date   open   high    low  close   volume  market_cap coin\n",
       "2260  17-Feb-17  13.07  13.34  13.04  13.30  1711010   182332000  XMR\n",
       "2261  16-Feb-17  13.62  13.62  12.91  13.10  3256190   189926000  XMR\n",
       "2262  15-Feb-17  13.01  13.74  12.88  13.62  4811600   181497000  XMR\n",
       "2263  14-Feb-17  12.20  13.20  12.11  12.99  4166850   170135000  XMR\n",
       "2264  13-Feb-17  12.31  12.36  12.09  12.20  1687590   171557000  XMR"
      ]
     },
     "execution_count": 17,
     "metadata": {},
     "output_type": "execute_result"
    }
   ],
   "source": [
    "df.tail()"
   ]
  },
  {
   "cell_type": "code",
   "execution_count": 18,
   "metadata": {},
   "outputs": [
    {
     "data": {
      "text/plain": [
       "XRP      365\n",
       "XMR      365\n",
       "LTC      365\n",
       "ETH      365\n",
       "BTC      365\n",
       "MIOTA    245\n",
       "BCH      195\n",
       "Name: coin, dtype: int64"
      ]
     },
     "execution_count": 18,
     "metadata": {},
     "output_type": "execute_result"
    }
   ],
   "source": [
    "df.coin.value_counts()"
   ]
  },
  {
   "cell_type": "code",
   "execution_count": 19,
   "metadata": {},
   "outputs": [],
   "source": [
    "# We're going to focus exclusively on Bitcoin\n",
    "# We're actually just going to overwrite \"df\" with only that info, tossing the rest \n",
    "df = df[df.coin == 'BTC']"
   ]
  },
  {
   "cell_type": "code",
   "execution_count": 20,
   "metadata": {},
   "outputs": [
    {
     "data": {
      "text/html": [
       "<div>\n",
       "<style scoped>\n",
       "    .dataframe tbody tr th:only-of-type {\n",
       "        vertical-align: middle;\n",
       "    }\n",
       "\n",
       "    .dataframe tbody tr th {\n",
       "        vertical-align: top;\n",
       "    }\n",
       "\n",
       "    .dataframe thead th {\n",
       "        text-align: right;\n",
       "    }\n",
       "</style>\n",
       "<table border=\"1\" class=\"dataframe\">\n",
       "  <thead>\n",
       "    <tr style=\"text-align: right;\">\n",
       "      <th></th>\n",
       "      <th>date</th>\n",
       "      <th>open</th>\n",
       "      <th>high</th>\n",
       "      <th>low</th>\n",
       "      <th>close</th>\n",
       "      <th>volume</th>\n",
       "      <th>market_cap</th>\n",
       "      <th>coin</th>\n",
       "    </tr>\n",
       "  </thead>\n",
       "  <tbody>\n",
       "    <tr>\n",
       "      <th>0</th>\n",
       "      <td>12-Feb-18</td>\n",
       "      <td>8141.43</td>\n",
       "      <td>8985.92</td>\n",
       "      <td>8141.43</td>\n",
       "      <td>8926.57</td>\n",
       "      <td>6256440000</td>\n",
       "      <td>137258000000</td>\n",
       "      <td>BTC</td>\n",
       "    </tr>\n",
       "    <tr>\n",
       "      <th>1</th>\n",
       "      <td>11-Feb-18</td>\n",
       "      <td>8616.13</td>\n",
       "      <td>8616.13</td>\n",
       "      <td>7931.10</td>\n",
       "      <td>8129.97</td>\n",
       "      <td>6122190000</td>\n",
       "      <td>145245000000</td>\n",
       "      <td>BTC</td>\n",
       "    </tr>\n",
       "    <tr>\n",
       "      <th>2</th>\n",
       "      <td>10-Feb-18</td>\n",
       "      <td>8720.08</td>\n",
       "      <td>9122.55</td>\n",
       "      <td>8295.47</td>\n",
       "      <td>8621.90</td>\n",
       "      <td>7780960000</td>\n",
       "      <td>146981000000</td>\n",
       "      <td>BTC</td>\n",
       "    </tr>\n",
       "    <tr>\n",
       "      <th>3</th>\n",
       "      <td>9-Feb-18</td>\n",
       "      <td>8271.84</td>\n",
       "      <td>8736.98</td>\n",
       "      <td>7884.71</td>\n",
       "      <td>8736.98</td>\n",
       "      <td>6784820000</td>\n",
       "      <td>139412000000</td>\n",
       "      <td>BTC</td>\n",
       "    </tr>\n",
       "    <tr>\n",
       "      <th>4</th>\n",
       "      <td>8-Feb-18</td>\n",
       "      <td>7637.86</td>\n",
       "      <td>8558.77</td>\n",
       "      <td>7637.86</td>\n",
       "      <td>8265.59</td>\n",
       "      <td>9346750000</td>\n",
       "      <td>128714000000</td>\n",
       "      <td>BTC</td>\n",
       "    </tr>\n",
       "  </tbody>\n",
       "</table>\n",
       "</div>"
      ],
      "text/plain": [
       "        date     open     high      low    close      volume    market_cap  \\\n",
       "0  12-Feb-18  8141.43  8985.92  8141.43  8926.57  6256440000  137258000000   \n",
       "1  11-Feb-18  8616.13  8616.13  7931.10  8129.97  6122190000  145245000000   \n",
       "2  10-Feb-18  8720.08  9122.55  8295.47  8621.90  7780960000  146981000000   \n",
       "3   9-Feb-18  8271.84  8736.98  7884.71  8736.98  6784820000  139412000000   \n",
       "4   8-Feb-18  7637.86  8558.77  7637.86  8265.59  9346750000  128714000000   \n",
       "\n",
       "  coin  \n",
       "0  BTC  \n",
       "1  BTC  \n",
       "2  BTC  \n",
       "3  BTC  \n",
       "4  BTC  "
      ]
     },
     "execution_count": 20,
     "metadata": {},
     "output_type": "execute_result"
    }
   ],
   "source": [
    "df.head()"
   ]
  },
  {
   "cell_type": "code",
   "execution_count": 21,
   "metadata": {},
   "outputs": [
    {
     "data": {
      "text/html": [
       "<div>\n",
       "<style scoped>\n",
       "    .dataframe tbody tr th:only-of-type {\n",
       "        vertical-align: middle;\n",
       "    }\n",
       "\n",
       "    .dataframe tbody tr th {\n",
       "        vertical-align: top;\n",
       "    }\n",
       "\n",
       "    .dataframe thead th {\n",
       "        text-align: right;\n",
       "    }\n",
       "</style>\n",
       "<table border=\"1\" class=\"dataframe\">\n",
       "  <thead>\n",
       "    <tr style=\"text-align: right;\">\n",
       "      <th></th>\n",
       "      <th>date</th>\n",
       "      <th>open</th>\n",
       "      <th>high</th>\n",
       "      <th>low</th>\n",
       "      <th>close</th>\n",
       "      <th>volume</th>\n",
       "      <th>market_cap</th>\n",
       "      <th>coin</th>\n",
       "    </tr>\n",
       "  </thead>\n",
       "  <tbody>\n",
       "    <tr>\n",
       "      <th>360</th>\n",
       "      <td>17-Feb-17</td>\n",
       "      <td>1026.12</td>\n",
       "      <td>1053.17</td>\n",
       "      <td>1025.64</td>\n",
       "      <td>1046.21</td>\n",
       "      <td>136474000</td>\n",
       "      <td>16589600000</td>\n",
       "      <td>BTC</td>\n",
       "    </tr>\n",
       "    <tr>\n",
       "      <th>361</th>\n",
       "      <td>16-Feb-17</td>\n",
       "      <td>1007.65</td>\n",
       "      <td>1033.37</td>\n",
       "      <td>1007.65</td>\n",
       "      <td>1027.44</td>\n",
       "      <td>122277000</td>\n",
       "      <td>16289100000</td>\n",
       "      <td>BTC</td>\n",
       "    </tr>\n",
       "    <tr>\n",
       "      <th>362</th>\n",
       "      <td>15-Feb-17</td>\n",
       "      <td>1006.21</td>\n",
       "      <td>1008.84</td>\n",
       "      <td>1001.58</td>\n",
       "      <td>1007.48</td>\n",
       "      <td>89759400</td>\n",
       "      <td>16264100000</td>\n",
       "      <td>BTC</td>\n",
       "    </tr>\n",
       "    <tr>\n",
       "      <th>363</th>\n",
       "      <td>14-Feb-17</td>\n",
       "      <td>991.74</td>\n",
       "      <td>1011.51</td>\n",
       "      <td>986.47</td>\n",
       "      <td>1004.55</td>\n",
       "      <td>137946000</td>\n",
       "      <td>16028000000</td>\n",
       "      <td>BTC</td>\n",
       "    </tr>\n",
       "    <tr>\n",
       "      <th>364</th>\n",
       "      <td>13-Feb-17</td>\n",
       "      <td>998.89</td>\n",
       "      <td>1002.10</td>\n",
       "      <td>976.00</td>\n",
       "      <td>990.64</td>\n",
       "      <td>100607000</td>\n",
       "      <td>16141500000</td>\n",
       "      <td>BTC</td>\n",
       "    </tr>\n",
       "  </tbody>\n",
       "</table>\n",
       "</div>"
      ],
      "text/plain": [
       "          date     open     high      low    close     volume   market_cap  \\\n",
       "360  17-Feb-17  1026.12  1053.17  1025.64  1046.21  136474000  16589600000   \n",
       "361  16-Feb-17  1007.65  1033.37  1007.65  1027.44  122277000  16289100000   \n",
       "362  15-Feb-17  1006.21  1008.84  1001.58  1007.48   89759400  16264100000   \n",
       "363  14-Feb-17   991.74  1011.51   986.47  1004.55  137946000  16028000000   \n",
       "364  13-Feb-17   998.89  1002.10   976.00   990.64  100607000  16141500000   \n",
       "\n",
       "    coin  \n",
       "360  BTC  \n",
       "361  BTC  \n",
       "362  BTC  \n",
       "363  BTC  \n",
       "364  BTC  "
      ]
     },
     "execution_count": 21,
     "metadata": {},
     "output_type": "execute_result"
    }
   ],
   "source": [
    "df.tail()"
   ]
  },
  {
   "cell_type": "code",
   "execution_count": 22,
   "metadata": {},
   "outputs": [],
   "source": [
    "# Everything is described as a string because of the commas.\n",
    "# df.close.str.replace(\",\",\"\").astype(float)\n",
    "\n",
    "# Or we can do it at import as seen up top"
   ]
  },
  {
   "cell_type": "code",
   "execution_count": 23,
   "metadata": {},
   "outputs": [
    {
     "data": {
      "text/plain": [
       "dtype('O')"
      ]
     },
     "execution_count": 23,
     "metadata": {},
     "output_type": "execute_result"
    }
   ],
   "source": [
    "df.date.dtype"
   ]
  },
  {
   "cell_type": "code",
   "execution_count": 25,
   "metadata": {},
   "outputs": [
    {
     "data": {
      "text/plain": [
       "0   2018-02-12\n",
       "1   2018-02-11\n",
       "2   2018-02-10\n",
       "3   2018-02-09\n",
       "4   2018-02-08\n",
       "Name: date, dtype: datetime64[ns]"
      ]
     },
     "execution_count": 25,
     "metadata": {},
     "output_type": "execute_result"
    }
   ],
   "source": [
    "# there is \"parse dates\" for csv import but maybe don't use / trust\n",
    "\n",
    "# this is standard fix\n",
    "# pd.to_datetime(df.date)\n",
    "\n",
    "\n",
    "# this is verbose fix, to walk the fix through what is needed\n",
    "# codes from here: http://strftime.org/\n",
    "# 12-Feb-18  becomes  %d-%b-%y\n",
    "pd.to_datetime(df.date, format=\"%d-%b-%y\").head()"
   ]
  },
  {
   "cell_type": "code",
   "execution_count": 26,
   "metadata": {},
   "outputs": [],
   "source": [
    "# Set this as a new column:\n",
    "df['datetime'] = pd.to_datetime(df.date, format=\"%d-%b-%y\")"
   ]
  },
  {
   "cell_type": "code",
   "execution_count": 27,
   "metadata": {},
   "outputs": [
    {
     "data": {
      "text/html": [
       "<div>\n",
       "<style scoped>\n",
       "    .dataframe tbody tr th:only-of-type {\n",
       "        vertical-align: middle;\n",
       "    }\n",
       "\n",
       "    .dataframe tbody tr th {\n",
       "        vertical-align: top;\n",
       "    }\n",
       "\n",
       "    .dataframe thead th {\n",
       "        text-align: right;\n",
       "    }\n",
       "</style>\n",
       "<table border=\"1\" class=\"dataframe\">\n",
       "  <thead>\n",
       "    <tr style=\"text-align: right;\">\n",
       "      <th></th>\n",
       "      <th>date</th>\n",
       "      <th>open</th>\n",
       "      <th>high</th>\n",
       "      <th>low</th>\n",
       "      <th>close</th>\n",
       "      <th>volume</th>\n",
       "      <th>market_cap</th>\n",
       "      <th>coin</th>\n",
       "      <th>datetime</th>\n",
       "    </tr>\n",
       "  </thead>\n",
       "  <tbody>\n",
       "    <tr>\n",
       "      <th>0</th>\n",
       "      <td>12-Feb-18</td>\n",
       "      <td>8141.43</td>\n",
       "      <td>8985.92</td>\n",
       "      <td>8141.43</td>\n",
       "      <td>8926.57</td>\n",
       "      <td>6256440000</td>\n",
       "      <td>137258000000</td>\n",
       "      <td>BTC</td>\n",
       "      <td>2018-02-12</td>\n",
       "    </tr>\n",
       "    <tr>\n",
       "      <th>1</th>\n",
       "      <td>11-Feb-18</td>\n",
       "      <td>8616.13</td>\n",
       "      <td>8616.13</td>\n",
       "      <td>7931.10</td>\n",
       "      <td>8129.97</td>\n",
       "      <td>6122190000</td>\n",
       "      <td>145245000000</td>\n",
       "      <td>BTC</td>\n",
       "      <td>2018-02-11</td>\n",
       "    </tr>\n",
       "    <tr>\n",
       "      <th>2</th>\n",
       "      <td>10-Feb-18</td>\n",
       "      <td>8720.08</td>\n",
       "      <td>9122.55</td>\n",
       "      <td>8295.47</td>\n",
       "      <td>8621.90</td>\n",
       "      <td>7780960000</td>\n",
       "      <td>146981000000</td>\n",
       "      <td>BTC</td>\n",
       "      <td>2018-02-10</td>\n",
       "    </tr>\n",
       "    <tr>\n",
       "      <th>3</th>\n",
       "      <td>9-Feb-18</td>\n",
       "      <td>8271.84</td>\n",
       "      <td>8736.98</td>\n",
       "      <td>7884.71</td>\n",
       "      <td>8736.98</td>\n",
       "      <td>6784820000</td>\n",
       "      <td>139412000000</td>\n",
       "      <td>BTC</td>\n",
       "      <td>2018-02-09</td>\n",
       "    </tr>\n",
       "    <tr>\n",
       "      <th>4</th>\n",
       "      <td>8-Feb-18</td>\n",
       "      <td>7637.86</td>\n",
       "      <td>8558.77</td>\n",
       "      <td>7637.86</td>\n",
       "      <td>8265.59</td>\n",
       "      <td>9346750000</td>\n",
       "      <td>128714000000</td>\n",
       "      <td>BTC</td>\n",
       "      <td>2018-02-08</td>\n",
       "    </tr>\n",
       "  </tbody>\n",
       "</table>\n",
       "</div>"
      ],
      "text/plain": [
       "        date     open     high      low    close      volume    market_cap  \\\n",
       "0  12-Feb-18  8141.43  8985.92  8141.43  8926.57  6256440000  137258000000   \n",
       "1  11-Feb-18  8616.13  8616.13  7931.10  8129.97  6122190000  145245000000   \n",
       "2  10-Feb-18  8720.08  9122.55  8295.47  8621.90  7780960000  146981000000   \n",
       "3   9-Feb-18  8271.84  8736.98  7884.71  8736.98  6784820000  139412000000   \n",
       "4   8-Feb-18  7637.86  8558.77  7637.86  8265.59  9346750000  128714000000   \n",
       "\n",
       "  coin   datetime  \n",
       "0  BTC 2018-02-12  \n",
       "1  BTC 2018-02-11  \n",
       "2  BTC 2018-02-10  \n",
       "3  BTC 2018-02-09  \n",
       "4  BTC 2018-02-08  "
      ]
     },
     "execution_count": 27,
     "metadata": {},
     "output_type": "execute_result"
    }
   ],
   "source": [
    "df.head()"
   ]
  },
  {
   "cell_type": "code",
   "execution_count": 40,
   "metadata": {},
   "outputs": [
    {
     "data": {
      "text/plain": [
       "<matplotlib.axes._subplots.AxesSubplot at 0x112f5530>"
      ]
     },
     "execution_count": 40,
     "metadata": {},
     "output_type": "execute_result"
    },
    {
     "data": {
      "image/png": "[encoded data removed]",
      "text/plain": [
       "<Figure size 1296x360 with 1 Axes>"
      ]
     },
     "metadata": {
      "needs_background": "light"
     },
     "output_type": "display_data"
    }
   ],
   "source": [
    "# whoops, wrong\n",
    "df.close.plot(figsize=(18,5))"
   ]
  },
  {
   "cell_type": "code",
   "execution_count": 36,
   "metadata": {},
   "outputs": [
    {
     "data": {
      "text/plain": [
       "<matplotlib.axes._subplots.AxesSubplot at 0x126def0>"
      ]
     },
     "execution_count": 36,
     "metadata": {},
     "output_type": "execute_result"
    },
    {
     "data": {
      "image/png": "[encoded data removed]",
      "text/plain": [
       "<Figure size 1296x360 with 1 Axes>"
      ]
     },
     "metadata": {
      "needs_background": "light"
     },
     "output_type": "display_data"
    }
   ],
   "source": [
    "df.plot(x='datetime', y='close', color='orange', linestyle='--',figsize=(18,5))"
   ]
  },
  {
   "cell_type": "code",
   "execution_count": 44,
   "metadata": {},
   "outputs": [
    {
     "data": {
      "text/plain": [
       "<matplotlib.axes._subplots.AxesSubplot at 0x11598cd0>"
      ]
     },
     "execution_count": 44,
     "metadata": {},
     "output_type": "execute_result"
    },
    {
     "data": {
      "image/png": "[encoded data removed]",
      "text/plain": [
       "<Figure size 1296x360 with 1 Axes>"
      ]
     },
     "metadata": {
      "needs_background": "light"
     },
     "output_type": "display_data"
    }
   ],
   "source": [
    "# Yay,fake scatterplot\n",
    "df.plot(x='datetime', y='close', color='red', linestyle='', marker='*',figsize=(18,5))"
   ]
  },
  {
   "cell_type": "code",
   "execution_count": null,
   "metadata": {},
   "outputs": [],
   "source": []
  },
  {
   "cell_type": "code",
   "execution_count": null,
   "metadata": {},
   "outputs": [],
   "source": []
  }
 ],
 "metadata": {
  "kernelspec": {
   "display_name": "Python 3",
   "language": "python",
   "name": "python3"
  },
  "language_info": {
   "codemirror_mode": {
    "name": "ipython",
    "version": 3
   },
   "file_extension": ".py",
   "mimetype": "text/x-python",
   "name": "python",
   "nbconvert_exporter": "python",
   "pygments_lexer": "ipython3",
   "version": "3.7.3"
  }
 },
 "nbformat": 4,
 "nbformat_minor": 2
}

{
 "cells": [
  {
   "cell_type": "code",
   "execution_count": 1,
   "metadata": {},
   "outputs": [],
   "source": [
    "import pandas as pd\n",
    "import requests\n",
    "from bs4 import BeautifulSoup"
   ]
  },
  {
   "cell_type": "code",
   "execution_count": 2,
   "metadata": {},
   "outputs": [],
   "source": [
    "response = requests.get('https://www.congress.gov/members')\n",
    "doc = BeautifulSoup(response.text)"
   ]
  },
  {
   "cell_type": "code",
   "execution_count": 3,
   "metadata": {},
   "outputs": [
    {
     "data": {
      "text/html": [
       "<div>\n",
       "<style scoped>\n",
       "    .dataframe tbody tr th:only-of-type {\n",
       "        vertical-align: middle;\n",
       "    }\n",
       "\n",
       "    .dataframe tbody tr th {\n",
       "        vertical-align: top;\n",
       "    }\n",
       "\n",
       "    .dataframe thead th {\n",
       "        text-align: right;\n",
       "    }\n",
       "</style>\n",
       "<table border=\"1\" class=\"dataframe\">\n",
       "  <thead>\n",
       "    <tr style=\"text-align: right;\">\n",
       "      <th></th>\n",
       "      <th>name</th>\n",
       "      <th>url</th>\n",
       "    </tr>\n",
       "  </thead>\n",
       "  <tbody>\n",
       "    <tr>\n",
       "      <th>0</th>\n",
       "      <td>Senator Abdnor, James</td>\n",
       "      <td>https://www.congress.gov/member/james-abdnor/A...</td>\n",
       "    </tr>\n",
       "    <tr>\n",
       "      <th>1</th>\n",
       "      <td>Representative Abercrombie, Neil</td>\n",
       "      <td>https://www.congress.gov/member/neil-abercromb...</td>\n",
       "    </tr>\n",
       "    <tr>\n",
       "      <th>2</th>\n",
       "      <td>Senator Abourezk, James</td>\n",
       "      <td>https://www.congress.gov/member/james-abourezk...</td>\n",
       "    </tr>\n",
       "    <tr>\n",
       "      <th>3</th>\n",
       "      <td>Representative Abraham, Ralph Lee</td>\n",
       "      <td>https://www.congress.gov/member/ralph-abraham/...</td>\n",
       "    </tr>\n",
       "    <tr>\n",
       "      <th>4</th>\n",
       "      <td>Senator Abraham, Spencer</td>\n",
       "      <td>https://www.congress.gov/member/spencer-abraha...</td>\n",
       "    </tr>\n",
       "  </tbody>\n",
       "</table>\n",
       "</div>"
      ],
      "text/plain": [
       "                                name  \\\n",
       "0              Senator Abdnor, James   \n",
       "1   Representative Abercrombie, Neil   \n",
       "2            Senator Abourezk, James   \n",
       "3  Representative Abraham, Ralph Lee   \n",
       "4           Senator Abraham, Spencer   \n",
       "\n",
       "                                                 url  \n",
       "0  https://www.congress.gov/member/james-abdnor/A...  \n",
       "1  https://www.congress.gov/member/neil-abercromb...  \n",
       "2  https://www.congress.gov/member/james-abourezk...  \n",
       "3  https://www.congress.gov/member/ralph-abraham/...  \n",
       "4  https://www.congress.gov/member/spencer-abraha...  "
      ]
     },
     "execution_count": 3,
     "metadata": {},
     "output_type": "execute_result"
    }
   ],
   "source": [
    "rows = []\n",
    "\n",
    "# Select all of our chunks of person -\n",
    "# each class='expanded' should have all of the data about that person in it\n",
    "members = doc.find_all(class_='expanded')\n",
    "for member in members:\n",
    "    # print(\"------\")\n",
    "    # Create a new empty dictionary called 'row'\n",
    "    # Fill it in with the Congressperson's name and URL\n",
    "    # and then print out the dictionary\n",
    "    row = {}\n",
    "    \n",
    "    # Print all of the text inside, but .strip() to clean it a little\n",
    "    #print(member.text.strip())\n",
    "    row['name'] = member.find('a').text\n",
    "    row['url'] = member.find('a')['href']\n",
    "    # print(row)\n",
    "    rows.append(row)\n",
    "\n",
    "df = pd.DataFrame(rows)\n",
    "df.head()"
   ]
  },
  {
   "cell_type": "code",
   "execution_count": 17,
   "metadata": {},
   "outputs": [
    {
     "data": {
      "text/plain": [
       "(100, 2)"
      ]
     },
     "execution_count": 17,
     "metadata": {},
     "output_type": "execute_result"
    }
   ],
   "source": [
    "df.shape"
   ]
  },
  {
   "cell_type": "markdown",
   "metadata": {},
   "source": [
    "# Let's find out how to make the URLs for each page"
   ]
  },
  {
   "cell_type": "code",
   "execution_count": 26,
   "metadata": {},
   "outputs": [
    {
     "name": "stdout",
     "output_type": "stream",
     "text": [
      "1\n",
      "2\n",
      "3\n",
      "4\n",
      "5\n",
      "6\n",
      "7\n",
      "8\n",
      "9\n",
      "10\n"
     ]
    }
   ],
   "source": [
    "# https://www.congress.gov/members?pageSize=250&page=10\n",
    "for page_num in range(1, 11):\n",
    "    print(page_num)"
   ]
  },
  {
   "cell_type": "code",
   "execution_count": 28,
   "metadata": {},
   "outputs": [
    {
     "name": "stdout",
     "output_type": "stream",
     "text": [
      "https://www.congress.gov/members?pageSize=250&page=1\n",
      "https://www.congress.gov/members?pageSize=250&page=2\n",
      "https://www.congress.gov/members?pageSize=250&page=3\n",
      "https://www.congress.gov/members?pageSize=250&page=4\n",
      "https://www.congress.gov/members?pageSize=250&page=5\n",
      "https://www.congress.gov/members?pageSize=250&page=6\n",
      "https://www.congress.gov/members?pageSize=250&page=7\n",
      "https://www.congress.gov/members?pageSize=250&page=8\n",
      "https://www.congress.gov/members?pageSize=250&page=9\n",
      "https://www.congress.gov/members?pageSize=250&page=10\n"
     ]
    }
   ],
   "source": [
    "# https://www.congress.gov/members?pageSize=250&page=10\n",
    "for page_num in range(1, 11):\n",
    "    # You can also do this if you hate f-strings:\n",
    "    # url = \"https://www.congress.gov/members?pageSize=250&page=\" + str(page_num)\n",
    "    url = f\"https://www.congress.gov/members?pageSize=250&page={page_num}\"\n",
    "    print(url)"
   ]
  },
  {
   "cell_type": "markdown",
   "metadata": {},
   "source": [
    "# Now that we know how to make the URLs, let's scrape!"
   ]
  },
  {
   "cell_type": "code",
   "execution_count": 34,
   "metadata": {
    "scrolled": true
   },
   "outputs": [
    {
     "name": "stdout",
     "output_type": "stream",
     "text": [
      "Clearing out our dataset\n",
      "Now scraping https://www.congress.gov/members?pageSize=250&page=1\n",
      "Now scraping https://www.congress.gov/members?pageSize=250&page=2\n",
      "Now scraping https://www.congress.gov/members?pageSize=250&page=3\n",
      "Now scraping https://www.congress.gov/members?pageSize=250&page=4\n",
      "Now scraping https://www.congress.gov/members?pageSize=250&page=5\n",
      "Now scraping https://www.congress.gov/members?pageSize=250&page=6\n",
      "Now scraping https://www.congress.gov/members?pageSize=250&page=7\n",
      "Now scraping https://www.congress.gov/members?pageSize=250&page=8\n",
      "Now scraping https://www.congress.gov/members?pageSize=250&page=9\n",
      "Now scraping https://www.congress.gov/members?pageSize=250&page=10\n",
      "Building our dataframe\n"
     ]
    },
    {
     "data": {
      "text/html": [
       "<div>\n",
       "<style scoped>\n",
       "    .dataframe tbody tr th:only-of-type {\n",
       "        vertical-align: middle;\n",
       "    }\n",
       "\n",
       "    .dataframe tbody tr th {\n",
       "        vertical-align: top;\n",
       "    }\n",
       "\n",
       "    .dataframe thead th {\n",
       "        text-align: right;\n",
       "    }\n",
       "</style>\n",
       "<table border=\"1\" class=\"dataframe\">\n",
       "  <thead>\n",
       "    <tr style=\"text-align: right;\">\n",
       "      <th></th>\n",
       "      <th>name</th>\n",
       "      <th>url</th>\n",
       "    </tr>\n",
       "  </thead>\n",
       "  <tbody>\n",
       "    <tr>\n",
       "      <th>0</th>\n",
       "      <td>Senator Abdnor, James</td>\n",
       "      <td>https://www.congress.gov/member/james-abdnor/A...</td>\n",
       "    </tr>\n",
       "    <tr>\n",
       "      <th>1</th>\n",
       "      <td>Representative Abercrombie, Neil</td>\n",
       "      <td>https://www.congress.gov/member/neil-abercromb...</td>\n",
       "    </tr>\n",
       "    <tr>\n",
       "      <th>2</th>\n",
       "      <td>Senator Abourezk, James</td>\n",
       "      <td>https://www.congress.gov/member/james-abourezk...</td>\n",
       "    </tr>\n",
       "    <tr>\n",
       "      <th>3</th>\n",
       "      <td>Representative Abraham, Ralph Lee</td>\n",
       "      <td>https://www.congress.gov/member/ralph-abraham/...</td>\n",
       "    </tr>\n",
       "    <tr>\n",
       "      <th>4</th>\n",
       "      <td>Senator Abraham, Spencer</td>\n",
       "      <td>https://www.congress.gov/member/spencer-abraha...</td>\n",
       "    </tr>\n",
       "  </tbody>\n",
       "</table>\n",
       "</div>"
      ],
      "text/plain": [
       "                                name  \\\n",
       "0              Senator Abdnor, James   \n",
       "1   Representative Abercrombie, Neil   \n",
       "2            Senator Abourezk, James   \n",
       "3  Representative Abraham, Ralph Lee   \n",
       "4           Senator Abraham, Spencer   \n",
       "\n",
       "                                                 url  \n",
       "0  https://www.congress.gov/member/james-abdnor/A...  \n",
       "1  https://www.congress.gov/member/neil-abercromb...  \n",
       "2  https://www.congress.gov/member/james-abourezk...  \n",
       "3  https://www.congress.gov/member/ralph-abraham/...  \n",
       "4  https://www.congress.gov/member/spencer-abraha...  "
      ]
     },
     "execution_count": 34,
     "metadata": {},
     "output_type": "execute_result"
    }
   ],
   "source": [
    "print(\"Clearing out our dataset\")\n",
    "rows = []\n",
    "\n",
    "# https://www.congress.gov/members?pageSize=250&page=10\n",
    "for page_num in range(1, 11):\n",
    "    # You can also do this if you hate f-strings:\n",
    "    # url = \"https://www.congress.gov/members?pageSize=250&page=\" + str(page_num)\n",
    "    url = f\"https://www.congress.gov/members?pageSize=250&page={page_num}\"\n",
    "    print(\"Now scraping\", url)\n",
    "    \n",
    "    # Download the appropriate page\n",
    "    response = requests.get(url)\n",
    "    doc = BeautifulSoup(response.text)\n",
    "    \n",
    "    # Select all of our chunks of person -\n",
    "    # each class='expanded' should have all of the data about that person in it\n",
    "    members = doc.find_all(class_='expanded')\n",
    "    for member in members:\n",
    "        # print(\"------\")\n",
    "        # Create a new empty dictionary called 'row'\n",
    "        # Fill it in with the Congressperson's name and URL\n",
    "        # and then print out the dictionary\n",
    "        row = {}\n",
    "\n",
    "        # Print all of the text inside, but .strip() to clean it a little\n",
    "        #print(member.text.strip())\n",
    "        row['name'] = member.find('a').text\n",
    "        row['url'] = member.find('a')['href']\n",
    "        # print(row)\n",
    "        rows.append(row)\n",
    "\n",
    "print(\"Building our dataframe\")\n",
    "df = pd.DataFrame(rows)\n",
    "df.head()"
   ]
  },
  {
   "cell_type": "code",
   "execution_count": 35,
   "metadata": {},
   "outputs": [
    {
     "data": {
      "text/html": [
       "<div>\n",
       "<style scoped>\n",
       "    .dataframe tbody tr th:only-of-type {\n",
       "        vertical-align: middle;\n",
       "    }\n",
       "\n",
       "    .dataframe tbody tr th {\n",
       "        vertical-align: top;\n",
       "    }\n",
       "\n",
       "    .dataframe thead th {\n",
       "        text-align: right;\n",
       "    }\n",
       "</style>\n",
       "<table border=\"1\" class=\"dataframe\">\n",
       "  <thead>\n",
       "    <tr style=\"text-align: right;\">\n",
       "      <th></th>\n",
       "      <th>name</th>\n",
       "      <th>url</th>\n",
       "    </tr>\n",
       "  </thead>\n",
       "  <tbody>\n",
       "    <tr>\n",
       "      <th>0</th>\n",
       "      <td>Senator Abdnor, James</td>\n",
       "      <td>https://www.congress.gov/member/james-abdnor/A...</td>\n",
       "    </tr>\n",
       "    <tr>\n",
       "      <th>1</th>\n",
       "      <td>Representative Abercrombie, Neil</td>\n",
       "      <td>https://www.congress.gov/member/neil-abercromb...</td>\n",
       "    </tr>\n",
       "    <tr>\n",
       "      <th>2</th>\n",
       "      <td>Senator Abourezk, James</td>\n",
       "      <td>https://www.congress.gov/member/james-abourezk...</td>\n",
       "    </tr>\n",
       "    <tr>\n",
       "      <th>3</th>\n",
       "      <td>Representative Abraham, Ralph Lee</td>\n",
       "      <td>https://www.congress.gov/member/ralph-abraham/...</td>\n",
       "    </tr>\n",
       "    <tr>\n",
       "      <th>4</th>\n",
       "      <td>Senator Abraham, Spencer</td>\n",
       "      <td>https://www.congress.gov/member/spencer-abraha...</td>\n",
       "    </tr>\n",
       "  </tbody>\n",
       "</table>\n",
       "</div>"
      ],
      "text/plain": [
       "                                name  \\\n",
       "0              Senator Abdnor, James   \n",
       "1   Representative Abercrombie, Neil   \n",
       "2            Senator Abourezk, James   \n",
       "3  Representative Abraham, Ralph Lee   \n",
       "4           Senator Abraham, Spencer   \n",
       "\n",
       "                                                 url  \n",
       "0  https://www.congress.gov/member/james-abdnor/A...  \n",
       "1  https://www.congress.gov/member/neil-abercromb...  \n",
       "2  https://www.congress.gov/member/james-abourezk...  \n",
       "3  https://www.congress.gov/member/ralph-abraham/...  \n",
       "4  https://www.congress.gov/member/spencer-abraha...  "
      ]
     },
     "execution_count": 35,
     "metadata": {},
     "output_type": "execute_result"
    }
   ],
   "source": [
    "df.head()"
   ]
  },
  {
   "cell_type": "code",
   "execution_count": 36,
   "metadata": {},
   "outputs": [
    {
     "data": {
      "text/plain": [
       "(2348, 2)"
      ]
     },
     "execution_count": 36,
     "metadata": {},
     "output_type": "execute_result"
    }
   ],
   "source": [
    "df.shape"
   ]
  },
  {
   "cell_type": "markdown",
   "metadata": {},
   "source": [
    "# Editing for fun"
   ]
  },
  {
   "cell_type": "code",
   "execution_count": 46,
   "metadata": {},
   "outputs": [
    {
     "data": {
      "text/html": [
       "<div>\n",
       "<style scoped>\n",
       "    .dataframe tbody tr th:only-of-type {\n",
       "        vertical-align: middle;\n",
       "    }\n",
       "\n",
       "    .dataframe tbody tr th {\n",
       "        vertical-align: top;\n",
       "    }\n",
       "\n",
       "    .dataframe thead th {\n",
       "        text-align: right;\n",
       "    }\n",
       "</style>\n",
       "<table border=\"1\" class=\"dataframe\">\n",
       "  <thead>\n",
       "    <tr style=\"text-align: right;\">\n",
       "      <th></th>\n",
       "      <th>name</th>\n",
       "      <th>url</th>\n",
       "      <th>slug</th>\n",
       "    </tr>\n",
       "  </thead>\n",
       "  <tbody>\n",
       "    <tr>\n",
       "      <th>0</th>\n",
       "      <td>Senator Abdnor, James</td>\n",
       "      <td>https://www.congress.gov/member/james-abdnor/A...</td>\n",
       "      <td>james-abdnor/A000009</td>\n",
       "    </tr>\n",
       "    <tr>\n",
       "      <th>1</th>\n",
       "      <td>Representative Abercrombie, Neil</td>\n",
       "      <td>https://www.congress.gov/member/neil-abercromb...</td>\n",
       "      <td>neil-abercrombie/A000014</td>\n",
       "    </tr>\n",
       "    <tr>\n",
       "      <th>2</th>\n",
       "      <td>Senator Abourezk, James</td>\n",
       "      <td>https://www.congress.gov/member/james-abourezk...</td>\n",
       "      <td>james-abourezk/A000017</td>\n",
       "    </tr>\n",
       "    <tr>\n",
       "      <th>3</th>\n",
       "      <td>Representative Abraham, Ralph Lee</td>\n",
       "      <td>https://www.congress.gov/member/ralph-abraham/...</td>\n",
       "      <td>ralph-abraham/A000374</td>\n",
       "    </tr>\n",
       "    <tr>\n",
       "      <th>4</th>\n",
       "      <td>Senator Abraham, Spencer</td>\n",
       "      <td>https://www.congress.gov/member/spencer-abraha...</td>\n",
       "      <td>spencer-abraham/A000355</td>\n",
       "    </tr>\n",
       "  </tbody>\n",
       "</table>\n",
       "</div>"
      ],
      "text/plain": [
       "                                name  \\\n",
       "0              Senator Abdnor, James   \n",
       "1   Representative Abercrombie, Neil   \n",
       "2            Senator Abourezk, James   \n",
       "3  Representative Abraham, Ralph Lee   \n",
       "4           Senator Abraham, Spencer   \n",
       "\n",
       "                                                 url                      slug  \n",
       "0  https://www.congress.gov/member/james-abdnor/A...      james-abdnor/A000009  \n",
       "1  https://www.congress.gov/member/neil-abercromb...  neil-abercrombie/A000014  \n",
       "2  https://www.congress.gov/member/james-abourezk...    james-abourezk/A000017  \n",
       "3  https://www.congress.gov/member/ralph-abraham/...     ralph-abraham/A000374  \n",
       "4  https://www.congress.gov/member/spencer-abraha...   spencer-abraham/A000355  "
      ]
     },
     "execution_count": 46,
     "metadata": {},
     "output_type": "execute_result"
    }
   ],
   "source": [
    "df['slug'] = df.url.str.replace(\"https://www.congress.gov/member/\", \"\")\n",
    "df.head()"
   ]
  },
  {
   "cell_type": "code",
   "execution_count": 49,
   "metadata": {},
   "outputs": [],
   "source": [
    "df.to_csv(\"congress.csv\", index=False)"
   ]
  },
  {
   "cell_type": "code",
   "execution_count": null,
   "metadata": {},
   "outputs": [],
   "source": []
  },
  {
   "cell_type": "code",
   "execution_count": null,
   "metadata": {},
   "outputs": [],
   "source": []
  },
  {
   "cell_type": "code",
   "execution_count": 37,
   "metadata": {},
   "outputs": [
    {
     "data": {
      "text/plain": [
       "'     \\n\\n\\n Hello .    my name is SOma \\n       how are you   \\n\\n    \\n'"
      ]
     },
     "execution_count": 37,
     "metadata": {},
     "output_type": "execute_result"
    }
   ],
   "source": [
    "summary = \"     \\n\\n\\n Hello .    my name is SOma \\n       how are you   \\n\\n    \\n\"\n",
    "summary"
   ]
  },
  {
   "cell_type": "code",
   "execution_count": 42,
   "metadata": {},
   "outputs": [
    {
     "name": "stdout",
     "output_type": "stream",
     "text": [
      "Hello .    my name is SOma \n",
      "       how are you\n"
     ]
    }
   ],
   "source": [
    "print(summary.strip())"
   ]
  },
  {
   "cell_type": "code",
   "execution_count": 43,
   "metadata": {},
   "outputs": [],
   "source": [
    "# import re\n",
    "# re.sub('\\s+', ' ', summary).strip()"
   ]
  },
  {
   "cell_type": "code",
   "execution_count": null,
   "metadata": {},
   "outputs": [],
   "source": []
  }
 ],
 "metadata": {
  "kernelspec": {
   "display_name": "Python 3",
   "language": "python",
   "name": "python3"
  },
  "language_info": {
   "codemirror_mode": {
    "name": "ipython",
    "version": 3
   },
   "file_extension": ".py",
   "mimetype": "text/x-python",
   "name": "python",
   "nbconvert_exporter": "python",
   "pygments_lexer": "ipython3",
   "version": "3.7.3"
  }
 },
 "nbformat": 4,
 "nbformat_minor": 2
}

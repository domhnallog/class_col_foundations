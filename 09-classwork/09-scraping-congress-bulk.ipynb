{
 "cells": [
  {
   "cell_type": "code",
   "execution_count": 3,
   "metadata": {},
   "outputs": [],
   "source": [
    "import requests\n",
    "import re\n",
    "import pandas as pd\n",
    "from bs4 import BeautifulSoup"
   ]
  },
  {
   "cell_type": "code",
   "execution_count": 16,
   "metadata": {},
   "outputs": [
    {
     "data": {
      "text/html": [
       "<div>\n",
       "<style scoped>\n",
       "    .dataframe tbody tr th:only-of-type {\n",
       "        vertical-align: middle;\n",
       "    }\n",
       "\n",
       "    .dataframe tbody tr th {\n",
       "        vertical-align: top;\n",
       "    }\n",
       "\n",
       "    .dataframe thead th {\n",
       "        text-align: right;\n",
       "    }\n",
       "</style>\n",
       "<table border=\"1\" class=\"dataframe\">\n",
       "  <thead>\n",
       "    <tr style=\"text-align: right;\">\n",
       "      <th></th>\n",
       "      <th>name_raw</th>\n",
       "      <th>slug</th>\n",
       "    </tr>\n",
       "  </thead>\n",
       "  <tbody>\n",
       "    <tr>\n",
       "      <th>0</th>\n",
       "      <td>Senator Abdnor, James</td>\n",
       "      <td>james-abdnor/A000009</td>\n",
       "    </tr>\n",
       "    <tr>\n",
       "      <th>1</th>\n",
       "      <td>Representative Abercrombie, Neil</td>\n",
       "      <td>neil-abercrombie/A000014</td>\n",
       "    </tr>\n",
       "    <tr>\n",
       "      <th>2</th>\n",
       "      <td>Senator Abourezk, James</td>\n",
       "      <td>james-abourezk/A000017</td>\n",
       "    </tr>\n",
       "    <tr>\n",
       "      <th>3</th>\n",
       "      <td>Representative Abraham, Ralph Lee</td>\n",
       "      <td>ralph-abraham/A000374</td>\n",
       "    </tr>\n",
       "    <tr>\n",
       "      <th>4</th>\n",
       "      <td>Senator Abraham, Spencer</td>\n",
       "      <td>spencer-abraham/A000355</td>\n",
       "    </tr>\n",
       "  </tbody>\n",
       "</table>\n",
       "</div>"
      ],
      "text/plain": [
       "                            name_raw                      slug\n",
       "0              Senator Abdnor, James      james-abdnor/A000009\n",
       "1   Representative Abercrombie, Neil  neil-abercrombie/A000014\n",
       "2            Senator Abourezk, James    james-abourezk/A000017\n",
       "3  Representative Abraham, Ralph Lee     ralph-abraham/A000374\n",
       "4           Senator Abraham, Spencer   spencer-abraham/A000355"
      ]
     },
     "execution_count": 16,
     "metadata": {},
     "output_type": "execute_result"
    }
   ],
   "source": [
    "df = pd.read_csv('congress.csv')\n",
    "df = df.drop(columns='link')\n",
    "df = df.head()\n",
    "df"
   ]
  },
  {
   "cell_type": "code",
   "execution_count": null,
   "metadata": {},
   "outputs": [],
   "source": [
    "# url_base = \"https://www.congress.gov/member/\"\n",
    "# response = requests.get(f'{url_base}{df.slug}')\n",
    "# doc = BeautifulSoup(response.text)"
   ]
  },
  {
   "cell_type": "code",
   "execution_count": 6,
   "metadata": {},
   "outputs": [],
   "source": [
    "url = \"https://www.congress.gov/member/james-abdnor/A000009\"\n",
    "response = requests.get(url)\n",
    "doc = BeautifulSoup(response.text)"
   ]
  },
  {
   "cell_type": "code",
   "execution_count": null,
   "metadata": {},
   "outputs": [],
   "source": [
    "# .find_next_sibling\n",
    "# .next_element"
   ]
  },
  {
   "cell_type": "code",
   "execution_count": 11,
   "metadata": {},
   "outputs": [
    {
     "name": "stdout",
     "output_type": "stream",
     "text": [
      "Senator James Abdnor  (1923 - 2012) In Congress 1973 - 1987 1-100                \r\n",
      "                of 1,949\n"
     ]
    }
   ],
   "source": [
    "name = doc.find(class_='legDetail').next_element\n",
    "dateslife = doc.find(class_='birthdate').text \n",
    "datesserve = doc.find(class_='birthdate').find_next_sibling('span').text\n",
    "billcount = doc.select_one('#searchTune > div.basic-search-tune-number > span').text.strip()\n",
    "print(name,dateslife,datesserve,billcount)"
   ]
  },
  {
   "cell_type": "code",
   "execution_count": 13,
   "metadata": {},
   "outputs": [
    {
     "data": {
      "text/plain": [
       "{'name': 'Senator James Abdnor',\n",
       " 'dateslife': ' (1923 - 2012)',\n",
       " 'datesserve': 'In Congress 1973 - 1987',\n",
       " 'billcount': '1-100                \\r\\n                of 1,949'}"
      ]
     },
     "execution_count": 13,
     "metadata": {},
     "output_type": "execute_result"
    }
   ],
   "source": [
    "bio = {}\n",
    "bio['name'] = doc.find(class_='legDetail').next_element\n",
    "bio['dateslife'] = doc.find(class_='birthdate').text \n",
    "bio['datesserve'] = doc.find(class_='birthdate').find_next_sibling('span').text\n",
    "bio['billcount'] = doc.select_one('#searchTune > div.basic-search-tune-number > span').text.strip()\n",
    "bio"
   ]
  },
  {
   "cell_type": "code",
   "execution_count": null,
   "metadata": {},
   "outputs": [],
   "source": [
    "url_base = \"https://www.congress.gov/member/\"\n",
    "response = requests.get(f'{url_base}{row['slug']}')\n",
    "doc = BeautifulSoup(response.text)\n",
    "\n",
    "bio = {}\n",
    "bio['nametitle'] = doc.find(class_='legDetail').next_element\n",
    "bio['dateslife'] = doc.find(class_='birthdate').text \n",
    "bio['datesserve'] = doc.find(class_='birthdate').find_next_sibling('span').text\n",
    "bio['billcount'] = doc.select_one('#searchTune > div.basic-search-tune-number > span').text.strip()\n",
    "bio"
   ]
  },
  {
   "cell_type": "code",
   "execution_count": 17,
   "metadata": {},
   "outputs": [],
   "source": [
    "# Building a function\n",
    "def scrape_page(row):\n",
    "    url_base = \"https://www.congress.gov/member/\""
   ]
  },
  {
   "cell_type": "code",
   "execution_count": null,
   "metadata": {},
   "outputs": [],
   "source": [
    "    response = requests.get(f'{url_base}{row['slug']}')\n",
    "    doc = BeautifulSoup(response.text)\n",
    "    bio = {}\n",
    "    bio['nametitle'] = doc.find(class_='legDetail').next_element\n",
    "    bio['dateslife'] = doc.find(class_='birthdate').text \n",
    "    bio['datesserve'] = doc.find(class_='birthdate').find_next_sibling('span').text\n",
    "    bio['billcount'] = doc.select_one('#searchTune > div.basic-search-tune-number > span').text.strip()\n",
    "    return pd.Series(bio)"
   ]
  },
  {
   "cell_type": "code",
   "execution_count": null,
   "metadata": {},
   "outputs": [],
   "source": [
    "scrape_page.df"
   ]
  },
  {
   "cell_type": "code",
   "execution_count": 18,
   "metadata": {},
   "outputs": [
    {
     "name": "stdout",
     "output_type": "stream",
     "text": [
      "james-abdnor/A000009\n",
      "neil-abercrombie/A000014\n",
      "james-abourezk/A000017\n",
      "ralph-abraham/A000374\n",
      "spencer-abraham/A000355\n"
     ]
    },
    {
     "data": {
      "text/plain": [
       "0    None\n",
       "1    None\n",
       "2    None\n",
       "3    None\n",
       "4    None\n",
       "dtype: object"
      ]
     },
     "execution_count": 18,
     "metadata": {},
     "output_type": "execute_result"
    }
   ],
   "source": [
    "df.apply(scrape_page, axis=1)"
   ]
  },
  {
   "cell_type": "code",
   "execution_count": null,
   "metadata": {},
   "outputs": [],
   "source": []
  }
 ],
 "metadata": {
  "kernelspec": {
   "display_name": "Python 3",
   "language": "python",
   "name": "python3"
  },
  "language_info": {
   "codemirror_mode": {
    "name": "ipython",
    "version": 3
   },
   "file_extension": ".py",
   "mimetype": "text/x-python",
   "name": "python",
   "nbconvert_exporter": "python",
   "pygments_lexer": "ipython3",
   "version": "3.7.3"
  }
 },
 "nbformat": 4,
 "nbformat_minor": 2
}

{
 "cells": [
  {
   "cell_type": "markdown",
   "metadata": {},
   "source": [
    "# NEISS, Part 2 (this class)\n",
    "\n",
    "* **Dataset:** `neiss2017.tsv` (kind of) - NEISS, again! But an old one, because the newer one is too nice.\n",
    "* **Source:** https://www.cpsc.gov/Research--Statistics/NEISS-Injury-Data\n",
    "* **Topics:**\n",
    "    - filtering with `.str.contains` and simple anchored regular expressions\n",
    "    - pulling out text with `.str.extract`\n",
    "    - pandas display options\n",
    "    - joining/merging tables\n",
    "    - datetime parsing and manipulation"
   ]
  },
  {
   "cell_type": "markdown",
   "metadata": {},
   "source": [
    "## 1) Let's only take out punchers\n",
    "\n",
    "* After we learn this, what else can we do?"
   ]
  },
  {
   "cell_type": "code",
   "execution_count": null,
   "metadata": {},
   "outputs": [],
   "source": []
  },
  {
   "cell_type": "markdown",
   "metadata": {},
   "source": [
    "## 2) Let's only take out _wall_ punchers\n",
    "\n",
    "* After we learn this, what else can we do?"
   ]
  },
  {
   "cell_type": "code",
   "execution_count": null,
   "metadata": {},
   "outputs": [],
   "source": []
  },
  {
   "cell_type": "markdown",
   "metadata": {},
   "source": [
    "## 3) What month do people punch walls in?\n",
    "\n",
    "* After we learn this, what else can we do?"
   ]
  },
  {
   "cell_type": "code",
   "execution_count": null,
   "metadata": {},
   "outputs": [],
   "source": []
  },
  {
   "cell_type": "markdown",
   "metadata": {},
   "source": [
    "## 4) What else do people punch?\n",
    "\n",
    "* After we learn this, what else can we do?"
   ]
  },
  {
   "cell_type": "code",
   "execution_count": null,
   "metadata": {},
   "outputs": [],
   "source": []
  }
 ],
 "metadata": {
  "kernelspec": {
   "display_name": "Python 3",
   "language": "python",
   "name": "python3"
  },
  "language_info": {
   "codemirror_mode": {
    "name": "ipython",
    "version": 3
   },
   "file_extension": ".py",
   "mimetype": "text/x-python",
   "name": "python",
   "nbconvert_exporter": "python",
   "pygments_lexer": "ipython3",
   "version": "3.6.7"
  }
 },
 "nbformat": 4,
 "nbformat_minor": 2
}
